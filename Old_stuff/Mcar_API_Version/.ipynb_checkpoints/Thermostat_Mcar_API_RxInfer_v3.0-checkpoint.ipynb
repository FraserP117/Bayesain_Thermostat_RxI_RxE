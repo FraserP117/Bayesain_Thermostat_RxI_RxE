{
 "cells": [
  {
   "cell_type": "markdown",
   "id": "04af69ef",
   "metadata": {},
   "source": [
    "# Thermostat - Rxinfer Version 3.0"
   ]
  },
  {
   "cell_type": "code",
   "execution_count": 1,
   "id": "a6ee04e0",
   "metadata": {},
   "outputs": [
    {
     "name": "stderr",
     "output_type": "stream",
     "text": [
      "\u001b[32m\u001b[1m  Activating\u001b[22m\u001b[39m project at `~/Desktop/Active_Inference_Institute/RxInfer_Group/RxEnvironments`\n"
     ]
    }
   ],
   "source": [
    "import Pkg; Pkg.activate(\"..\"); Pkg.instantiate();"
   ]
  },
  {
   "cell_type": "code",
   "execution_count": 2,
   "id": "77abeb37",
   "metadata": {},
   "outputs": [],
   "source": [
    "using RxInfer\n",
    "using RxEnvironments\n",
    "using Distributions\n",
    "using LaTeXStrings\n",
    "using Plots\n",
    "using GraphPlot\n",
    "using Cairo"
   ]
  },
  {
   "cell_type": "markdown",
   "id": "e3fc2026",
   "metadata": {},
   "source": [
    "## The Problem"
   ]
  },
  {
   "cell_type": "markdown",
   "id": "56544c41",
   "metadata": {},
   "source": [
    "The environment shall consist of the open interval: $I_P = [0, \\infty) \\subset \\mathbb{R}$, along with a real-valued function defined on this interval. This function returns the temperature at position $z \\in I_P$. Let this function, $T(z)$ be defined via:\n",
    "\n",
    "\\begin{equation}\n",
    "    T(z) = \\frac{T_0}{z^2 + 1}\n",
    "\\end{equation}\n",
    "\n",
    "Where $T_0$ is the temperature at $z = 0$. We shall use $T_0 = 100$.\n",
    "\n",
    "Hence there is no \"process\" to speak of, as this environment is entirely static. \n",
    "\n",
    "We'll assume that the agent observes a noisy temperature. Hence, letting $y_t$ stand for the observation at time $t$, we'll define $y_t$ via:\n",
    "\n",
    "\\begin{equation}\n",
    "    y_t \\sim \\mathcal{N}(T(z_t), \\vartheta)\n",
    "\\end{equation}\n",
    "\n",
    "Where $\\vartheta = 10^{-2}$.\n",
    "\n",
    "Lastly, we shall assume that the agent's only action affordance is to set its own velocity. hence $a_t$ is to be the velocity of the agent at time $t$. This results in a simple update to the agent's position:\n",
    "\n",
    "\\begin{equation}\n",
    "    z_t = z_{t-t} + a_t\n",
    "\\end{equation}"
   ]
  },
  {
   "cell_type": "code",
   "execution_count": 3,
   "id": "89b0e09a",
   "metadata": {},
   "outputs": [
    {
     "data": {
      "text/plain": [
       "temp (generic function with 1 method)"
      ]
     },
     "execution_count": 3,
     "metadata": {},
     "output_type": "execute_result"
    }
   ],
   "source": [
    "function temp(position::Float64, init_temp::Float64)\n",
    "    return init_temp / (position^2 + 1)\n",
    "end"
   ]
  },
  {
   "cell_type": "code",
   "execution_count": 4,
   "id": "02e92a0f",
   "metadata": {},
   "outputs": [
    {
     "data": {
      "image/png": "[encoded data removed]",
      "image/svg+xml": [
       "<?xml version=\"1.0\" encoding=\"utf-8\"?>\n",
       "<svg xmlns=\"http://www.w3.org/2000/svg\" xmlns:xlink=\"http://www.w3.org/1999/xlink\" width=\"600\" height=\"400\" viewBox=\"0 0 2400 1600\">\n",
       "<defs>\n",
       "  <clipPath id=\"clip950\">\n",
       "    <rect x=\"0\" y=\"0\" width=\"2400\" height=\"1600\"/>\n",
       "  </clipPath>\n",
       "</defs>\n",
       "<path clip-path=\"url(#clip950)\" d=\"M0 1600 L2400 1600 L2400 0 L0 0  Z\" fill=\"#ffffff\" fill-rule=\"evenodd\" fill-opacity=\"1\"/>\n",
       "<defs>\n",
       "  <clipPath id=\"clip951\">\n",
       "    <rect x=\"480\" y=\"0\" width=\"1681\" height=\"1600\"/>\n",
       "  </clipPath>\n",
       "</defs>\n",
       "<path clip-path=\"url(#clip950)\" d=\"M232.389 1423.18 L2352.76 1423.18 L2352.76 123.472 L232.389 123.472  Z\" fill=\"#ffffff\" fill-rule=\"evenodd\" fill-opacity=\"1\"/>\n",
       "<defs>\n",
       "  <clipPath id=\"clip952\">\n",
       "    <rect x=\"232\" y=\"123\" width=\"2121\" height=\"1301\"/>\n",
       "  </clipPath>\n",
       "</defs>\n",
       "<polyline clip-path=\"url(#clip952)\" style=\"stroke:#000000; stroke-linecap:round; stroke-linejoin:round; stroke-width:2; stroke-opacity:0.1; fill:none\" points=\"292.4,1423.18 292.4,123.472 \"/>\n",
       "<polyline clip-path=\"url(#clip952)\" style=\"stroke:#000000; stroke-linecap:round; stroke-linejoin:round; stroke-width:2; stroke-opacity:0.1; fill:none\" points=\"792.486,1423.18 792.486,123.472 \"/>\n",
       "<polyline clip-path=\"url(#clip952)\" style=\"stroke:#000000; stroke-linecap:round; stroke-linejoin:round; stroke-width:2; stroke-opacity:0.1; fill:none\" points=\"1292.57,1423.18 1292.57,123.472 \"/>\n",
       "<polyline clip-path=\"url(#clip952)\" style=\"stroke:#000000; stroke-linecap:round; stroke-linejoin:round; stroke-width:2; stroke-opacity:0.1; fill:none\" points=\"1792.66,1423.18 1792.66,123.472 \"/>\n",
       "<polyline clip-path=\"url(#clip952)\" style=\"stroke:#000000; stroke-linecap:round; stroke-linejoin:round; stroke-width:2; stroke-opacity:0.1; fill:none\" points=\"2292.75,1423.18 2292.75,123.472 \"/>\n",
       "<polyline clip-path=\"url(#clip950)\" style=\"stroke:#000000; stroke-linecap:round; stroke-linejoin:round; stroke-width:4; stroke-opacity:1; fill:none\" points=\"232.389,1423.18 2352.76,1423.18 \"/>\n",
       "<polyline clip-path=\"url(#clip950)\" style=\"stroke:#000000; stroke-linecap:round; stroke-linejoin:round; stroke-width:4; stroke-opacity:1; fill:none\" points=\"292.4,1423.18 292.4,1404.28 \"/>\n",
       "<polyline clip-path=\"url(#clip950)\" style=\"stroke:#000000; stroke-linecap:round; stroke-linejoin:round; stroke-width:4; stroke-opacity:1; fill:none\" points=\"792.486,1423.18 792.486,1404.28 \"/>\n",
       "<polyline clip-path=\"url(#clip950)\" style=\"stroke:#000000; stroke-linecap:round; stroke-linejoin:round; stroke-width:4; stroke-opacity:1; fill:none\" points=\"1292.57,1423.18 1292.57,1404.28 \"/>\n",
       "<polyline clip-path=\"url(#clip950)\" style=\"stroke:#000000; stroke-linecap:round; stroke-linejoin:round; stroke-width:4; stroke-opacity:1; fill:none\" points=\"1792.66,1423.18 1792.66,1404.28 \"/>\n",
       "<polyline clip-path=\"url(#clip950)\" style=\"stroke:#000000; stroke-linecap:round; stroke-linejoin:round; stroke-width:4; stroke-opacity:1; fill:none\" points=\"2292.75,1423.18 2292.75,1404.28 \"/>\n",
       "<path clip-path=\"url(#clip950)\" d=\"M269.784 1454.1 Q266.173 1454.1 264.344 1457.66 Q262.539 1461.2 262.539 1468.33 Q262.539 1475.44 264.344 1479.01 Q266.173 1482.55 269.784 1482.55 Q273.418 1482.55 275.224 1479.01 Q277.053 1475.44 277.053 1468.33 Q277.053 1461.2 275.224 1457.66 Q273.418 1454.1 269.784 1454.1 M269.784 1450.39 Q275.594 1450.39 278.65 1455 Q281.728 1459.58 281.728 1468.33 Q281.728 1477.06 278.65 1481.67 Q275.594 1486.25 269.784 1486.25 Q263.974 1486.25 260.895 1481.67 Q257.84 1477.06 257.84 1468.33 Q257.84 1459.58 260.895 1455 Q263.974 1450.39 269.784 1450.39 Z\" fill=\"#000000\" fill-rule=\"nonzero\" fill-opacity=\"1\" /><path clip-path=\"url(#clip950)\" d=\"M289.946 1479.7 L294.83 1479.7 L294.83 1485.58 L289.946 1485.58 L289.946 1479.7 Z\" fill=\"#000000\" fill-rule=\"nonzero\" fill-opacity=\"1\" /><path clip-path=\"url(#clip950)\" d=\"M315.015 1454.1 Q311.404 1454.1 309.576 1457.66 Q307.77 1461.2 307.77 1468.33 Q307.77 1475.44 309.576 1479.01 Q311.404 1482.55 315.015 1482.55 Q318.65 1482.55 320.455 1479.01 Q322.284 1475.44 322.284 1468.33 Q322.284 1461.2 320.455 1457.66 Q318.65 1454.1 315.015 1454.1 M315.015 1450.39 Q320.825 1450.39 323.881 1455 Q326.96 1459.58 326.96 1468.33 Q326.96 1477.06 323.881 1481.67 Q320.825 1486.25 315.015 1486.25 Q309.205 1486.25 306.126 1481.67 Q303.071 1477.06 303.071 1468.33 Q303.071 1459.58 306.126 1455 Q309.205 1450.39 315.015 1450.39 Z\" fill=\"#000000\" fill-rule=\"nonzero\" fill-opacity=\"1\" /><path clip-path=\"url(#clip950)\" d=\"M764.222 1481.64 L780.542 1481.64 L780.542 1485.58 L758.597 1485.58 L758.597 1481.64 Q761.259 1478.89 765.843 1474.26 Q770.449 1469.61 771.63 1468.27 Q773.875 1465.74 774.755 1464.01 Q775.658 1462.25 775.658 1460.56 Q775.658 1457.8 773.713 1456.07 Q771.792 1454.33 768.69 1454.33 Q766.491 1454.33 764.037 1455.09 Q761.607 1455.86 758.829 1457.41 L758.829 1452.69 Q761.653 1451.55 764.107 1450.97 Q766.56 1450.39 768.597 1450.39 Q773.968 1450.39 777.162 1453.08 Q780.357 1455.77 780.357 1460.26 Q780.357 1462.39 779.546 1464.31 Q778.759 1466.2 776.653 1468.8 Q776.074 1469.47 772.972 1472.69 Q769.871 1475.88 764.222 1481.64 Z\" fill=\"#000000\" fill-rule=\"nonzero\" fill-opacity=\"1\" /><path clip-path=\"url(#clip950)\" d=\"M790.357 1479.7 L795.241 1479.7 L795.241 1485.58 L790.357 1485.58 L790.357 1479.7 Z\" fill=\"#000000\" fill-rule=\"nonzero\" fill-opacity=\"1\" /><path clip-path=\"url(#clip950)\" d=\"M805.472 1451.02 L823.829 1451.02 L823.829 1454.96 L809.755 1454.96 L809.755 1463.43 Q810.773 1463.08 811.792 1462.92 Q812.81 1462.73 813.829 1462.73 Q819.616 1462.73 822.995 1465.9 Q826.375 1469.08 826.375 1474.49 Q826.375 1480.07 822.903 1483.17 Q819.43 1486.25 813.111 1486.25 Q810.935 1486.25 808.667 1485.88 Q806.421 1485.51 804.014 1484.77 L804.014 1480.07 Q806.097 1481.2 808.319 1481.76 Q810.542 1482.32 813.018 1482.32 Q817.023 1482.32 819.361 1480.21 Q821.699 1478.1 821.699 1474.49 Q821.699 1470.88 819.361 1468.77 Q817.023 1466.67 813.018 1466.67 Q811.143 1466.67 809.268 1467.08 Q807.417 1467.5 805.472 1468.38 L805.472 1451.02 Z\" fill=\"#000000\" fill-rule=\"nonzero\" fill-opacity=\"1\" /><path clip-path=\"url(#clip950)\" d=\"M1259.74 1451.02 L1278.09 1451.02 L1278.09 1454.96 L1264.02 1454.96 L1264.02 1463.43 Q1265.04 1463.08 1266.06 1462.92 Q1267.08 1462.73 1268.09 1462.73 Q1273.88 1462.73 1277.26 1465.9 Q1280.64 1469.08 1280.64 1474.49 Q1280.64 1480.07 1277.17 1483.17 Q1273.7 1486.25 1267.38 1486.25 Q1265.2 1486.25 1262.93 1485.88 Q1260.69 1485.51 1258.28 1484.77 L1258.28 1480.07 Q1260.36 1481.2 1262.58 1481.76 Q1264.81 1482.32 1267.28 1482.32 Q1271.29 1482.32 1273.63 1480.21 Q1275.96 1478.1 1275.96 1474.49 Q1275.96 1470.88 1273.63 1468.77 Q1271.29 1466.67 1267.28 1466.67 Q1265.41 1466.67 1263.53 1467.08 Q1261.68 1467.5 1259.74 1468.38 L1259.74 1451.02 Z\" fill=\"#000000\" fill-rule=\"nonzero\" fill-opacity=\"1\" /><path clip-path=\"url(#clip950)\" d=\"M1289.85 1479.7 L1294.74 1479.7 L1294.74 1485.58 L1289.85 1485.58 L1289.85 1479.7 Z\" fill=\"#000000\" fill-rule=\"nonzero\" fill-opacity=\"1\" /><path clip-path=\"url(#clip950)\" d=\"M1314.92 1454.1 Q1311.31 1454.1 1309.48 1457.66 Q1307.68 1461.2 1307.68 1468.33 Q1307.68 1475.44 1309.48 1479.01 Q1311.31 1482.55 1314.92 1482.55 Q1318.56 1482.55 1320.36 1479.01 Q1322.19 1475.44 1322.19 1468.33 Q1322.19 1461.2 1320.36 1457.66 Q1318.56 1454.1 1314.92 1454.1 M1314.92 1450.39 Q1320.73 1450.39 1323.79 1455 Q1326.87 1459.58 1326.87 1468.33 Q1326.87 1477.06 1323.79 1481.67 Q1320.73 1486.25 1314.92 1486.25 Q1309.11 1486.25 1306.03 1481.67 Q1302.98 1477.06 1302.98 1468.33 Q1302.98 1459.58 1306.03 1455 Q1309.11 1450.39 1314.92 1450.39 Z\" fill=\"#000000\" fill-rule=\"nonzero\" fill-opacity=\"1\" /><path clip-path=\"url(#clip950)\" d=\"M1758.98 1451.02 L1781.2 1451.02 L1781.2 1453.01 L1768.65 1485.58 L1763.77 1485.58 L1775.58 1454.96 L1758.98 1454.96 L1758.98 1451.02 Z\" fill=\"#000000\" fill-rule=\"nonzero\" fill-opacity=\"1\" /><path clip-path=\"url(#clip950)\" d=\"M1790.32 1479.7 L1795.21 1479.7 L1795.21 1485.58 L1790.32 1485.58 L1790.32 1479.7 Z\" fill=\"#000000\" fill-rule=\"nonzero\" fill-opacity=\"1\" /><path clip-path=\"url(#clip950)\" d=\"M1805.44 1451.02 L1823.79 1451.02 L1823.79 1454.96 L1809.72 1454.96 L1809.72 1463.43 Q1810.74 1463.08 1811.76 1462.92 Q1812.77 1462.73 1813.79 1462.73 Q1819.58 1462.73 1822.96 1465.9 Q1826.34 1469.08 1826.34 1474.49 Q1826.34 1480.07 1822.87 1483.17 Q1819.4 1486.25 1813.08 1486.25 Q1810.9 1486.25 1808.63 1485.88 Q1806.39 1485.51 1803.98 1484.77 L1803.98 1480.07 Q1806.06 1481.2 1808.28 1481.76 Q1810.51 1482.32 1812.98 1482.32 Q1816.99 1482.32 1819.33 1480.21 Q1821.66 1478.1 1821.66 1474.49 Q1821.66 1470.88 1819.33 1468.77 Q1816.99 1466.67 1812.98 1466.67 Q1811.11 1466.67 1809.23 1467.08 Q1807.38 1467.5 1805.44 1468.38 L1805.44 1451.02 Z\" fill=\"#000000\" fill-rule=\"nonzero\" fill-opacity=\"1\" /><path clip-path=\"url(#clip950)\" d=\"M2244.82 1481.64 L2252.46 1481.64 L2252.46 1455.28 L2244.15 1456.95 L2244.15 1452.69 L2252.41 1451.02 L2257.09 1451.02 L2257.09 1481.64 L2264.72 1481.64 L2264.72 1485.58 L2244.82 1485.58 L2244.82 1481.64 Z\" fill=\"#000000\" fill-rule=\"nonzero\" fill-opacity=\"1\" /><path clip-path=\"url(#clip950)\" d=\"M2284.17 1454.1 Q2280.56 1454.1 2278.73 1457.66 Q2276.92 1461.2 2276.92 1468.33 Q2276.92 1475.44 2278.73 1479.01 Q2280.56 1482.55 2284.17 1482.55 Q2287.8 1482.55 2289.61 1479.01 Q2291.44 1475.44 2291.44 1468.33 Q2291.44 1461.2 2289.61 1457.66 Q2287.8 1454.1 2284.17 1454.1 M2284.17 1450.39 Q2289.98 1450.39 2293.03 1455 Q2296.11 1459.58 2296.11 1468.33 Q2296.11 1477.06 2293.03 1481.67 Q2289.98 1486.25 2284.17 1486.25 Q2278.36 1486.25 2275.28 1481.67 Q2272.22 1477.06 2272.22 1468.33 Q2272.22 1459.58 2275.28 1455 Q2278.36 1450.39 2284.17 1450.39 Z\" fill=\"#000000\" fill-rule=\"nonzero\" fill-opacity=\"1\" /><path clip-path=\"url(#clip950)\" d=\"M2304.33 1479.7 L2309.22 1479.7 L2309.22 1485.58 L2304.33 1485.58 L2304.33 1479.7 Z\" fill=\"#000000\" fill-rule=\"nonzero\" fill-opacity=\"1\" /><path clip-path=\"url(#clip950)\" d=\"M2329.4 1454.1 Q2325.79 1454.1 2323.96 1457.66 Q2322.16 1461.2 2322.16 1468.33 Q2322.16 1475.44 2323.96 1479.01 Q2325.79 1482.55 2329.4 1482.55 Q2333.03 1482.55 2334.84 1479.01 Q2336.67 1475.44 2336.67 1468.33 Q2336.67 1461.2 2334.84 1457.66 Q2333.03 1454.1 2329.4 1454.1 M2329.4 1450.39 Q2335.21 1450.39 2338.27 1455 Q2341.34 1459.58 2341.34 1468.33 Q2341.34 1477.06 2338.27 1481.67 Q2335.21 1486.25 2329.4 1486.25 Q2323.59 1486.25 2320.51 1481.67 Q2317.46 1477.06 2317.46 1468.33 Q2317.46 1459.58 2320.51 1455 Q2323.59 1450.39 2329.4 1450.39 Z\" fill=\"#000000\" fill-rule=\"nonzero\" fill-opacity=\"1\" /><path clip-path=\"url(#clip950)\" d=\"M1305.34 1525.1 Q1305.34 1525.33 1304.8 1526.29 Q1304.28 1527.23 1302.38 1529.58 Q1300.48 1531.93 1297.65 1534.67 Q1296.58 1535.73 1294.97 1537.21 Q1293.36 1538.69 1292.27 1539.66 L1291.17 1540.62 Q1286.99 1544.17 1283.31 1548.13 Q1283.57 1548.03 1284.02 1548 Q1284.47 1547.93 1284.8 1547.93 L1285.12 1547.93 Q1286.79 1547.93 1289.72 1549.06 Q1292.3 1549.9 1293.62 1549.9 Q1294.91 1549.9 1296.33 1549.45 Q1297.74 1549 1299.29 1547.68 Q1300.83 1546.36 1301.54 1544.36 Q1301.67 1544.04 1301.74 1543.94 Q1301.8 1543.81 1301.99 1543.68 Q1302.19 1543.52 1302.45 1543.52 Q1302.8 1543.52 1303.02 1543.71 Q1303.25 1543.91 1303.25 1544.17 Q1303.25 1544.75 1302.8 1545.9 Q1302.38 1547.06 1301.45 1548.51 Q1300.54 1549.96 1299.35 1551.28 Q1298.19 1552.57 1296.45 1553.47 Q1294.72 1554.34 1292.88 1554.34 Q1291.56 1554.34 1290.59 1553.7 Q1289.63 1553.09 1288.66 1551.9 Q1287.34 1550.38 1286.63 1549.9 Q1285.92 1549.38 1284.83 1549.38 Q1281.9 1549.38 1279.22 1553.47 Q1278.93 1554.05 1278.74 1554.18 Q1278.58 1554.34 1278.19 1554.34 Q1277.39 1554.31 1277.39 1553.67 Q1277.39 1553.41 1278.1 1552.28 Q1278.84 1551.12 1280.48 1549.09 Q1282.16 1547.06 1284.18 1545.04 L1290.11 1539.5 Q1296.68 1533.96 1299.29 1530.83 Q1298.19 1530.83 1297.71 1530.8 Q1297.26 1530.77 1296.36 1530.57 Q1295.46 1530.35 1294.2 1529.87 Q1291.27 1528.87 1290.05 1528.87 Q1289.72 1528.87 1289.37 1528.9 Q1289.02 1528.93 1288.21 1529.09 Q1287.44 1529.25 1286.79 1529.58 Q1286.15 1529.87 1285.47 1530.51 Q1284.8 1531.12 1284.44 1531.96 Q1284.35 1532.22 1284.28 1532.35 Q1284.22 1532.48 1284.02 1532.6 Q1283.86 1532.7 1283.6 1532.7 Q1283.22 1532.7 1282.99 1532.48 Q1282.8 1532.25 1282.8 1531.96 Q1282.8 1531.38 1283.38 1530.19 Q1283.96 1529 1284.93 1527.71 Q1285.89 1526.39 1287.47 1525.42 Q1289.05 1524.46 1290.79 1524.46 Q1291.82 1524.46 1292.69 1524.91 Q1293.59 1525.36 1294.04 1525.84 Q1294.52 1526.29 1295.33 1527.29 Q1296 1528.06 1296.33 1528.38 Q1296.65 1528.71 1297.29 1529.06 Q1297.97 1529.38 1298.71 1529.38 Q1299.93 1529.38 1301.06 1528.45 Q1302.19 1527.48 1303.64 1525.16 Q1304.02 1524.46 1304.64 1524.46 Q1305.34 1524.46 1305.34 1525.1 Z\" fill=\"#000000\" fill-rule=\"nonzero\" fill-opacity=\"1\" /><polyline clip-path=\"url(#clip952)\" style=\"stroke:#000000; stroke-linecap:round; stroke-linejoin:round; stroke-width:2; stroke-opacity:0.1; fill:none\" points=\"232.389,1392.56 2352.76,1392.56 \"/>\n",
       "<polyline clip-path=\"url(#clip952)\" style=\"stroke:#000000; stroke-linecap:round; stroke-linejoin:round; stroke-width:2; stroke-opacity:0.1; fill:none\" points=\"232.389,1084.48 2352.76,1084.48 \"/>\n",
       "<polyline clip-path=\"url(#clip952)\" style=\"stroke:#000000; stroke-linecap:round; stroke-linejoin:round; stroke-width:2; stroke-opacity:0.1; fill:none\" points=\"232.389,776.407 2352.76,776.407 \"/>\n",
       "<polyline clip-path=\"url(#clip952)\" style=\"stroke:#000000; stroke-linecap:round; stroke-linejoin:round; stroke-width:2; stroke-opacity:0.1; fill:none\" points=\"232.389,468.332 2352.76,468.332 \"/>\n",
       "<polyline clip-path=\"url(#clip952)\" style=\"stroke:#000000; stroke-linecap:round; stroke-linejoin:round; stroke-width:2; stroke-opacity:0.1; fill:none\" points=\"232.389,160.256 2352.76,160.256 \"/>\n",
       "<polyline clip-path=\"url(#clip950)\" style=\"stroke:#000000; stroke-linecap:round; stroke-linejoin:round; stroke-width:4; stroke-opacity:1; fill:none\" points=\"232.389,1423.18 232.389,123.472 \"/>\n",
       "<polyline clip-path=\"url(#clip950)\" style=\"stroke:#000000; stroke-linecap:round; stroke-linejoin:round; stroke-width:4; stroke-opacity:1; fill:none\" points=\"232.389,1392.56 251.287,1392.56 \"/>\n",
       "<polyline clip-path=\"url(#clip950)\" style=\"stroke:#000000; stroke-linecap:round; stroke-linejoin:round; stroke-width:4; stroke-opacity:1; fill:none\" points=\"232.389,1084.48 251.287,1084.48 \"/>\n",
       "<polyline clip-path=\"url(#clip950)\" style=\"stroke:#000000; stroke-linecap:round; stroke-linejoin:round; stroke-width:4; stroke-opacity:1; fill:none\" points=\"232.389,776.407 251.287,776.407 \"/>\n",
       "<polyline clip-path=\"url(#clip950)\" style=\"stroke:#000000; stroke-linecap:round; stroke-linejoin:round; stroke-width:4; stroke-opacity:1; fill:none\" points=\"232.389,468.332 251.287,468.332 \"/>\n",
       "<polyline clip-path=\"url(#clip950)\" style=\"stroke:#000000; stroke-linecap:round; stroke-linejoin:round; stroke-width:4; stroke-opacity:1; fill:none\" points=\"232.389,160.256 251.287,160.256 \"/>\n",
       "<path clip-path=\"url(#clip950)\" d=\"M184.445 1378.36 Q180.834 1378.36 179.005 1381.92 Q177.2 1385.46 177.2 1392.59 Q177.2 1399.7 179.005 1403.26 Q180.834 1406.8 184.445 1406.8 Q188.079 1406.8 189.885 1403.26 Q191.713 1399.7 191.713 1392.59 Q191.713 1385.46 189.885 1381.92 Q188.079 1378.36 184.445 1378.36 M184.445 1374.65 Q190.255 1374.65 193.311 1379.26 Q196.389 1383.84 196.389 1392.59 Q196.389 1401.32 193.311 1405.93 Q190.255 1410.51 184.445 1410.51 Q178.635 1410.51 175.556 1405.93 Q172.501 1401.32 172.501 1392.59 Q172.501 1383.84 175.556 1379.26 Q178.635 1374.65 184.445 1374.65 Z\" fill=\"#000000\" fill-rule=\"nonzero\" fill-opacity=\"1\" /><path clip-path=\"url(#clip950)\" d=\"M149.306 1097.83 L165.626 1097.83 L165.626 1101.76 L143.681 1101.76 L143.681 1097.83 Q146.343 1095.07 150.927 1090.44 Q155.533 1085.79 156.714 1084.45 Q158.959 1081.92 159.839 1080.19 Q160.741 1078.43 160.741 1076.74 Q160.741 1073.98 158.797 1072.25 Q156.876 1070.51 153.774 1070.51 Q151.575 1070.51 149.121 1071.28 Q146.691 1072.04 143.913 1073.59 L143.913 1068.87 Q146.737 1067.73 149.191 1067.16 Q151.644 1066.58 153.681 1066.58 Q159.052 1066.58 162.246 1069.26 Q165.44 1071.95 165.44 1076.44 Q165.44 1078.57 164.63 1080.49 Q163.843 1082.39 161.737 1084.98 Q161.158 1085.65 158.056 1088.87 Q154.954 1092.06 149.306 1097.83 Z\" fill=\"#000000\" fill-rule=\"nonzero\" fill-opacity=\"1\" /><path clip-path=\"url(#clip950)\" d=\"M175.487 1067.2 L193.843 1067.2 L193.843 1071.14 L179.769 1071.14 L179.769 1079.61 Q180.788 1079.26 181.806 1079.1 Q182.825 1078.91 183.843 1078.91 Q189.63 1078.91 193.01 1082.09 Q196.389 1085.26 196.389 1090.67 Q196.389 1096.25 192.917 1099.35 Q189.445 1102.43 183.126 1102.43 Q180.95 1102.43 178.681 1102.06 Q176.436 1101.69 174.028 1100.95 L174.028 1096.25 Q176.112 1097.39 178.334 1097.94 Q180.556 1098.5 183.033 1098.5 Q187.038 1098.5 189.375 1096.39 Q191.713 1094.29 191.713 1090.67 Q191.713 1087.06 189.375 1084.96 Q187.038 1082.85 183.033 1082.85 Q181.158 1082.85 179.283 1083.27 Q177.431 1083.68 175.487 1084.56 L175.487 1067.2 Z\" fill=\"#000000\" fill-rule=\"nonzero\" fill-opacity=\"1\" /><path clip-path=\"url(#clip950)\" d=\"M144.329 759.127 L162.686 759.127 L162.686 763.062 L148.612 763.062 L148.612 771.534 Q149.63 771.187 150.649 771.025 Q151.667 770.84 152.686 770.84 Q158.473 770.84 161.852 774.011 Q165.232 777.182 165.232 782.599 Q165.232 788.178 161.76 791.279 Q158.288 794.358 151.968 794.358 Q149.792 794.358 147.524 793.988 Q145.279 793.617 142.871 792.877 L142.871 788.178 Q144.954 789.312 147.177 789.867 Q149.399 790.423 151.876 790.423 Q155.88 790.423 158.218 788.316 Q160.556 786.21 160.556 782.599 Q160.556 778.988 158.218 776.881 Q155.88 774.775 151.876 774.775 Q150.001 774.775 148.126 775.191 Q146.274 775.608 144.329 776.488 L144.329 759.127 Z\" fill=\"#000000\" fill-rule=\"nonzero\" fill-opacity=\"1\" /><path clip-path=\"url(#clip950)\" d=\"M184.445 762.205 Q180.834 762.205 179.005 765.77 Q177.2 769.312 177.2 776.441 Q177.2 783.548 179.005 787.113 Q180.834 790.654 184.445 790.654 Q188.079 790.654 189.885 787.113 Q191.713 783.548 191.713 776.441 Q191.713 769.312 189.885 765.77 Q188.079 762.205 184.445 762.205 M184.445 758.502 Q190.255 758.502 193.311 763.108 Q196.389 767.692 196.389 776.441 Q196.389 785.168 193.311 789.775 Q190.255 794.358 184.445 794.358 Q178.635 794.358 175.556 789.775 Q172.501 785.168 172.501 776.441 Q172.501 767.692 175.556 763.108 Q178.635 758.502 184.445 758.502 Z\" fill=\"#000000\" fill-rule=\"nonzero\" fill-opacity=\"1\" /><path clip-path=\"url(#clip950)\" d=\"M144.098 451.052 L166.32 451.052 L166.32 453.042 L153.774 485.612 L148.89 485.612 L160.695 454.987 L144.098 454.987 L144.098 451.052 Z\" fill=\"#000000\" fill-rule=\"nonzero\" fill-opacity=\"1\" /><path clip-path=\"url(#clip950)\" d=\"M175.487 451.052 L193.843 451.052 L193.843 454.987 L179.769 454.987 L179.769 463.459 Q180.788 463.112 181.806 462.95 Q182.825 462.764 183.843 462.764 Q189.63 462.764 193.01 465.936 Q196.389 469.107 196.389 474.524 Q196.389 480.102 192.917 483.204 Q189.445 486.283 183.126 486.283 Q180.95 486.283 178.681 485.912 Q176.436 485.542 174.028 484.801 L174.028 480.102 Q176.112 481.237 178.334 481.792 Q180.556 482.348 183.033 482.348 Q187.038 482.348 189.375 480.241 Q191.713 478.135 191.713 474.524 Q191.713 470.913 189.375 468.806 Q187.038 466.7 183.033 466.7 Q181.158 466.7 179.283 467.116 Q177.431 467.533 175.487 468.413 L175.487 451.052 Z\" fill=\"#000000\" fill-rule=\"nonzero\" fill-opacity=\"1\" /><path clip-path=\"url(#clip950)\" d=\"M114.931 173.601 L122.57 173.601 L122.57 147.236 L114.26 148.902 L114.26 144.643 L122.524 142.976 L127.2 142.976 L127.2 173.601 L134.839 173.601 L134.839 177.536 L114.931 177.536 L114.931 173.601 Z\" fill=\"#000000\" fill-rule=\"nonzero\" fill-opacity=\"1\" /><path clip-path=\"url(#clip950)\" d=\"M154.283 146.055 Q150.672 146.055 148.843 149.62 Q147.038 153.161 147.038 160.291 Q147.038 167.397 148.843 170.962 Q150.672 174.504 154.283 174.504 Q157.917 174.504 159.723 170.962 Q161.552 167.397 161.552 160.291 Q161.552 153.161 159.723 149.62 Q157.917 146.055 154.283 146.055 M154.283 142.351 Q160.093 142.351 163.149 146.958 Q166.227 151.541 166.227 160.291 Q166.227 169.018 163.149 173.624 Q160.093 178.208 154.283 178.208 Q148.473 178.208 145.394 173.624 Q142.339 169.018 142.339 160.291 Q142.339 151.541 145.394 146.958 Q148.473 142.351 154.283 142.351 Z\" fill=\"#000000\" fill-rule=\"nonzero\" fill-opacity=\"1\" /><path clip-path=\"url(#clip950)\" d=\"M184.445 146.055 Q180.834 146.055 179.005 149.62 Q177.2 153.161 177.2 160.291 Q177.2 167.397 179.005 170.962 Q180.834 174.504 184.445 174.504 Q188.079 174.504 189.885 170.962 Q191.713 167.397 191.713 160.291 Q191.713 153.161 189.885 149.62 Q188.079 146.055 184.445 146.055 M184.445 142.351 Q190.255 142.351 193.311 146.958 Q196.389 151.541 196.389 160.291 Q196.389 169.018 193.311 173.624 Q190.255 178.208 184.445 178.208 Q178.635 178.208 175.556 173.624 Q172.501 169.018 172.501 160.291 Q172.501 151.541 175.556 146.958 Q178.635 142.351 184.445 142.351 Z\" fill=\"#000000\" fill-rule=\"nonzero\" fill-opacity=\"1\" /><path clip-path=\"url(#clip950)\" d=\"M22.1553 795.046 Q22.7672 795.046 23.2825 795.174 L34.7478 796.978 Q35.6174 797.075 35.9394 797.268 Q36.2615 797.429 36.2615 797.944 Q36.2615 798.749 35.4241 798.749 Q34.941 798.749 34.1681 798.556 Q30.5288 798.009 28.8863 798.009 Q27.7913 798.009 26.9862 798.234 Q26.1488 798.427 25.5691 798.749 Q24.9894 799.039 24.6029 799.715 Q24.2165 800.392 23.991 801.036 Q23.7656 801.68 23.669 802.839 Q23.5402 803.999 23.5079 804.997 Q23.4757 805.996 23.4757 807.638 Q23.4757 811.213 23.6046 811.793 Q23.7656 812.405 24.2487 812.727 Q24.6996 813.016 26.0522 813.339 L61.06 822.099 L62.4448 822.356 Q63.2178 822.356 63.4754 821.873 Q63.7331 821.39 63.8941 819.909 Q64.0551 817.783 64.0551 815.69 Q64.0551 815.625 64.0551 815.496 Q64.0551 814.788 64.0873 814.498 Q64.0873 814.208 64.1517 813.918 Q64.2162 813.628 64.3772 813.564 Q64.506 813.467 64.7637 813.467 Q65.3756 813.467 65.6976 813.725 Q65.9875 813.983 66.0519 814.24 Q66.0841 814.466 66.0841 814.917 Q66.0841 815.818 66.0197 817.751 Q65.9553 819.683 65.9553 820.649 L65.8909 826.124 L65.9553 831.728 Q65.9553 832.598 66.0197 834.433 Q66.0841 836.269 66.0841 837.139 Q66.0841 838.266 65.2789 838.266 Q64.3772 838.266 64.2162 837.847 Q64.0551 837.396 64.0551 835.496 Q64.0551 832.823 63.9263 831.374 Q63.7975 829.925 63.3466 829.152 Q62.8957 828.346 62.4448 828.121 Q61.9617 827.896 60.8667 827.638 L25.6657 818.781 Q24.8928 818.524 24.2809 818.524 Q23.9588 818.524 23.83 818.62 Q23.7012 818.685 23.6046 819.103 Q23.4757 819.522 23.4757 820.392 L23.4757 822.968 Q23.4757 825.609 23.6046 827.251 Q23.7012 828.862 24.1843 830.408 Q24.6674 831.921 25.3437 832.823 Q26.02 833.693 27.4049 834.659 Q28.7897 835.625 30.4644 836.334 Q32.1391 837.01 34.8766 837.976 Q35.7784 838.298 36.036 838.491 Q36.2615 838.652 36.2615 839.103 Q36.2615 839.425 36.0682 839.683 Q35.8428 839.908 35.5529 839.908 Q34.4901 839.586 34.3613 839.522 L22.735 835.561 Q21.801 835.239 21.64 834.949 Q21.4468 834.627 21.4468 833.435 L21.4468 796.849 Q21.4468 796.269 21.4468 796.076 Q21.4468 795.883 21.5112 795.561 Q21.5756 795.239 21.7366 795.142 Q21.8977 795.046 22.1553 795.046 Z\" fill=\"#000000\" fill-rule=\"nonzero\" fill-opacity=\"1\" /><path clip-path=\"url(#clip950)\" d=\"M49.5947 788.03 Q38.4515 788.03 29.466 783.875 Q25.6979 782.104 22.5418 779.624 Q19.3856 777.144 18.0007 775.502 Q16.6159 773.859 16.6159 773.408 Q16.6159 772.764 17.26 772.732 Q17.5821 772.732 18.3872 773.602 Q29.2084 784.229 49.5947 784.197 Q70.0454 784.197 80.4479 773.859 Q81.5751 772.732 81.9294 772.732 Q82.5735 772.732 82.5735 773.408 Q82.5735 773.859 81.2531 775.437 Q79.9326 777.015 76.9053 779.463 Q73.8779 781.911 70.1742 783.682 Q61.1888 788.03 49.5947 788.03 Z\" fill=\"#000000\" fill-rule=\"nonzero\" fill-opacity=\"1\" /><path clip-path=\"url(#clip950)\" d=\"M37.5819 738.444 Q37.8073 738.444 38.7735 738.991 Q39.7075 739.506 42.0585 741.407 Q44.4096 743.307 47.147 746.141 Q48.2098 747.204 49.6913 748.814 Q51.1728 750.424 52.139 751.519 L53.1051 752.614 Q56.6478 756.801 60.6091 760.472 Q60.5125 760.215 60.4803 759.764 Q60.4159 759.313 60.4159 758.991 L60.4159 758.669 Q60.4159 756.994 61.5431 754.064 Q62.3804 751.487 62.3804 750.167 Q62.3804 748.878 61.9295 747.461 Q61.4787 746.044 60.1582 744.498 Q58.8378 742.952 56.841 742.244 Q56.519 742.115 56.4223 742.051 Q56.2935 741.986 56.1647 741.793 Q56.0037 741.6 56.0037 741.342 Q56.0037 740.988 56.1969 740.763 Q56.3901 740.537 56.6478 740.537 Q57.2275 740.537 58.3869 740.988 Q59.5463 741.407 60.9956 742.341 Q62.4448 743.242 63.7653 744.434 Q65.0535 745.593 65.9553 747.332 Q66.8248 749.072 66.8248 750.907 Q66.8248 752.228 66.1807 753.194 Q65.5688 754.16 64.3772 755.126 Q62.8635 756.447 62.3804 757.155 Q61.8651 757.864 61.8651 758.959 Q61.8651 761.89 65.9553 764.563 Q66.535 764.852 66.6638 765.046 Q66.8248 765.207 66.8248 765.593 Q66.7926 766.398 66.1485 766.398 Q65.8909 766.398 64.7637 765.69 Q63.6042 764.949 61.5753 763.307 Q59.5463 761.632 57.5173 759.603 L51.9779 753.677 Q46.4385 747.107 43.3146 744.498 Q43.3146 745.593 43.2823 746.076 Q43.2501 746.527 43.0569 747.429 Q42.8315 748.331 42.3484 749.587 Q41.35 752.518 41.35 753.741 Q41.35 754.064 41.3822 754.418 Q41.4144 754.772 41.5754 755.577 Q41.7365 756.35 42.0585 756.994 Q42.3484 757.638 42.9925 758.315 Q43.6044 758.991 44.4418 759.345 Q44.6994 759.442 44.8282 759.506 Q44.957 759.571 45.0859 759.764 Q45.1825 759.925 45.1825 760.183 Q45.1825 760.569 44.957 760.795 Q44.7316 760.988 44.4418 760.988 Q43.8621 760.988 42.6704 760.408 Q41.4788 759.828 40.1906 758.862 Q38.8701 757.896 37.904 756.318 Q36.9378 754.74 36.9378 753.001 Q36.9378 751.97 37.3887 751.101 Q37.8396 750.199 38.3226 749.748 Q38.7735 749.265 39.7719 748.46 Q40.5448 747.783 40.8669 747.461 Q41.189 747.139 41.5432 746.495 Q41.8653 745.819 41.8653 745.078 Q41.8653 743.854 40.9313 742.727 Q39.9651 741.6 37.6463 740.151 Q36.9378 739.764 36.9378 739.152 Q36.9378 738.444 37.5819 738.444 Z\" fill=\"#000000\" fill-rule=\"nonzero\" fill-opacity=\"1\" /><path clip-path=\"url(#clip950)\" d=\"M81.9294 732.071 Q81.6073 732.071 80.8022 731.234 Q69.981 720.606 49.5947 720.606 Q29.144 720.606 18.8059 730.815 Q17.6143 732.071 17.26 732.071 Q16.6159 732.071 16.6159 731.427 Q16.6159 730.976 17.9363 729.398 Q19.2568 727.788 22.2841 725.372 Q25.3115 722.925 29.0151 721.121 Q38.0006 716.773 49.5947 716.773 Q60.7379 716.773 69.7234 720.928 Q73.4914 722.699 76.6476 725.179 Q79.8038 727.659 81.1886 729.301 Q82.5735 730.944 82.5735 731.427 Q82.5735 732.071 81.9294 732.071 Z\" fill=\"#000000\" fill-rule=\"nonzero\" fill-opacity=\"1\" /><path clip-path=\"url(#clip950)\" d=\"M843.591 12.096 L894.754 12.096 L894.754 18.9825 L873.284 18.9825 L873.284 72.576 L865.06 72.576 L865.06 18.9825 L843.591 18.9825 L843.591 12.096 Z\" fill=\"#000000\" fill-rule=\"nonzero\" fill-opacity=\"1\" /><path clip-path=\"url(#clip950)\" d=\"M927.039 48.0275 L927.039 51.6733 L892.769 51.6733 Q893.255 59.3701 897.387 63.421 Q901.559 67.4314 908.972 67.4314 Q913.266 67.4314 917.277 66.3781 Q921.328 65.3249 925.297 63.2184 L925.297 70.267 Q921.287 71.9684 917.074 72.8596 Q912.861 73.7508 908.527 73.7508 Q897.67 73.7508 891.31 67.4314 Q884.991 61.1119 884.991 50.3365 Q884.991 39.1965 890.986 32.6746 Q897.022 26.1121 907.23 26.1121 Q916.385 26.1121 921.692 32.0264 Q927.039 37.9003 927.039 48.0275 M919.586 45.84 Q919.505 39.7232 916.142 36.0774 Q912.821 32.4315 907.311 32.4315 Q901.073 32.4315 897.306 35.9558 Q893.579 39.4801 893.012 45.8805 L919.586 45.84 Z\" fill=\"#000000\" fill-rule=\"nonzero\" fill-opacity=\"1\" /><path clip-path=\"url(#clip950)\" d=\"M974.597 35.9153 Q977.392 30.8922 981.281 28.5022 Q985.17 26.1121 990.436 26.1121 Q997.525 26.1121 1001.37 31.0947 Q1005.22 36.0368 1005.22 45.1919 L1005.22 72.576 L997.728 72.576 L997.728 45.4349 Q997.728 38.913 995.419 35.7533 Q993.11 32.5936 988.37 32.5936 Q982.577 32.5936 979.215 36.4419 Q975.853 40.2903 975.853 46.9338 L975.853 72.576 L968.359 72.576 L968.359 45.4349 Q968.359 38.8725 966.049 35.7533 Q963.74 32.5936 958.92 32.5936 Q953.208 32.5936 949.846 36.4824 Q946.484 40.3308 946.484 46.9338 L946.484 72.576 L938.989 72.576 L938.989 27.2059 L946.484 27.2059 L946.484 34.2544 Q949.036 30.082 952.6 28.0971 Q956.165 26.1121 961.067 26.1121 Q966.009 26.1121 969.452 28.6237 Q972.936 31.1352 974.597 35.9153 Z\" fill=\"#000000\" fill-rule=\"nonzero\" fill-opacity=\"1\" /><path clip-path=\"url(#clip950)\" d=\"M1027.3 65.7705 L1027.3 89.8329 L1019.8 89.8329 L1019.8 27.2059 L1027.3 27.2059 L1027.3 34.0924 Q1029.65 30.0415 1033.21 28.0971 Q1036.82 26.1121 1041.8 26.1121 Q1050.07 26.1121 1055.21 32.6746 Q1060.4 39.2371 1060.4 49.9314 Q1060.4 60.6258 1055.21 67.1883 Q1050.07 73.7508 1041.8 73.7508 Q1036.82 73.7508 1033.21 71.8063 Q1029.65 69.8214 1027.3 65.7705 M1052.66 49.9314 Q1052.66 41.7081 1049.26 37.0496 Q1045.89 32.3505 1039.98 32.3505 Q1034.06 32.3505 1030.66 37.0496 Q1027.3 41.7081 1027.3 49.9314 Q1027.3 58.1548 1030.66 62.8538 Q1034.06 67.5124 1039.98 67.5124 Q1045.89 67.5124 1049.26 62.8538 Q1052.66 58.1548 1052.66 49.9314 Z\" fill=\"#000000\" fill-rule=\"nonzero\" fill-opacity=\"1\" /><path clip-path=\"url(#clip950)\" d=\"M1111.56 48.0275 L1111.56 51.6733 L1077.29 51.6733 Q1077.77 59.3701 1081.91 63.421 Q1086.08 67.4314 1093.49 67.4314 Q1097.78 67.4314 1101.8 66.3781 Q1105.85 65.3249 1109.82 63.2184 L1109.82 70.267 Q1105.81 71.9684 1101.59 72.8596 Q1097.38 73.7508 1093.05 73.7508 Q1082.19 73.7508 1075.83 67.4314 Q1069.51 61.1119 1069.51 50.3365 Q1069.51 39.1965 1075.5 32.6746 Q1081.54 26.1121 1091.75 26.1121 Q1100.9 26.1121 1106.21 32.0264 Q1111.56 37.9003 1111.56 48.0275 M1104.1 45.84 Q1104.02 39.7232 1100.66 36.0774 Q1097.34 32.4315 1091.83 32.4315 Q1085.59 32.4315 1081.82 35.9558 Q1078.1 39.4801 1077.53 45.8805 L1104.1 45.84 Z\" fill=\"#000000\" fill-rule=\"nonzero\" fill-opacity=\"1\" /><path clip-path=\"url(#clip950)\" d=\"M1150.08 34.1734 Q1148.83 33.4443 1147.33 33.1202 Q1145.87 32.7556 1144.09 32.7556 Q1137.77 32.7556 1134.36 36.8875 Q1131 40.9789 1131 48.6757 L1131 72.576 L1123.51 72.576 L1123.51 27.2059 L1131 27.2059 L1131 34.2544 Q1133.35 30.1225 1137.12 28.1376 Q1140.89 26.1121 1146.27 26.1121 Q1147.04 26.1121 1147.98 26.2337 Q1148.91 26.3147 1150.04 26.5172 L1150.08 34.1734 Z\" fill=\"#000000\" fill-rule=\"nonzero\" fill-opacity=\"1\" /><path clip-path=\"url(#clip950)\" d=\"M1178.52 49.7694 Q1169.49 49.7694 1166 51.8354 Q1162.52 53.9013 1162.52 58.8839 Q1162.52 62.8538 1165.11 65.2034 Q1167.74 67.5124 1172.24 67.5124 Q1178.44 67.5124 1182.17 63.1374 Q1185.93 58.7219 1185.93 51.4303 L1185.93 49.7694 L1178.52 49.7694 M1193.39 46.6907 L1193.39 72.576 L1185.93 72.576 L1185.93 65.6895 Q1183.38 69.8214 1179.57 71.8063 Q1175.76 73.7508 1170.26 73.7508 Q1163.29 73.7508 1159.16 69.8619 Q1155.06 65.9325 1155.06 59.3701 Q1155.06 51.7138 1160.17 47.825 Q1165.31 43.9361 1175.48 43.9361 L1185.93 43.9361 L1185.93 43.2069 Q1185.93 38.0623 1182.53 35.2672 Q1179.17 32.4315 1173.05 32.4315 Q1169.16 32.4315 1165.48 33.3632 Q1161.79 34.295 1158.39 36.1584 L1158.39 29.2718 Q1162.48 27.692 1166.33 26.9223 Q1170.17 26.1121 1173.82 26.1121 Q1183.66 26.1121 1188.53 31.2163 Q1193.39 36.3204 1193.39 46.6907 Z\" fill=\"#000000\" fill-rule=\"nonzero\" fill-opacity=\"1\" /><path clip-path=\"url(#clip950)\" d=\"M1216.11 14.324 L1216.11 27.2059 L1231.46 27.2059 L1231.46 32.9987 L1216.11 32.9987 L1216.11 57.6282 Q1216.11 63.1779 1217.61 64.7578 Q1219.15 66.3376 1223.81 66.3376 L1231.46 66.3376 L1231.46 72.576 L1223.81 72.576 Q1215.18 72.576 1211.9 69.3758 Q1208.62 66.1351 1208.62 57.6282 L1208.62 32.9987 L1203.15 32.9987 L1203.15 27.2059 L1208.62 27.2059 L1208.62 14.324 L1216.11 14.324 Z\" fill=\"#000000\" fill-rule=\"nonzero\" fill-opacity=\"1\" /><path clip-path=\"url(#clip950)\" d=\"M1240.5 54.671 L1240.5 27.2059 L1247.95 27.2059 L1247.95 54.3874 Q1247.95 60.8284 1250.46 64.0691 Q1252.98 67.2693 1258 67.2693 Q1264.03 67.2693 1267.52 63.421 Q1271.04 59.5726 1271.04 52.9291 L1271.04 27.2059 L1278.5 27.2059 L1278.5 72.576 L1271.04 72.576 L1271.04 65.6084 Q1268.33 69.7404 1264.72 71.7658 Q1261.16 73.7508 1256.42 73.7508 Q1248.6 73.7508 1244.55 68.8897 Q1240.5 64.0286 1240.5 54.671 M1259.25 26.1121 L1259.25 26.1121 Z\" fill=\"#000000\" fill-rule=\"nonzero\" fill-opacity=\"1\" /><path clip-path=\"url(#clip950)\" d=\"M1320.14 34.1734 Q1318.88 33.4443 1317.38 33.1202 Q1315.93 32.7556 1314.14 32.7556 Q1307.82 32.7556 1304.42 36.8875 Q1301.06 40.9789 1301.06 48.6757 L1301.06 72.576 L1293.57 72.576 L1293.57 27.2059 L1301.06 27.2059 L1301.06 34.2544 Q1303.41 30.1225 1307.18 28.1376 Q1310.94 26.1121 1316.33 26.1121 Q1317.1 26.1121 1318.03 26.2337 Q1318.96 26.3147 1320.1 26.5172 L1320.14 34.1734 Z\" fill=\"#000000\" fill-rule=\"nonzero\" fill-opacity=\"1\" /><path clip-path=\"url(#clip950)\" d=\"M1364.94 48.0275 L1364.94 51.6733 L1330.67 51.6733 Q1331.16 59.3701 1335.29 63.421 Q1339.46 67.4314 1346.87 67.4314 Q1351.17 67.4314 1355.18 66.3781 Q1359.23 65.3249 1363.2 63.2184 L1363.2 70.267 Q1359.19 71.9684 1354.98 72.8596 Q1350.76 73.7508 1346.43 73.7508 Q1335.57 73.7508 1329.21 67.4314 Q1322.89 61.1119 1322.89 50.3365 Q1322.89 39.1965 1328.89 32.6746 Q1334.92 26.1121 1345.13 26.1121 Q1354.29 26.1121 1359.59 32.0264 Q1364.94 37.9003 1364.94 48.0275 M1357.49 45.84 Q1357.41 39.7232 1354.05 36.0774 Q1350.72 32.4315 1345.21 32.4315 Q1338.98 32.4315 1335.21 35.9558 Q1331.48 39.4801 1330.91 45.8805 L1357.49 45.84 Z\" fill=\"#000000\" fill-rule=\"nonzero\" fill-opacity=\"1\" /><path clip-path=\"url(#clip950)\" d=\"M1403.87 12.096 L1438.63 12.096 L1438.63 18.9825 L1412.05 18.9825 L1412.05 36.8065 L1436.04 36.8065 L1436.04 43.6931 L1412.05 43.6931 L1412.05 72.576 L1403.87 72.576 L1403.87 12.096 Z\" fill=\"#000000\" fill-rule=\"nonzero\" fill-opacity=\"1\" /><path clip-path=\"url(#clip950)\" d=\"M1445.96 54.671 L1445.96 27.2059 L1453.41 27.2059 L1453.41 54.3874 Q1453.41 60.8284 1455.93 64.0691 Q1458.44 67.2693 1463.46 67.2693 Q1469.5 67.2693 1472.98 63.421 Q1476.5 59.5726 1476.5 52.9291 L1476.5 27.2059 L1483.96 27.2059 L1483.96 72.576 L1476.5 72.576 L1476.5 65.6084 Q1473.79 69.7404 1470.18 71.7658 Q1466.62 73.7508 1461.88 73.7508 Q1454.06 73.7508 1450.01 68.8897 Q1445.96 64.0286 1445.96 54.671 M1464.72 26.1121 L1464.72 26.1121 Z\" fill=\"#000000\" fill-rule=\"nonzero\" fill-opacity=\"1\" /><path clip-path=\"url(#clip950)\" d=\"M1537.02 45.1919 L1537.02 72.576 L1529.57 72.576 L1529.57 45.4349 Q1529.57 38.994 1527.06 35.7938 Q1524.55 32.5936 1519.52 32.5936 Q1513.49 32.5936 1510 36.4419 Q1506.52 40.2903 1506.52 46.9338 L1506.52 72.576 L1499.03 72.576 L1499.03 27.2059 L1506.52 27.2059 L1506.52 34.2544 Q1509.19 30.163 1512.8 28.1376 Q1516.45 26.1121 1521.19 26.1121 Q1529 26.1121 1533.01 30.9732 Q1537.02 35.7938 1537.02 45.1919 Z\" fill=\"#000000\" fill-rule=\"nonzero\" fill-opacity=\"1\" /><path clip-path=\"url(#clip950)\" d=\"M1584.54 28.9478 L1584.54 35.9153 Q1581.38 34.1734 1578.18 33.3227 Q1575.02 32.4315 1571.78 32.4315 Q1564.53 32.4315 1560.52 37.0496 Q1556.51 41.6271 1556.51 49.9314 Q1556.51 58.2358 1560.52 62.8538 Q1564.53 67.4314 1571.78 67.4314 Q1575.02 67.4314 1578.18 66.5807 Q1581.38 65.6895 1584.54 63.9476 L1584.54 70.8341 Q1581.42 72.2924 1578.06 73.0216 Q1574.74 73.7508 1570.97 73.7508 Q1560.72 73.7508 1554.69 67.3098 Q1548.65 60.8689 1548.65 49.9314 Q1548.65 38.832 1554.73 32.472 Q1560.84 26.1121 1571.46 26.1121 Q1574.9 26.1121 1578.18 26.8413 Q1581.46 27.5299 1584.54 28.9478 Z\" fill=\"#000000\" fill-rule=\"nonzero\" fill-opacity=\"1\" /><path clip-path=\"url(#clip950)\" d=\"M1604.88 14.324 L1604.88 27.2059 L1620.23 27.2059 L1620.23 32.9987 L1604.88 32.9987 L1604.88 57.6282 Q1604.88 63.1779 1606.38 64.7578 Q1607.92 66.3376 1612.57 66.3376 L1620.23 66.3376 L1620.23 72.576 L1612.57 72.576 Q1603.95 72.576 1600.66 69.3758 Q1597.38 66.1351 1597.38 57.6282 L1597.38 32.9987 L1591.91 32.9987 L1591.91 27.2059 L1597.38 27.2059 L1597.38 14.324 L1604.88 14.324 Z\" fill=\"#000000\" fill-rule=\"nonzero\" fill-opacity=\"1\" /><path clip-path=\"url(#clip950)\" d=\"M1630.03 27.2059 L1637.49 27.2059 L1637.49 72.576 L1630.03 72.576 L1630.03 27.2059 M1630.03 9.54393 L1637.49 9.54393 L1637.49 18.9825 L1630.03 18.9825 L1630.03 9.54393 Z\" fill=\"#000000\" fill-rule=\"nonzero\" fill-opacity=\"1\" /><path clip-path=\"url(#clip950)\" d=\"M1670.66 32.4315 Q1664.67 32.4315 1661.18 37.1306 Q1657.7 41.7891 1657.7 49.9314 Q1657.7 58.0738 1661.14 62.7728 Q1664.63 67.4314 1670.66 67.4314 Q1676.62 67.4314 1680.1 62.7323 Q1683.59 58.0333 1683.59 49.9314 Q1683.59 41.8701 1680.1 37.1711 Q1676.62 32.4315 1670.66 32.4315 M1670.66 26.1121 Q1680.39 26.1121 1685.94 32.4315 Q1691.49 38.7509 1691.49 49.9314 Q1691.49 61.0714 1685.94 67.4314 Q1680.39 73.7508 1670.66 73.7508 Q1660.9 73.7508 1655.35 67.4314 Q1649.84 61.0714 1649.84 49.9314 Q1649.84 38.7509 1655.35 32.4315 Q1660.9 26.1121 1670.66 26.1121 Z\" fill=\"#000000\" fill-rule=\"nonzero\" fill-opacity=\"1\" /><path clip-path=\"url(#clip950)\" d=\"M1741.55 45.1919 L1741.55 72.576 L1734.1 72.576 L1734.1 45.4349 Q1734.1 38.994 1731.59 35.7938 Q1729.08 32.5936 1724.05 32.5936 Q1718.02 32.5936 1714.54 36.4419 Q1711.05 40.2903 1711.05 46.9338 L1711.05 72.576 L1703.56 72.576 L1703.56 27.2059 L1711.05 27.2059 L1711.05 34.2544 Q1713.72 30.163 1717.33 28.1376 Q1720.98 26.1121 1725.72 26.1121 Q1733.53 26.1121 1737.54 30.9732 Q1741.55 35.7938 1741.55 45.1919 Z\" fill=\"#000000\" fill-rule=\"nonzero\" fill-opacity=\"1\" /><polyline clip-path=\"url(#clip952)\" style=\"stroke:#009af9; stroke-linecap:round; stroke-linejoin:round; stroke-width:4; stroke-opacity:1; fill:none\" points=\"292.4,160.256 297.413,161.03 302.427,163.345 307.44,167.184 312.453,172.518 317.467,179.308 322.48,187.506 327.494,197.052 332.507,207.881 337.52,219.919 342.534,233.087 347.547,247.301 352.56,262.474 357.574,278.517 362.587,295.34 367.601,312.852 372.614,330.964 377.627,349.588 382.641,368.64 387.654,388.038 392.668,407.705 397.681,427.567 402.694,447.554 407.708,467.604 412.721,487.656 417.735,507.656 422.748,527.554 427.761,547.306 432.775,566.872 437.788,586.216 442.802,605.307 447.815,624.117 452.828,642.623 457.842,660.805 462.855,678.646 467.869,696.132 472.882,713.254 477.895,730.001 482.909,746.368 487.922,762.352 492.936,777.949 497.949,793.159 502.962,807.983 507.976,822.424 512.989,836.483 518.003,850.166 523.016,863.477 528.029,876.422 533.043,889.007 538.056,901.24 543.07,913.126 548.083,924.675 553.096,935.893 558.11,946.788 563.123,957.368 568.137,967.642 573.15,977.618 578.163,987.304 583.177,996.707 588.19,1005.84 593.204,1014.7 598.217,1023.31 603.23,1031.66 608.244,1039.77 613.257,1047.65 618.271,1055.3 623.284,1062.73 628.297,1069.94 633.311,1076.95 638.324,1083.75 643.338,1090.36 648.351,1096.79 653.364,1103.03 658.378,1109.1 663.391,1114.99 668.405,1120.72 673.418,1126.29 678.431,1131.71 683.445,1136.98 688.458,1142.1 693.472,1147.08 698.485,1151.93 703.498,1156.65 708.512,1161.24 713.525,1165.7 718.539,1170.05 723.552,1174.28 728.565,1178.41 733.579,1182.42 738.592,1186.33 743.606,1190.14 748.619,1193.85 753.632,1197.47 758.646,1200.99 763.659,1204.43 768.673,1207.77 773.686,1211.04 778.699,1214.22 783.713,1217.33 788.726,1220.36 793.74,1223.32 798.753,1226.2 803.766,1229.02 808.78,1231.76 813.793,1234.45 818.807,1237.07 823.82,1239.62 828.833,1242.12 833.847,1244.56 838.86,1246.94 843.874,1249.27 848.887,1251.55 853.9,1253.77 858.914,1255.95 863.927,1258.07 868.94,1260.15 873.954,1262.19 878.967,1264.17 883.981,1266.12 888.994,1268.02 894.007,1269.88 899.021,1271.7 904.034,1273.48 909.048,1275.23 914.061,1276.94 919.074,1278.61 924.088,1280.25 929.101,1281.85 934.115,1283.42 939.128,1284.96 944.141,1286.47 949.155,1287.94 954.168,1289.39 959.182,1290.81 964.195,1292.2 969.208,1293.56 974.222,1294.9 979.235,1296.2 984.249,1297.49 989.262,1298.75 994.275,1299.98 999.289,1301.19 1004.3,1302.38 1009.32,1303.55 1014.33,1304.69 1019.34,1305.82 1024.36,1306.92 1029.37,1308 1034.38,1309.06 1039.4,1310.1 1044.41,1311.13 1049.42,1312.13 1054.44,1313.12 1059.45,1314.09 1064.46,1315.04 1069.48,1315.97 1074.49,1316.89 1079.5,1317.79 1084.52,1318.68 1089.53,1319.55 1094.54,1320.41 1099.56,1321.25 1104.57,1322.08 1109.58,1322.89 1114.6,1323.69 1119.61,1324.48 1124.62,1325.25 1129.64,1326.01 1134.65,1326.76 1139.66,1327.49 1144.68,1328.22 1149.69,1328.93 1154.7,1329.63 1159.72,1330.32 1164.73,1331 1169.74,1331.66 1174.76,1332.32 1179.77,1332.96 1184.78,1333.6 1189.8,1334.23 1194.81,1334.84 1199.82,1335.45 1204.84,1336.05 1209.85,1336.63 1214.86,1337.21 1219.88,1337.78 1224.89,1338.34 1229.91,1338.9 1234.92,1339.44 1239.93,1339.98 1244.95,1340.51 1249.96,1341.03 1254.97,1341.54 1259.99,1342.05 1265,1342.55 1270.01,1343.04 1275.03,1343.52 1280.04,1344 1285.05,1344.47 1290.07,1344.93 1295.08,1345.39 1300.09,1345.84 1305.11,1346.28 1310.12,1346.72 1315.13,1347.15 1320.15,1347.58 1325.16,1348 1330.17,1348.41 1335.19,1348.82 1340.2,1349.22 1345.21,1349.62 1350.23,1350.01 1355.24,1350.4 1360.25,1350.78 1365.27,1351.16 1370.28,1351.53 1375.29,1351.9 1380.31,1352.26 1385.32,1352.61 1390.33,1352.97 1395.35,1353.31 1400.36,1353.66 1405.37,1354 1410.39,1354.33 1415.4,1354.66 1420.41,1354.99 1425.43,1355.31 1430.44,1355.63 1435.45,1355.94 1440.47,1356.25 1445.48,1356.55 1450.49,1356.86 1455.51,1357.16 1460.52,1357.45 1465.53,1357.74 1470.55,1358.03 1475.56,1358.31 1480.58,1358.59 1485.59,1358.87 1490.6,1359.14 1495.62,1359.41 1500.63,1359.68 1505.64,1359.94 1510.66,1360.21 1515.67,1360.46 1520.68,1360.72 1525.7,1360.97 1530.71,1361.22 1535.72,1361.46 1540.74,1361.71 1545.75,1361.95 1550.76,1362.18 1555.78,1362.42 1560.79,1362.65 1565.8,1362.88 1570.82,1363.11 1575.83,1363.33 1580.84,1363.55 1585.86,1363.77 1590.87,1363.99 1595.88,1364.2 1600.9,1364.42 1605.91,1364.63 1610.92,1364.83 1615.94,1365.04 1620.95,1365.24 1625.96,1365.44 1630.98,1365.64 1635.99,1365.83 1641,1366.03 1646.02,1366.22 1651.03,1366.41 1656.04,1366.6 1661.06,1366.78 1666.07,1366.97 1671.08,1367.15 1676.1,1367.33 1681.11,1367.51 1686.12,1367.68 1691.14,1367.86 1696.15,1368.03 1701.16,1368.2 1706.18,1368.37 1711.19,1368.54 1716.2,1368.7 1721.22,1368.87 1726.23,1369.03 1731.24,1369.19 1736.26,1369.35 1741.27,1369.51 1746.29,1369.66 1751.3,1369.82 1756.31,1369.97 1761.33,1370.12 1766.34,1370.27 1771.35,1370.42 1776.37,1370.57 1781.38,1370.71 1786.39,1370.85 1791.41,1371 1796.42,1371.14 1801.43,1371.28 1806.45,1371.42 1811.46,1371.55 1816.47,1371.69 1821.49,1371.82 1826.5,1371.96 1831.51,1372.09 1836.53,1372.22 1841.54,1372.35 1846.55,1372.48 1851.57,1372.6 1856.58,1372.73 1861.59,1372.85 1866.61,1372.98 1871.62,1373.1 1876.63,1373.22 1881.65,1373.34 1886.66,1373.46 1891.67,1373.58 1896.69,1373.69 1901.7,1373.81 1906.71,1373.92 1911.73,1374.04 1916.74,1374.15 1921.75,1374.26 1926.77,1374.37 1931.78,1374.48 1936.79,1374.59 1941.81,1374.7 1946.82,1374.8 1951.83,1374.91 1956.85,1375.01 1961.86,1375.12 1966.87,1375.22 1971.89,1375.32 1976.9,1375.42 1981.91,1375.52 1986.93,1375.62 1991.94,1375.72 1996.96,1375.82 2001.97,1375.91 2006.98,1376.01 2012,1376.1 2017.01,1376.2 2022.02,1376.29 2027.04,1376.38 2032.05,1376.48 2037.06,1376.57 2042.08,1376.66 2047.09,1376.75 2052.1,1376.84 2057.12,1376.92 2062.13,1377.01 2067.14,1377.1 2072.16,1377.18 2077.17,1377.27 2082.18,1377.35 2087.2,1377.44 2092.21,1377.52 2097.22,1377.6 2102.24,1377.68 2107.25,1377.77 2112.26,1377.85 2117.28,1377.93 2122.29,1378.01 2127.3,1378.08 2132.32,1378.16 2137.33,1378.24 2142.34,1378.32 2147.36,1378.39 2152.37,1378.47 2157.38,1378.54 2162.4,1378.62 2167.41,1378.69 2172.42,1378.76 2177.44,1378.83 2182.45,1378.91 2187.46,1378.98 2192.48,1379.05 2197.49,1379.12 2202.5,1379.19 2207.52,1379.26 2212.53,1379.33 2217.54,1379.39 2222.56,1379.46 2227.57,1379.53 2232.58,1379.6 2237.6,1379.66 2242.61,1379.73 2247.62,1379.79 2252.64,1379.86 2257.65,1379.92 2262.67,1379.98 2267.68,1380.05 2272.69,1380.11 2277.71,1380.17 2282.72,1380.23 2287.73,1380.3 2292.75,1380.36 \"/>\n",
       "<circle clip-path=\"url(#clip952)\" cx=\"1272.37\" cy=\"1343.27\" r=\"14.4\" fill=\"#008000\" fill-rule=\"evenodd\" fill-opacity=\"1\" stroke=\"#000000\" stroke-opacity=\"1\" stroke-width=\"3.2\"/>\n",
       "<path clip-path=\"url(#clip952)\" d=\"M692.469 1370.4 L676.469 1386.4 L692.469 1402.4 L708.469 1386.4 L692.469 1370.4 Z\" fill=\"#ff0000\" fill-rule=\"evenodd\" fill-opacity=\"1\" stroke=\"#000000\" stroke-opacity=\"1\" stroke-width=\"3.2\"/>\n",
       "<path clip-path=\"url(#clip950)\" d=\"M1766.31 551.034 L2282.08 551.034 L2282.08 166.796 L1766.31 166.796  Z\" fill=\"#ffffff\" fill-rule=\"evenodd\" fill-opacity=\"1\"/>\n",
       "<polyline clip-path=\"url(#clip950)\" style=\"stroke:#000000; stroke-linecap:round; stroke-linejoin:round; stroke-width:4; stroke-opacity:1; fill:none\" points=\"1766.31,551.034 2282.08,551.034 2282.08,166.796 1766.31,166.796 1766.31,551.034 \"/>\n",
       "<polyline clip-path=\"url(#clip950)\" style=\"stroke:#009af9; stroke-linecap:round; stroke-linejoin:round; stroke-width:4; stroke-opacity:1; fill:none\" points=\"1789.87,262.855 1931.22,262.855 \"/>\n",
       "<path clip-path=\"url(#clip950)\" d=\"M1987.41 238.968 Q1987.41 239.413 1987.32 239.787 L1986.01 248.126 Q1985.94 248.758 1985.79 248.992 Q1985.68 249.227 1985.3 249.227 Q1984.72 249.227 1984.72 248.618 Q1984.72 248.266 1984.86 247.704 Q1985.26 245.057 1985.26 243.863 Q1985.26 243.067 1985.09 242.481 Q1984.95 241.872 1984.72 241.45 Q1984.51 241.029 1984.01 240.748 Q1983.52 240.467 1983.05 240.303 Q1982.59 240.139 1981.74 240.068 Q1980.9 239.975 1980.17 239.951 Q1979.45 239.928 1978.25 239.928 Q1975.65 239.928 1975.23 240.022 Q1974.79 240.139 1974.55 240.49 Q1974.34 240.818 1974.11 241.802 L1967.74 267.262 L1967.55 268.269 Q1967.55 268.831 1967.9 269.019 Q1968.25 269.206 1969.33 269.323 Q1970.87 269.44 1972.4 269.44 Q1972.44 269.44 1972.54 269.44 Q1973.05 269.44 1973.26 269.464 Q1973.47 269.464 1973.69 269.51 Q1973.9 269.557 1973.94 269.674 Q1974.01 269.768 1974.01 269.955 Q1974.01 270.401 1973.83 270.635 Q1973.64 270.846 1973.45 270.892 Q1973.29 270.916 1972.96 270.916 Q1972.3 270.916 1970.9 270.869 Q1969.49 270.822 1968.79 270.822 L1964.81 270.775 L1960.73 270.822 Q1960.1 270.822 1958.76 270.869 Q1957.43 270.916 1956.8 270.916 Q1955.98 270.916 1955.98 270.33 Q1955.98 269.674 1956.28 269.557 Q1956.61 269.44 1957.99 269.44 Q1959.94 269.44 1960.99 269.346 Q1962.04 269.253 1962.61 268.925 Q1963.19 268.597 1963.36 268.269 Q1963.52 267.918 1963.71 267.121 L1970.15 241.521 Q1970.34 240.958 1970.34 240.513 Q1970.34 240.279 1970.27 240.186 Q1970.22 240.092 1969.91 240.022 Q1969.61 239.928 1968.98 239.928 L1967.1 239.928 Q1965.18 239.928 1963.99 240.022 Q1962.82 240.092 1961.69 240.443 Q1960.59 240.795 1959.94 241.286 Q1959.3 241.778 1958.6 242.785 Q1957.9 243.793 1957.38 245.011 Q1956.89 246.229 1956.19 248.219 Q1955.95 248.875 1955.81 249.063 Q1955.7 249.227 1955.37 249.227 Q1955.13 249.227 1954.95 249.086 Q1954.78 248.922 1954.78 248.711 Q1955.02 247.938 1955.06 247.845 L1957.95 239.389 Q1958.18 238.71 1958.39 238.593 Q1958.62 238.452 1959.49 238.452 L1986.1 238.452 Q1986.52 238.452 1986.66 238.452 Q1986.8 238.452 1987.04 238.499 Q1987.27 238.546 1987.34 238.663 Q1987.41 238.78 1987.41 238.968 Z\" fill=\"#000000\" fill-rule=\"nonzero\" fill-opacity=\"1\" /><path clip-path=\"url(#clip950)\" d=\"M1992.51 258.924 Q1992.51 250.819 1995.53 244.284 Q1996.82 241.544 1998.62 239.249 Q2000.42 236.953 2001.62 235.946 Q2002.81 234.939 2003.14 234.939 Q2003.61 234.939 2003.63 235.407 Q2003.63 235.642 2003 236.227 Q1995.27 244.097 1995.29 258.924 Q1995.29 273.797 2002.81 281.362 Q2003.63 282.182 2003.63 282.44 Q2003.63 282.908 2003.14 282.908 Q2002.81 282.908 2001.66 281.948 Q2000.52 280.987 1998.74 278.786 Q1996.96 276.584 1995.67 273.89 Q1992.51 267.356 1992.51 258.924 Z\" fill=\"#000000\" fill-rule=\"nonzero\" fill-opacity=\"1\" /><path clip-path=\"url(#clip950)\" d=\"M2028.56 250.187 Q2028.56 250.351 2028.17 251.054 Q2027.79 251.733 2026.41 253.443 Q2025.03 255.152 2022.97 257.143 Q2022.19 257.916 2021.02 258.994 Q2019.85 260.071 2019.06 260.774 L2018.26 261.477 Q2015.21 264.053 2012.54 266.934 Q2012.73 266.864 2013.06 266.84 Q2013.39 266.793 2013.62 266.793 L2013.86 266.793 Q2015.07 266.793 2017.2 267.613 Q2019.08 268.222 2020.04 268.222 Q2020.98 268.222 2022.01 267.894 Q2023.04 267.566 2024.16 266.606 Q2025.29 265.646 2025.8 264.194 Q2025.89 263.959 2025.94 263.889 Q2025.99 263.795 2026.13 263.702 Q2026.27 263.585 2026.46 263.585 Q2026.71 263.585 2026.88 263.725 Q2027.04 263.866 2027.04 264.053 Q2027.04 264.475 2026.71 265.318 Q2026.41 266.161 2025.73 267.215 Q2025.07 268.269 2024.21 269.229 Q2023.36 270.166 2022.1 270.822 Q2020.84 271.455 2019.5 271.455 Q2018.54 271.455 2017.84 270.986 Q2017.13 270.541 2016.43 269.674 Q2015.47 268.574 2014.96 268.222 Q2014.44 267.847 2013.64 267.847 Q2011.51 267.847 2009.57 270.822 Q2009.36 271.244 2009.22 271.337 Q2009.1 271.455 2008.82 271.455 Q2008.23 271.431 2008.23 270.963 Q2008.23 270.775 2008.75 269.955 Q2009.29 269.112 2010.48 267.637 Q2011.7 266.161 2013.18 264.685 L2017.49 260.657 Q2022.26 256.628 2024.16 254.356 Q2023.36 254.356 2023.01 254.333 Q2022.69 254.309 2022.03 254.169 Q2021.37 254.005 2020.46 253.653 Q2018.33 252.927 2017.44 252.927 Q2017.2 252.927 2016.95 252.951 Q2016.69 252.974 2016.1 253.091 Q2015.54 253.208 2015.07 253.443 Q2014.6 253.653 2014.11 254.122 Q2013.62 254.567 2013.36 255.176 Q2013.29 255.363 2013.25 255.457 Q2013.2 255.551 2013.06 255.644 Q2012.94 255.715 2012.75 255.715 Q2012.47 255.715 2012.31 255.551 Q2012.17 255.387 2012.17 255.176 Q2012.17 254.754 2012.59 253.888 Q2013.01 253.021 2013.71 252.084 Q2014.42 251.124 2015.57 250.421 Q2016.71 249.718 2017.98 249.718 Q2018.73 249.718 2019.36 250.046 Q2020.02 250.374 2020.34 250.726 Q2020.69 251.054 2021.28 251.78 Q2021.77 252.342 2022.01 252.576 Q2022.24 252.81 2022.71 253.068 Q2023.2 253.302 2023.74 253.302 Q2024.63 253.302 2025.45 252.623 Q2026.27 251.92 2027.32 250.234 Q2027.6 249.718 2028.05 249.718 Q2028.56 249.718 2028.56 250.187 Z\" fill=\"#000000\" fill-rule=\"nonzero\" fill-opacity=\"1\" /><path clip-path=\"url(#clip950)\" d=\"M2033.19 282.44 Q2033.19 282.205 2033.8 281.62 Q2041.53 273.75 2041.53 258.924 Q2041.53 244.05 2034.11 236.532 Q2033.19 235.665 2033.19 235.407 Q2033.19 234.939 2033.66 234.939 Q2033.99 234.939 2035.14 235.899 Q2036.31 236.86 2038.07 239.061 Q2039.85 241.263 2041.16 243.957 Q2044.32 250.491 2044.32 258.924 Q2044.32 267.028 2041.3 273.563 Q2040.01 276.303 2038.21 278.598 Q2036.4 280.894 2035.21 281.901 Q2034.01 282.908 2033.66 282.908 Q2033.19 282.908 2033.19 282.44 Z\" fill=\"#000000\" fill-rule=\"nonzero\" fill-opacity=\"1\" /><path clip-path=\"url(#clip950)\" d=\"M2064.91 263.631 Q2064.96 263.046 2065.87 263.046 L2095.27 263.046 Q2096.65 263.046 2096.68 263.585 Q2096.68 264.17 2095.36 264.147 L2066.2 264.147 Q2064.91 264.17 2064.91 263.631 M2064.91 254.262 Q2064.91 253.677 2065.92 253.7 L2095.22 253.7 Q2096.65 253.7 2096.68 254.262 Q2096.68 254.801 2095.46 254.801 L2065.87 254.801 Q2064.91 254.801 2064.91 254.262 Z\" fill=\"#000000\" fill-rule=\"nonzero\" fill-opacity=\"1\" /><path clip-path=\"url(#clip950)\" d=\"M2155.41 219.085 L2155.41 217.586 Q2161.17 217.586 2164.14 214.518 Q2164.96 214.518 2165.1 214.705 Q2165.24 214.893 2165.24 215.759 L2165.24 242.672 Q2165.24 244.1 2165.95 244.545 Q2166.65 244.99 2169.72 244.99 L2171.24 244.99 L2171.24 246.466 Q2169.55 246.326 2163.46 246.326 Q2157.37 246.326 2155.71 246.466 L2155.71 244.99 L2157.23 244.99 Q2160.25 244.99 2160.98 244.569 Q2161.71 244.124 2161.71 242.672 L2161.71 217.82 Q2159.2 219.085 2155.41 219.085 Z\" fill=\"#000000\" fill-rule=\"nonzero\" fill-opacity=\"1\" /><path clip-path=\"url(#clip950)\" d=\"M2173.55 231.124 Q2173.55 224.074 2175.33 220.233 Q2177.82 214.518 2183.67 214.518 Q2184.91 214.518 2186.2 214.869 Q2187.51 215.197 2189.15 216.485 Q2190.82 217.774 2191.82 219.882 Q2193.74 223.957 2193.74 231.124 Q2193.74 238.128 2191.96 241.946 Q2189.36 247.52 2183.62 247.52 Q2181.47 247.52 2179.27 246.419 Q2177.09 245.318 2175.71 242.672 Q2173.55 238.713 2173.55 231.124 M2177.53 230.539 Q2177.53 237.776 2178.05 240.657 Q2178.64 243.773 2180.23 245.131 Q2181.84 246.466 2183.62 246.466 Q2185.55 246.466 2187.14 245.037 Q2188.75 243.585 2189.25 240.47 Q2189.78 237.402 2189.76 230.539 Q2189.76 223.863 2189.29 221.193 Q2188.66 218.078 2186.97 216.837 Q2185.31 215.572 2183.62 215.572 Q2182.99 215.572 2182.31 215.759 Q2181.66 215.947 2180.7 216.485 Q2179.74 217.024 2178.99 218.359 Q2178.26 219.694 2177.91 221.709 Q2177.53 224.308 2177.53 230.539 Z\" fill=\"#000000\" fill-rule=\"nonzero\" fill-opacity=\"1\" /><path clip-path=\"url(#clip950)\" d=\"M2197.49 231.124 Q2197.49 224.074 2199.28 220.233 Q2201.76 214.518 2207.61 214.518 Q2208.85 214.518 2210.14 214.869 Q2211.45 215.197 2213.09 216.485 Q2214.76 217.774 2215.76 219.882 Q2217.69 223.957 2217.69 231.124 Q2217.69 238.128 2215.91 241.946 Q2213.31 247.52 2207.57 247.52 Q2205.41 247.52 2203.21 246.419 Q2201.03 245.318 2199.65 242.672 Q2197.49 238.713 2197.49 231.124 M2201.48 230.539 Q2201.48 237.776 2201.99 240.657 Q2202.58 243.773 2204.17 245.131 Q2205.79 246.466 2207.57 246.466 Q2209.49 246.466 2211.08 245.037 Q2212.7 243.585 2213.19 240.47 Q2213.73 237.402 2213.7 230.539 Q2213.7 223.863 2213.23 221.193 Q2212.6 218.078 2210.92 216.837 Q2209.25 215.572 2207.57 215.572 Q2206.93 215.572 2206.25 215.759 Q2205.6 215.947 2204.64 216.485 Q2203.68 217.024 2202.93 218.359 Q2202.2 219.694 2201.85 221.709 Q2201.48 224.308 2201.48 230.539 Z\" fill=\"#000000\" fill-rule=\"nonzero\" fill-opacity=\"1\" /><path clip-path=\"url(#clip950)\" d=\"M2125.41 260.313 L2253.4 260.313 L2253.4 257.753 L2125.41 257.753  Z\" fill=\"#000000\" fill-rule=\"evenodd\" fill-opacity=\"1\"/>\n",
       "<path clip-path=\"url(#clip950)\" d=\"M2145.74 286.312 Q2145.74 286.476 2145.34 287.179 Q2144.96 287.858 2143.58 289.568 Q2142.2 291.278 2140.14 293.269 Q2139.37 294.042 2138.19 295.119 Q2137.02 296.197 2136.23 296.899 L2135.43 297.602 Q2132.39 300.178 2129.72 303.059 Q2129.9 302.989 2130.23 302.966 Q2130.56 302.919 2130.79 302.919 L2131.03 302.919 Q2132.25 302.919 2134.38 303.739 Q2136.25 304.348 2137.21 304.348 Q2138.15 304.348 2139.18 304.02 Q2140.21 303.692 2141.33 302.732 Q2142.46 301.771 2142.97 300.319 Q2143.07 300.085 2143.11 300.015 Q2143.16 299.921 2143.3 299.827 Q2143.44 299.71 2143.63 299.71 Q2143.89 299.71 2144.05 299.851 Q2144.21 299.991 2144.21 300.178 Q2144.21 300.6 2143.89 301.443 Q2143.58 302.287 2142.9 303.341 Q2142.25 304.395 2141.38 305.355 Q2140.54 306.292 2139.27 306.948 Q2138.01 307.58 2136.67 307.58 Q2135.71 307.58 2135.01 307.112 Q2134.31 306.667 2133.6 305.8 Q2132.64 304.699 2132.13 304.348 Q2131.61 303.973 2130.82 303.973 Q2128.69 303.973 2126.74 306.948 Q2126.53 307.369 2126.39 307.463 Q2126.27 307.58 2125.99 307.58 Q2125.41 307.557 2125.41 307.088 Q2125.41 306.901 2125.92 306.081 Q2126.46 305.238 2127.65 303.762 Q2128.87 302.287 2130.35 300.811 L2134.66 296.782 Q2139.44 292.754 2141.33 290.482 Q2140.54 290.482 2140.19 290.458 Q2139.86 290.435 2139.2 290.294 Q2138.55 290.13 2137.63 289.779 Q2135.5 289.053 2134.61 289.053 Q2134.38 289.053 2134.12 289.076 Q2133.86 289.1 2133.28 289.217 Q2132.71 289.334 2132.25 289.568 Q2131.78 289.779 2131.29 290.247 Q2130.79 290.692 2130.54 291.301 Q2130.47 291.489 2130.42 291.582 Q2130.37 291.676 2130.23 291.77 Q2130.11 291.84 2129.93 291.84 Q2129.65 291.84 2129.48 291.676 Q2129.34 291.512 2129.34 291.301 Q2129.34 290.88 2129.76 290.013 Q2130.18 289.147 2130.89 288.21 Q2131.59 287.249 2132.74 286.547 Q2133.88 285.844 2135.15 285.844 Q2135.9 285.844 2136.53 286.172 Q2137.19 286.5 2137.52 286.851 Q2137.87 287.179 2138.45 287.905 Q2138.94 288.467 2139.18 288.701 Q2139.41 288.936 2139.88 289.193 Q2140.37 289.428 2140.91 289.428 Q2141.8 289.428 2142.62 288.748 Q2143.44 288.046 2144.5 286.359 Q2144.78 285.844 2145.22 285.844 Q2145.74 285.844 2145.74 286.312 Z\" fill=\"#000000\" fill-rule=\"nonzero\" fill-opacity=\"1\" /><path clip-path=\"url(#clip950)\" d=\"M2150.65 292.701 Q2150.65 292.095 2150.7 291.914 Q2150.77 291.734 2151.03 291.455 L2157.47 284.274 Q2161 280.306 2161 276.847 Q2161 274.601 2159.82 272.994 Q2158.65 271.387 2156.5 271.387 Q2155.03 271.387 2153.78 272.289 Q2152.54 273.191 2151.96 274.797 Q2152.06 274.765 2152.41 274.765 Q2153.24 274.765 2153.7 275.289 Q2154.18 275.814 2154.18 276.519 Q2154.18 277.421 2153.59 277.863 Q2153.01 278.29 2152.44 278.29 Q2152.21 278.29 2151.9 278.24 Q2151.6 278.191 2151.13 277.732 Q2150.65 277.257 2150.65 276.42 Q2150.65 274.076 2152.42 272.207 Q2154.21 270.338 2156.93 270.338 Q2160.01 270.338 2162.03 272.174 Q2164.06 273.994 2164.06 276.847 Q2164.06 277.847 2163.75 278.765 Q2163.46 279.667 2163.05 280.372 Q2162.65 281.077 2161.57 282.208 Q2160.49 283.339 2159.62 284.143 Q2158.75 284.946 2156.8 286.651 L2153.24 290.111 L2159.29 290.111 Q2162.24 290.111 2162.47 289.849 Q2162.8 289.373 2163.21 286.865 L2164.06 286.865 L2163.11 292.701 L2150.65 292.701 Z\" fill=\"#000000\" fill-rule=\"nonzero\" fill-opacity=\"1\" /><path clip-path=\"url(#clip950)\" d=\"M2183.45 295.635 Q2182.35 295.635 2182.35 295.049 Q2182.35 294.463 2183.5 294.463 Q2183.64 294.463 2183.88 294.487 Q2184.13 294.51 2184.18 294.51 L2197.7 294.51 L2197.7 280.949 Q2197.7 280.902 2197.67 280.691 Q2197.65 280.457 2197.65 280.316 Q2197.65 279.169 2198.21 279.169 Q2198.8 279.169 2198.8 280.316 L2198.8 294.51 L2212.33 294.51 Q2212.38 294.51 2212.62 294.487 Q2212.85 294.463 2212.99 294.463 Q2214.09 294.463 2214.09 295.049 Q2214.11 295.635 2212.94 295.635 Q2212.8 295.635 2212.59 295.611 Q2212.38 295.588 2212.33 295.588 L2198.8 295.588 L2198.8 309.829 Q2198.8 310.929 2198.21 310.929 Q2197.65 310.929 2197.65 309.782 Q2197.65 309.641 2197.67 309.407 Q2197.7 309.196 2197.7 309.149 L2197.7 295.588 L2184.18 295.588 Q2184.13 295.588 2183.85 295.611 Q2183.6 295.635 2183.45 295.635 Z\" fill=\"#000000\" fill-rule=\"nonzero\" fill-opacity=\"1\" /><path clip-path=\"url(#clip950)\" d=\"M2232.61 279.66 L2232.61 278.161 Q2238.37 278.161 2241.34 275.093 Q2242.16 275.093 2242.3 275.28 Q2242.44 275.468 2242.44 276.334 L2242.44 303.247 Q2242.44 304.676 2243.15 305.121 Q2243.85 305.566 2246.92 305.566 L2248.44 305.566 L2248.44 307.041 Q2246.75 306.901 2240.66 306.901 Q2234.57 306.901 2232.91 307.041 L2232.91 305.566 L2234.43 305.566 Q2237.45 305.566 2238.18 305.144 Q2238.91 304.699 2238.91 303.247 L2238.91 278.396 Q2236.4 279.66 2232.61 279.66 Z\" fill=\"#000000\" fill-rule=\"nonzero\" fill-opacity=\"1\" /><circle clip-path=\"url(#clip950)\" cx=\"1860.54\" cy=\"358.915\" r=\"20.48\" fill=\"#008000\" fill-rule=\"evenodd\" fill-opacity=\"1\" stroke=\"#000000\" stroke-opacity=\"1\" stroke-width=\"4.55111\"/>\n",
       "<path clip-path=\"url(#clip950)\" d=\"M1987.41 338.842 Q1987.41 339.287 1987.32 339.661 L1986.01 348 Q1985.94 348.632 1985.79 348.866 Q1985.68 349.101 1985.3 349.101 Q1984.72 349.101 1984.72 348.492 Q1984.72 348.14 1984.86 347.578 Q1985.26 344.931 1985.26 343.737 Q1985.26 342.94 1985.09 342.355 Q1984.95 341.746 1984.72 341.324 Q1984.51 340.903 1984.01 340.622 Q1983.52 340.341 1983.05 340.177 Q1982.59 340.013 1981.74 339.942 Q1980.9 339.849 1980.17 339.825 Q1979.45 339.802 1978.25 339.802 Q1975.65 339.802 1975.23 339.896 Q1974.79 340.013 1974.55 340.364 Q1974.34 340.692 1974.11 341.676 L1967.74 367.136 L1967.55 368.143 Q1967.55 368.705 1967.9 368.893 Q1968.25 369.08 1969.33 369.197 Q1970.87 369.314 1972.4 369.314 Q1972.44 369.314 1972.54 369.314 Q1973.05 369.314 1973.26 369.338 Q1973.47 369.338 1973.69 369.384 Q1973.9 369.431 1973.94 369.548 Q1974.01 369.642 1974.01 369.829 Q1974.01 370.274 1973.83 370.509 Q1973.64 370.72 1973.45 370.766 Q1973.29 370.79 1972.96 370.79 Q1972.3 370.79 1970.9 370.743 Q1969.49 370.696 1968.79 370.696 L1964.81 370.649 L1960.73 370.696 Q1960.1 370.696 1958.76 370.743 Q1957.43 370.79 1956.8 370.79 Q1955.98 370.79 1955.98 370.204 Q1955.98 369.548 1956.28 369.431 Q1956.61 369.314 1957.99 369.314 Q1959.94 369.314 1960.99 369.22 Q1962.04 369.127 1962.61 368.799 Q1963.19 368.471 1963.36 368.143 Q1963.52 367.792 1963.71 366.995 L1970.15 341.395 Q1970.34 340.832 1970.34 340.387 Q1970.34 340.153 1970.27 340.06 Q1970.22 339.966 1969.91 339.896 Q1969.61 339.802 1968.98 339.802 L1967.1 339.802 Q1965.18 339.802 1963.99 339.896 Q1962.82 339.966 1961.69 340.317 Q1960.59 340.669 1959.94 341.16 Q1959.3 341.652 1958.6 342.659 Q1957.9 343.667 1957.38 344.885 Q1956.89 346.103 1956.19 348.093 Q1955.95 348.749 1955.81 348.937 Q1955.7 349.101 1955.37 349.101 Q1955.13 349.101 1954.95 348.96 Q1954.78 348.796 1954.78 348.585 Q1955.02 347.812 1955.06 347.719 L1957.95 339.263 Q1958.18 338.584 1958.39 338.467 Q1958.62 338.326 1959.49 338.326 L1986.1 338.326 Q1986.52 338.326 1986.66 338.326 Q1986.8 338.326 1987.04 338.373 Q1987.27 338.42 1987.34 338.537 Q1987.41 338.654 1987.41 338.842 Z\" fill=\"#000000\" fill-rule=\"nonzero\" fill-opacity=\"1\" /><path clip-path=\"url(#clip950)\" d=\"M1992.51 358.797 Q1992.51 350.693 1995.53 344.158 Q1996.82 341.418 1998.62 339.123 Q2000.42 336.827 2001.62 335.82 Q2002.81 334.813 2003.14 334.813 Q2003.61 334.813 2003.63 335.281 Q2003.63 335.516 2003 336.101 Q1995.27 343.971 1995.29 358.797 Q1995.29 373.671 2002.81 381.236 Q2003.63 382.056 2003.63 382.314 Q2003.63 382.782 2003.14 382.782 Q2002.81 382.782 2001.66 381.822 Q2000.52 380.861 1998.74 378.66 Q1996.96 376.458 1995.67 373.764 Q1992.51 367.23 1992.51 358.797 Z\" fill=\"#000000\" fill-rule=\"nonzero\" fill-opacity=\"1\" /><path clip-path=\"url(#clip950)\" d=\"M2028.56 350.061 Q2028.56 350.225 2028.17 350.928 Q2027.79 351.607 2026.41 353.317 Q2025.03 355.026 2022.97 357.017 Q2022.19 357.79 2021.02 358.868 Q2019.85 359.945 2019.06 360.648 L2018.26 361.351 Q2015.21 363.927 2012.54 366.808 Q2012.73 366.738 2013.06 366.714 Q2013.39 366.667 2013.62 366.667 L2013.86 366.667 Q2015.07 366.667 2017.2 367.487 Q2019.08 368.096 2020.04 368.096 Q2020.98 368.096 2022.01 367.768 Q2023.04 367.44 2024.16 366.48 Q2025.29 365.52 2025.8 364.068 Q2025.89 363.833 2025.94 363.763 Q2025.99 363.669 2026.13 363.576 Q2026.27 363.459 2026.46 363.459 Q2026.71 363.459 2026.88 363.599 Q2027.04 363.74 2027.04 363.927 Q2027.04 364.349 2026.71 365.192 Q2026.41 366.035 2025.73 367.089 Q2025.07 368.143 2024.21 369.103 Q2023.36 370.04 2022.1 370.696 Q2020.84 371.328 2019.5 371.328 Q2018.54 371.328 2017.84 370.86 Q2017.13 370.415 2016.43 369.548 Q2015.47 368.448 2014.96 368.096 Q2014.44 367.721 2013.64 367.721 Q2011.51 367.721 2009.57 370.696 Q2009.36 371.118 2009.22 371.211 Q2009.1 371.328 2008.82 371.328 Q2008.23 371.305 2008.23 370.837 Q2008.23 370.649 2008.75 369.829 Q2009.29 368.986 2010.48 367.511 Q2011.7 366.035 2013.18 364.559 L2017.49 360.531 Q2022.26 356.502 2024.16 354.23 Q2023.36 354.23 2023.01 354.207 Q2022.69 354.183 2022.03 354.043 Q2021.37 353.879 2020.46 353.527 Q2018.33 352.801 2017.44 352.801 Q2017.2 352.801 2016.95 352.825 Q2016.69 352.848 2016.1 352.965 Q2015.54 353.082 2015.07 353.317 Q2014.6 353.527 2014.11 353.996 Q2013.62 354.441 2013.36 355.05 Q2013.29 355.237 2013.25 355.331 Q2013.2 355.425 2013.06 355.518 Q2012.94 355.589 2012.75 355.589 Q2012.47 355.589 2012.31 355.425 Q2012.17 355.261 2012.17 355.05 Q2012.17 354.628 2012.59 353.762 Q2013.01 352.895 2013.71 351.958 Q2014.42 350.998 2015.57 350.295 Q2016.71 349.592 2017.98 349.592 Q2018.73 349.592 2019.36 349.92 Q2020.02 350.248 2020.34 350.6 Q2020.69 350.928 2021.28 351.654 Q2021.77 352.216 2022.01 352.45 Q2022.24 352.684 2022.71 352.942 Q2023.2 353.176 2023.74 353.176 Q2024.63 353.176 2025.45 352.497 Q2026.27 351.794 2027.32 350.108 Q2027.6 349.592 2028.05 349.592 Q2028.56 349.592 2028.56 350.061 Z\" fill=\"#000000\" fill-rule=\"nonzero\" fill-opacity=\"1\" /><path clip-path=\"url(#clip950)\" d=\"M2033.19 382.314 Q2033.19 382.079 2033.8 381.494 Q2041.53 373.624 2041.53 358.797 Q2041.53 343.924 2034.11 336.406 Q2033.19 335.539 2033.19 335.281 Q2033.19 334.813 2033.66 334.813 Q2033.99 334.813 2035.14 335.773 Q2036.31 336.734 2038.07 338.935 Q2039.85 341.137 2041.16 343.831 Q2044.32 350.365 2044.32 358.797 Q2044.32 366.902 2041.3 373.437 Q2040.01 376.177 2038.21 378.472 Q2036.4 380.768 2035.21 381.775 Q2034.01 382.782 2033.66 382.782 Q2033.19 382.782 2033.19 382.314 Z\" fill=\"#000000\" fill-rule=\"nonzero\" fill-opacity=\"1\" /><path clip-path=\"url(#clip950)\" d=\"M2064.91 363.505 Q2064.96 362.92 2065.87 362.92 L2095.27 362.92 Q2096.65 362.92 2096.68 363.459 Q2096.68 364.044 2095.36 364.021 L2066.2 364.021 Q2064.91 364.044 2064.91 363.505 M2064.91 354.136 Q2064.91 353.551 2065.92 353.574 L2095.22 353.574 Q2096.65 353.574 2096.68 354.136 Q2096.68 354.675 2095.46 354.675 L2065.87 354.675 Q2064.91 354.675 2064.91 354.136 Z\" fill=\"#000000\" fill-rule=\"nonzero\" fill-opacity=\"1\" /><path clip-path=\"url(#clip950)\" d=\"M2115.17 362.873 L2115.17 361.397 L2129.9 338.888 Q2130.27 338.303 2130.86 338.326 Q2131.4 338.326 2131.51 338.537 Q2131.63 338.748 2131.63 339.568 L2131.63 361.397 L2136.43 361.397 L2136.43 362.873 L2131.63 362.873 L2131.63 367.042 Q2131.63 368.424 2132.19 368.869 Q2132.78 369.314 2135.26 369.314 L2136.27 369.314 L2136.27 370.79 Q2134.3 370.649 2129.76 370.649 Q2125.24 370.649 2123.27 370.79 L2123.27 369.314 L2124.28 369.314 Q2126.76 369.314 2127.35 368.893 Q2127.93 368.448 2127.93 367.042 L2127.93 362.873 L2115.17 362.873 M2116.52 361.397 L2128.21 361.397 L2128.21 343.503 L2116.52 361.397 Z\" fill=\"#000000\" fill-rule=\"nonzero\" fill-opacity=\"1\" /><path clip-path=\"url(#clip950)\" d=\"M1860.54 432.219 L1837.79 454.974 L1860.54 477.73 L1883.3 454.974 L1860.54 432.219 Z\" fill=\"#ff0000\" fill-rule=\"evenodd\" fill-opacity=\"1\" stroke=\"#000000\" stroke-opacity=\"1\" stroke-width=\"4.55111\"/>\n",
       "<path clip-path=\"url(#clip950)\" d=\"M1975.11 449.8 Q1975.11 449.964 1974.72 450.667 Q1974.34 451.346 1972.96 453.056 Q1971.58 454.766 1969.52 456.757 Q1968.74 457.53 1967.57 458.607 Q1966.4 459.684 1965.6 460.387 L1964.81 461.09 Q1961.76 463.666 1959.09 466.547 Q1959.28 466.477 1959.61 466.453 Q1959.94 466.407 1960.17 466.407 L1960.4 466.407 Q1961.62 466.407 1963.75 467.226 Q1965.63 467.835 1966.59 467.835 Q1967.52 467.835 1968.56 467.508 Q1969.59 467.18 1970.71 466.219 Q1971.83 465.259 1972.35 463.807 Q1972.44 463.573 1972.49 463.502 Q1972.54 463.409 1972.68 463.315 Q1972.82 463.198 1973.01 463.198 Q1973.26 463.198 1973.43 463.338 Q1973.59 463.479 1973.59 463.666 Q1973.59 464.088 1973.26 464.931 Q1972.96 465.774 1972.28 466.828 Q1971.62 467.882 1970.76 468.843 Q1969.91 469.779 1968.65 470.435 Q1967.38 471.068 1966.05 471.068 Q1965.09 471.068 1964.39 470.599 Q1963.68 470.154 1962.98 469.288 Q1962.02 468.187 1961.51 467.835 Q1960.99 467.461 1960.19 467.461 Q1958.06 467.461 1956.12 470.435 Q1955.91 470.857 1955.77 470.951 Q1955.65 471.068 1955.37 471.068 Q1954.78 471.044 1954.78 470.576 Q1954.78 470.388 1955.3 469.569 Q1955.84 468.725 1957.03 467.25 Q1958.25 465.774 1959.73 464.299 L1964.04 460.27 Q1968.81 456.241 1970.71 453.969 Q1969.91 453.969 1969.56 453.946 Q1969.23 453.922 1968.58 453.782 Q1967.92 453.618 1967.01 453.267 Q1964.88 452.541 1963.99 452.541 Q1963.75 452.541 1963.5 452.564 Q1963.24 452.587 1962.65 452.705 Q1962.09 452.822 1961.62 453.056 Q1961.15 453.267 1960.66 453.735 Q1960.17 454.18 1959.91 454.789 Q1959.84 454.976 1959.8 455.07 Q1959.75 455.164 1959.61 455.258 Q1959.49 455.328 1959.3 455.328 Q1959.02 455.328 1958.86 455.164 Q1958.72 455 1958.72 454.789 Q1958.72 454.368 1959.14 453.501 Q1959.56 452.634 1960.26 451.697 Q1960.97 450.737 1962.11 450.034 Q1963.26 449.332 1964.53 449.332 Q1965.28 449.332 1965.91 449.66 Q1966.56 449.988 1966.89 450.339 Q1967.24 450.667 1967.83 451.393 Q1968.32 451.955 1968.56 452.189 Q1968.79 452.423 1969.26 452.681 Q1969.75 452.915 1970.29 452.915 Q1971.18 452.915 1972 452.236 Q1972.82 451.533 1973.87 449.847 Q1974.15 449.332 1974.6 449.332 Q1975.11 449.332 1975.11 449.8 Z\" fill=\"#000000\" fill-rule=\"nonzero\" fill-opacity=\"1\" /><path clip-path=\"url(#clip950)\" d=\"M1990.17 463.245 Q1990.21 462.659 1991.13 462.659 L2020.52 462.659 Q2021.91 462.659 2021.93 463.198 Q2021.93 463.783 2020.62 463.76 L1991.46 463.76 Q1990.17 463.783 1990.17 463.245 M1990.17 453.876 Q1990.17 453.29 1991.18 453.314 L2020.48 453.314 Q2021.91 453.314 2021.93 453.876 Q2021.93 454.414 2020.71 454.414 L1991.13 454.414 Q1990.17 454.414 1990.17 453.876 Z\" fill=\"#000000\" fill-rule=\"nonzero\" fill-opacity=\"1\" /><path clip-path=\"url(#clip950)\" d=\"M2040.42 470.529 Q2040.42 469.662 2040.49 469.405 Q2040.58 469.147 2040.96 468.749 L2050.16 458.49 Q2055.2 452.822 2055.2 447.879 Q2055.2 444.671 2053.51 442.375 Q2051.85 440.08 2048.78 440.08 Q2046.67 440.08 2044.89 441.368 Q2043.11 442.656 2042.29 444.952 Q2042.43 444.905 2042.93 444.905 Q2044.12 444.905 2044.78 445.654 Q2045.46 446.404 2045.46 447.411 Q2045.46 448.699 2044.61 449.332 Q2043.79 449.941 2042.97 449.941 Q2042.64 449.941 2042.2 449.87 Q2041.78 449.8 2041.1 449.144 Q2040.42 448.465 2040.42 447.271 Q2040.42 443.921 2042.95 441.251 Q2045.5 438.581 2049.39 438.581 Q2053.79 438.581 2056.67 441.204 Q2059.58 443.804 2059.58 447.879 Q2059.58 449.308 2059.13 450.62 Q2058.71 451.908 2058.13 452.915 Q2057.56 453.922 2056.02 455.539 Q2054.47 457.155 2053.23 458.302 Q2051.99 459.45 2049.2 461.886 L2044.12 466.828 L2052.76 466.828 Q2056.98 466.828 2057.31 466.453 Q2057.78 465.774 2058.36 462.191 L2059.58 462.191 L2058.22 470.529 L2040.42 470.529 Z\" fill=\"#000000\" fill-rule=\"nonzero\" fill-opacity=\"1\" /></svg>\n"
      ],
      "text/html": [
       "<?xml version=\"1.0\" encoding=\"utf-8\"?>\n",
       "<svg xmlns=\"http://www.w3.org/2000/svg\" xmlns:xlink=\"http://www.w3.org/1999/xlink\" width=\"600\" height=\"400\" viewBox=\"0 0 2400 1600\">\n",
       "<defs>\n",
       "  <clipPath id=\"clip000\">\n",
       "    <rect x=\"0\" y=\"0\" width=\"2400\" height=\"1600\"/>\n",
       "  </clipPath>\n",
       "</defs>\n",
       "<path clip-path=\"url(#clip000)\" d=\"M0 1600 L2400 1600 L2400 0 L0 0  Z\" fill=\"#ffffff\" fill-rule=\"evenodd\" fill-opacity=\"1\"/>\n",
       "<defs>\n",
       "  <clipPath id=\"clip001\">\n",
       "    <rect x=\"480\" y=\"0\" width=\"1681\" height=\"1600\"/>\n",
       "  </clipPath>\n",
       "</defs>\n",
       "<path clip-path=\"url(#clip000)\" d=\"M232.389 1423.18 L2352.76 1423.18 L2352.76 123.472 L232.389 123.472  Z\" fill=\"#ffffff\" fill-rule=\"evenodd\" fill-opacity=\"1\"/>\n",
       "<defs>\n",
       "  <clipPath id=\"clip002\">\n",
       "    <rect x=\"232\" y=\"123\" width=\"2121\" height=\"1301\"/>\n",
       "  </clipPath>\n",
       "</defs>\n",
       "<polyline clip-path=\"url(#clip002)\" style=\"stroke:#000000; stroke-linecap:round; stroke-linejoin:round; stroke-width:2; stroke-opacity:0.1; fill:none\" points=\"292.4,1423.18 292.4,123.472 \"/>\n",
       "<polyline clip-path=\"url(#clip002)\" style=\"stroke:#000000; stroke-linecap:round; stroke-linejoin:round; stroke-width:2; stroke-opacity:0.1; fill:none\" points=\"792.486,1423.18 792.486,123.472 \"/>\n",
       "<polyline clip-path=\"url(#clip002)\" style=\"stroke:#000000; stroke-linecap:round; stroke-linejoin:round; stroke-width:2; stroke-opacity:0.1; fill:none\" points=\"1292.57,1423.18 1292.57,123.472 \"/>\n",
       "<polyline clip-path=\"url(#clip002)\" style=\"stroke:#000000; stroke-linecap:round; stroke-linejoin:round; stroke-width:2; stroke-opacity:0.1; fill:none\" points=\"1792.66,1423.18 1792.66,123.472 \"/>\n",
       "<polyline clip-path=\"url(#clip002)\" style=\"stroke:#000000; stroke-linecap:round; stroke-linejoin:round; stroke-width:2; stroke-opacity:0.1; fill:none\" points=\"2292.75,1423.18 2292.75,123.472 \"/>\n",
       "<polyline clip-path=\"url(#clip000)\" style=\"stroke:#000000; stroke-linecap:round; stroke-linejoin:round; stroke-width:4; stroke-opacity:1; fill:none\" points=\"232.389,1423.18 2352.76,1423.18 \"/>\n",
       "<polyline clip-path=\"url(#clip000)\" style=\"stroke:#000000; stroke-linecap:round; stroke-linejoin:round; stroke-width:4; stroke-opacity:1; fill:none\" points=\"292.4,1423.18 292.4,1404.28 \"/>\n",
       "<polyline clip-path=\"url(#clip000)\" style=\"stroke:#000000; stroke-linecap:round; stroke-linejoin:round; stroke-width:4; stroke-opacity:1; fill:none\" points=\"792.486,1423.18 792.486,1404.28 \"/>\n",
       "<polyline clip-path=\"url(#clip000)\" style=\"stroke:#000000; stroke-linecap:round; stroke-linejoin:round; stroke-width:4; stroke-opacity:1; fill:none\" points=\"1292.57,1423.18 1292.57,1404.28 \"/>\n",
       "<polyline clip-path=\"url(#clip000)\" style=\"stroke:#000000; stroke-linecap:round; stroke-linejoin:round; stroke-width:4; stroke-opacity:1; fill:none\" points=\"1792.66,1423.18 1792.66,1404.28 \"/>\n",
       "<polyline clip-path=\"url(#clip000)\" style=\"stroke:#000000; stroke-linecap:round; stroke-linejoin:round; stroke-width:4; stroke-opacity:1; fill:none\" points=\"2292.75,1423.18 2292.75,1404.28 \"/>\n",
       "<path clip-path=\"url(#clip000)\" d=\"M269.784 1454.1 Q266.173 1454.1 264.344 1457.66 Q262.539 1461.2 262.539 1468.33 Q262.539 1475.44 264.344 1479.01 Q266.173 1482.55 269.784 1482.55 Q273.418 1482.55 275.224 1479.01 Q277.053 1475.44 277.053 1468.33 Q277.053 1461.2 275.224 1457.66 Q273.418 1454.1 269.784 1454.1 M269.784 1450.39 Q275.594 1450.39 278.65 1455 Q281.728 1459.58 281.728 1468.33 Q281.728 1477.06 278.65 1481.67 Q275.594 1486.25 269.784 1486.25 Q263.974 1486.25 260.895 1481.67 Q257.84 1477.06 257.84 1468.33 Q257.84 1459.58 260.895 1455 Q263.974 1450.39 269.784 1450.39 Z\" fill=\"#000000\" fill-rule=\"nonzero\" fill-opacity=\"1\" /><path clip-path=\"url(#clip000)\" d=\"M289.946 1479.7 L294.83 1479.7 L294.83 1485.58 L289.946 1485.58 L289.946 1479.7 Z\" fill=\"#000000\" fill-rule=\"nonzero\" fill-opacity=\"1\" /><path clip-path=\"url(#clip000)\" d=\"M315.015 1454.1 Q311.404 1454.1 309.576 1457.66 Q307.77 1461.2 307.77 1468.33 Q307.77 1475.44 309.576 1479.01 Q311.404 1482.55 315.015 1482.55 Q318.65 1482.55 320.455 1479.01 Q322.284 1475.44 322.284 1468.33 Q322.284 1461.2 320.455 1457.66 Q318.65 1454.1 315.015 1454.1 M315.015 1450.39 Q320.825 1450.39 323.881 1455 Q326.96 1459.58 326.96 1468.33 Q326.96 1477.06 323.881 1481.67 Q320.825 1486.25 315.015 1486.25 Q309.205 1486.25 306.126 1481.67 Q303.071 1477.06 303.071 1468.33 Q303.071 1459.58 306.126 1455 Q309.205 1450.39 315.015 1450.39 Z\" fill=\"#000000\" fill-rule=\"nonzero\" fill-opacity=\"1\" /><path clip-path=\"url(#clip000)\" d=\"M764.222 1481.64 L780.542 1481.64 L780.542 1485.58 L758.597 1485.58 L758.597 1481.64 Q761.259 1478.89 765.843 1474.26 Q770.449 1469.61 771.63 1468.27 Q773.875 1465.74 774.755 1464.01 Q775.658 1462.25 775.658 1460.56 Q775.658 1457.8 773.713 1456.07 Q771.792 1454.33 768.69 1454.33 Q766.491 1454.33 764.037 1455.09 Q761.607 1455.86 758.829 1457.41 L758.829 1452.69 Q761.653 1451.55 764.107 1450.97 Q766.56 1450.39 768.597 1450.39 Q773.968 1450.39 777.162 1453.08 Q780.357 1455.77 780.357 1460.26 Q780.357 1462.39 779.546 1464.31 Q778.759 1466.2 776.653 1468.8 Q776.074 1469.47 772.972 1472.69 Q769.871 1475.88 764.222 1481.64 Z\" fill=\"#000000\" fill-rule=\"nonzero\" fill-opacity=\"1\" /><path clip-path=\"url(#clip000)\" d=\"M790.357 1479.7 L795.241 1479.7 L795.241 1485.58 L790.357 1485.58 L790.357 1479.7 Z\" fill=\"#000000\" fill-rule=\"nonzero\" fill-opacity=\"1\" /><path clip-path=\"url(#clip000)\" d=\"M805.472 1451.02 L823.829 1451.02 L823.829 1454.96 L809.755 1454.96 L809.755 1463.43 Q810.773 1463.08 811.792 1462.92 Q812.81 1462.73 813.829 1462.73 Q819.616 1462.73 822.995 1465.9 Q826.375 1469.08 826.375 1474.49 Q826.375 1480.07 822.903 1483.17 Q819.43 1486.25 813.111 1486.25 Q810.935 1486.25 808.667 1485.88 Q806.421 1485.51 804.014 1484.77 L804.014 1480.07 Q806.097 1481.2 808.319 1481.76 Q810.542 1482.32 813.018 1482.32 Q817.023 1482.32 819.361 1480.21 Q821.699 1478.1 821.699 1474.49 Q821.699 1470.88 819.361 1468.77 Q817.023 1466.67 813.018 1466.67 Q811.143 1466.67 809.268 1467.08 Q807.417 1467.5 805.472 1468.38 L805.472 1451.02 Z\" fill=\"#000000\" fill-rule=\"nonzero\" fill-opacity=\"1\" /><path clip-path=\"url(#clip000)\" d=\"M1259.74 1451.02 L1278.09 1451.02 L1278.09 1454.96 L1264.02 1454.96 L1264.02 1463.43 Q1265.04 1463.08 1266.06 1462.92 Q1267.08 1462.73 1268.09 1462.73 Q1273.88 1462.73 1277.26 1465.9 Q1280.64 1469.08 1280.64 1474.49 Q1280.64 1480.07 1277.17 1483.17 Q1273.7 1486.25 1267.38 1486.25 Q1265.2 1486.25 1262.93 1485.88 Q1260.69 1485.51 1258.28 1484.77 L1258.28 1480.07 Q1260.36 1481.2 1262.58 1481.76 Q1264.81 1482.32 1267.28 1482.32 Q1271.29 1482.32 1273.63 1480.21 Q1275.96 1478.1 1275.96 1474.49 Q1275.96 1470.88 1273.63 1468.77 Q1271.29 1466.67 1267.28 1466.67 Q1265.41 1466.67 1263.53 1467.08 Q1261.68 1467.5 1259.74 1468.38 L1259.74 1451.02 Z\" fill=\"#000000\" fill-rule=\"nonzero\" fill-opacity=\"1\" /><path clip-path=\"url(#clip000)\" d=\"M1289.85 1479.7 L1294.74 1479.7 L1294.74 1485.58 L1289.85 1485.58 L1289.85 1479.7 Z\" fill=\"#000000\" fill-rule=\"nonzero\" fill-opacity=\"1\" /><path clip-path=\"url(#clip000)\" d=\"M1314.92 1454.1 Q1311.31 1454.1 1309.48 1457.66 Q1307.68 1461.2 1307.68 1468.33 Q1307.68 1475.44 1309.48 1479.01 Q1311.31 1482.55 1314.92 1482.55 Q1318.56 1482.55 1320.36 1479.01 Q1322.19 1475.44 1322.19 1468.33 Q1322.19 1461.2 1320.36 1457.66 Q1318.56 1454.1 1314.92 1454.1 M1314.92 1450.39 Q1320.73 1450.39 1323.79 1455 Q1326.87 1459.58 1326.87 1468.33 Q1326.87 1477.06 1323.79 1481.67 Q1320.73 1486.25 1314.92 1486.25 Q1309.11 1486.25 1306.03 1481.67 Q1302.98 1477.06 1302.98 1468.33 Q1302.98 1459.58 1306.03 1455 Q1309.11 1450.39 1314.92 1450.39 Z\" fill=\"#000000\" fill-rule=\"nonzero\" fill-opacity=\"1\" /><path clip-path=\"url(#clip000)\" d=\"M1758.98 1451.02 L1781.2 1451.02 L1781.2 1453.01 L1768.65 1485.58 L1763.77 1485.58 L1775.58 1454.96 L1758.98 1454.96 L1758.98 1451.02 Z\" fill=\"#000000\" fill-rule=\"nonzero\" fill-opacity=\"1\" /><path clip-path=\"url(#clip000)\" d=\"M1790.32 1479.7 L1795.21 1479.7 L1795.21 1485.58 L1790.32 1485.58 L1790.32 1479.7 Z\" fill=\"#000000\" fill-rule=\"nonzero\" fill-opacity=\"1\" /><path clip-path=\"url(#clip000)\" d=\"M1805.44 1451.02 L1823.79 1451.02 L1823.79 1454.96 L1809.72 1454.96 L1809.72 1463.43 Q1810.74 1463.08 1811.76 1462.92 Q1812.77 1462.73 1813.79 1462.73 Q1819.58 1462.73 1822.96 1465.9 Q1826.34 1469.08 1826.34 1474.49 Q1826.34 1480.07 1822.87 1483.17 Q1819.4 1486.25 1813.08 1486.25 Q1810.9 1486.25 1808.63 1485.88 Q1806.39 1485.51 1803.98 1484.77 L1803.98 1480.07 Q1806.06 1481.2 1808.28 1481.76 Q1810.51 1482.32 1812.98 1482.32 Q1816.99 1482.32 1819.33 1480.21 Q1821.66 1478.1 1821.66 1474.49 Q1821.66 1470.88 1819.33 1468.77 Q1816.99 1466.67 1812.98 1466.67 Q1811.11 1466.67 1809.23 1467.08 Q1807.38 1467.5 1805.44 1468.38 L1805.44 1451.02 Z\" fill=\"#000000\" fill-rule=\"nonzero\" fill-opacity=\"1\" /><path clip-path=\"url(#clip000)\" d=\"M2244.82 1481.64 L2252.46 1481.64 L2252.46 1455.28 L2244.15 1456.95 L2244.15 1452.69 L2252.41 1451.02 L2257.09 1451.02 L2257.09 1481.64 L2264.72 1481.64 L2264.72 1485.58 L2244.82 1485.58 L2244.82 1481.64 Z\" fill=\"#000000\" fill-rule=\"nonzero\" fill-opacity=\"1\" /><path clip-path=\"url(#clip000)\" d=\"M2284.17 1454.1 Q2280.56 1454.1 2278.73 1457.66 Q2276.92 1461.2 2276.92 1468.33 Q2276.92 1475.44 2278.73 1479.01 Q2280.56 1482.55 2284.17 1482.55 Q2287.8 1482.55 2289.61 1479.01 Q2291.44 1475.44 2291.44 1468.33 Q2291.44 1461.2 2289.61 1457.66 Q2287.8 1454.1 2284.17 1454.1 M2284.17 1450.39 Q2289.98 1450.39 2293.03 1455 Q2296.11 1459.58 2296.11 1468.33 Q2296.11 1477.06 2293.03 1481.67 Q2289.98 1486.25 2284.17 1486.25 Q2278.36 1486.25 2275.28 1481.67 Q2272.22 1477.06 2272.22 1468.33 Q2272.22 1459.58 2275.28 1455 Q2278.36 1450.39 2284.17 1450.39 Z\" fill=\"#000000\" fill-rule=\"nonzero\" fill-opacity=\"1\" /><path clip-path=\"url(#clip000)\" d=\"M2304.33 1479.7 L2309.22 1479.7 L2309.22 1485.58 L2304.33 1485.58 L2304.33 1479.7 Z\" fill=\"#000000\" fill-rule=\"nonzero\" fill-opacity=\"1\" /><path clip-path=\"url(#clip000)\" d=\"M2329.4 1454.1 Q2325.79 1454.1 2323.96 1457.66 Q2322.16 1461.2 2322.16 1468.33 Q2322.16 1475.44 2323.96 1479.01 Q2325.79 1482.55 2329.4 1482.55 Q2333.03 1482.55 2334.84 1479.01 Q2336.67 1475.44 2336.67 1468.33 Q2336.67 1461.2 2334.84 1457.66 Q2333.03 1454.1 2329.4 1454.1 M2329.4 1450.39 Q2335.21 1450.39 2338.27 1455 Q2341.34 1459.58 2341.34 1468.33 Q2341.34 1477.06 2338.27 1481.67 Q2335.21 1486.25 2329.4 1486.25 Q2323.59 1486.25 2320.51 1481.67 Q2317.46 1477.06 2317.46 1468.33 Q2317.46 1459.58 2320.51 1455 Q2323.59 1450.39 2329.4 1450.39 Z\" fill=\"#000000\" fill-rule=\"nonzero\" fill-opacity=\"1\" /><path clip-path=\"url(#clip000)\" d=\"M1305.34 1525.1 Q1305.34 1525.33 1304.8 1526.29 Q1304.28 1527.23 1302.38 1529.58 Q1300.48 1531.93 1297.65 1534.67 Q1296.58 1535.73 1294.97 1537.21 Q1293.36 1538.69 1292.27 1539.66 L1291.17 1540.62 Q1286.99 1544.17 1283.31 1548.13 Q1283.57 1548.03 1284.02 1548 Q1284.47 1547.93 1284.8 1547.93 L1285.12 1547.93 Q1286.79 1547.93 1289.72 1549.06 Q1292.3 1549.9 1293.62 1549.9 Q1294.91 1549.9 1296.33 1549.45 Q1297.74 1549 1299.29 1547.68 Q1300.83 1546.36 1301.54 1544.36 Q1301.67 1544.04 1301.74 1543.94 Q1301.8 1543.81 1301.99 1543.68 Q1302.19 1543.52 1302.45 1543.52 Q1302.8 1543.52 1303.02 1543.71 Q1303.25 1543.91 1303.25 1544.17 Q1303.25 1544.75 1302.8 1545.9 Q1302.38 1547.06 1301.45 1548.51 Q1300.54 1549.96 1299.35 1551.28 Q1298.19 1552.57 1296.45 1553.47 Q1294.72 1554.34 1292.88 1554.34 Q1291.56 1554.34 1290.59 1553.7 Q1289.63 1553.09 1288.66 1551.9 Q1287.34 1550.38 1286.63 1549.9 Q1285.92 1549.38 1284.83 1549.38 Q1281.9 1549.38 1279.22 1553.47 Q1278.93 1554.05 1278.74 1554.18 Q1278.58 1554.34 1278.19 1554.34 Q1277.39 1554.31 1277.39 1553.67 Q1277.39 1553.41 1278.1 1552.28 Q1278.84 1551.12 1280.48 1549.09 Q1282.16 1547.06 1284.18 1545.04 L1290.11 1539.5 Q1296.68 1533.96 1299.29 1530.83 Q1298.19 1530.83 1297.71 1530.8 Q1297.26 1530.77 1296.36 1530.57 Q1295.46 1530.35 1294.2 1529.87 Q1291.27 1528.87 1290.05 1528.87 Q1289.72 1528.87 1289.37 1528.9 Q1289.02 1528.93 1288.21 1529.09 Q1287.44 1529.25 1286.79 1529.58 Q1286.15 1529.87 1285.47 1530.51 Q1284.8 1531.12 1284.44 1531.96 Q1284.35 1532.22 1284.28 1532.35 Q1284.22 1532.48 1284.02 1532.6 Q1283.86 1532.7 1283.6 1532.7 Q1283.22 1532.7 1282.99 1532.48 Q1282.8 1532.25 1282.8 1531.96 Q1282.8 1531.38 1283.38 1530.19 Q1283.96 1529 1284.93 1527.71 Q1285.89 1526.39 1287.47 1525.42 Q1289.05 1524.46 1290.79 1524.46 Q1291.82 1524.46 1292.69 1524.91 Q1293.59 1525.36 1294.04 1525.84 Q1294.52 1526.29 1295.33 1527.29 Q1296 1528.06 1296.33 1528.38 Q1296.65 1528.71 1297.29 1529.06 Q1297.97 1529.38 1298.71 1529.38 Q1299.93 1529.38 1301.06 1528.45 Q1302.19 1527.48 1303.64 1525.16 Q1304.02 1524.46 1304.64 1524.46 Q1305.34 1524.46 1305.34 1525.1 Z\" fill=\"#000000\" fill-rule=\"nonzero\" fill-opacity=\"1\" /><polyline clip-path=\"url(#clip002)\" style=\"stroke:#000000; stroke-linecap:round; stroke-linejoin:round; stroke-width:2; stroke-opacity:0.1; fill:none\" points=\"232.389,1392.56 2352.76,1392.56 \"/>\n",
       "<polyline clip-path=\"url(#clip002)\" style=\"stroke:#000000; stroke-linecap:round; stroke-linejoin:round; stroke-width:2; stroke-opacity:0.1; fill:none\" points=\"232.389,1084.48 2352.76,1084.48 \"/>\n",
       "<polyline clip-path=\"url(#clip002)\" style=\"stroke:#000000; stroke-linecap:round; stroke-linejoin:round; stroke-width:2; stroke-opacity:0.1; fill:none\" points=\"232.389,776.407 2352.76,776.407 \"/>\n",
       "<polyline clip-path=\"url(#clip002)\" style=\"stroke:#000000; stroke-linecap:round; stroke-linejoin:round; stroke-width:2; stroke-opacity:0.1; fill:none\" points=\"232.389,468.332 2352.76,468.332 \"/>\n",
       "<polyline clip-path=\"url(#clip002)\" style=\"stroke:#000000; stroke-linecap:round; stroke-linejoin:round; stroke-width:2; stroke-opacity:0.1; fill:none\" points=\"232.389,160.256 2352.76,160.256 \"/>\n",
       "<polyline clip-path=\"url(#clip000)\" style=\"stroke:#000000; stroke-linecap:round; stroke-linejoin:round; stroke-width:4; stroke-opacity:1; fill:none\" points=\"232.389,1423.18 232.389,123.472 \"/>\n",
       "<polyline clip-path=\"url(#clip000)\" style=\"stroke:#000000; stroke-linecap:round; stroke-linejoin:round; stroke-width:4; stroke-opacity:1; fill:none\" points=\"232.389,1392.56 251.287,1392.56 \"/>\n",
       "<polyline clip-path=\"url(#clip000)\" style=\"stroke:#000000; stroke-linecap:round; stroke-linejoin:round; stroke-width:4; stroke-opacity:1; fill:none\" points=\"232.389,1084.48 251.287,1084.48 \"/>\n",
       "<polyline clip-path=\"url(#clip000)\" style=\"stroke:#000000; stroke-linecap:round; stroke-linejoin:round; stroke-width:4; stroke-opacity:1; fill:none\" points=\"232.389,776.407 251.287,776.407 \"/>\n",
       "<polyline clip-path=\"url(#clip000)\" style=\"stroke:#000000; stroke-linecap:round; stroke-linejoin:round; stroke-width:4; stroke-opacity:1; fill:none\" points=\"232.389,468.332 251.287,468.332 \"/>\n",
       "<polyline clip-path=\"url(#clip000)\" style=\"stroke:#000000; stroke-linecap:round; stroke-linejoin:round; stroke-width:4; stroke-opacity:1; fill:none\" points=\"232.389,160.256 251.287,160.256 \"/>\n",
       "<path clip-path=\"url(#clip000)\" d=\"M184.445 1378.36 Q180.834 1378.36 179.005 1381.92 Q177.2 1385.46 177.2 1392.59 Q177.2 1399.7 179.005 1403.26 Q180.834 1406.8 184.445 1406.8 Q188.079 1406.8 189.885 1403.26 Q191.713 1399.7 191.713 1392.59 Q191.713 1385.46 189.885 1381.92 Q188.079 1378.36 184.445 1378.36 M184.445 1374.65 Q190.255 1374.65 193.311 1379.26 Q196.389 1383.84 196.389 1392.59 Q196.389 1401.32 193.311 1405.93 Q190.255 1410.51 184.445 1410.51 Q178.635 1410.51 175.556 1405.93 Q172.501 1401.32 172.501 1392.59 Q172.501 1383.84 175.556 1379.26 Q178.635 1374.65 184.445 1374.65 Z\" fill=\"#000000\" fill-rule=\"nonzero\" fill-opacity=\"1\" /><path clip-path=\"url(#clip000)\" d=\"M149.306 1097.83 L165.626 1097.83 L165.626 1101.76 L143.681 1101.76 L143.681 1097.83 Q146.343 1095.07 150.927 1090.44 Q155.533 1085.79 156.714 1084.45 Q158.959 1081.92 159.839 1080.19 Q160.741 1078.43 160.741 1076.74 Q160.741 1073.98 158.797 1072.25 Q156.876 1070.51 153.774 1070.51 Q151.575 1070.51 149.121 1071.28 Q146.691 1072.04 143.913 1073.59 L143.913 1068.87 Q146.737 1067.73 149.191 1067.16 Q151.644 1066.58 153.681 1066.58 Q159.052 1066.58 162.246 1069.26 Q165.44 1071.95 165.44 1076.44 Q165.44 1078.57 164.63 1080.49 Q163.843 1082.39 161.737 1084.98 Q161.158 1085.65 158.056 1088.87 Q154.954 1092.06 149.306 1097.83 Z\" fill=\"#000000\" fill-rule=\"nonzero\" fill-opacity=\"1\" /><path clip-path=\"url(#clip000)\" d=\"M175.487 1067.2 L193.843 1067.2 L193.843 1071.14 L179.769 1071.14 L179.769 1079.61 Q180.788 1079.26 181.806 1079.1 Q182.825 1078.91 183.843 1078.91 Q189.63 1078.91 193.01 1082.09 Q196.389 1085.26 196.389 1090.67 Q196.389 1096.25 192.917 1099.35 Q189.445 1102.43 183.126 1102.43 Q180.95 1102.43 178.681 1102.06 Q176.436 1101.69 174.028 1100.95 L174.028 1096.25 Q176.112 1097.39 178.334 1097.94 Q180.556 1098.5 183.033 1098.5 Q187.038 1098.5 189.375 1096.39 Q191.713 1094.29 191.713 1090.67 Q191.713 1087.06 189.375 1084.96 Q187.038 1082.85 183.033 1082.85 Q181.158 1082.85 179.283 1083.27 Q177.431 1083.68 175.487 1084.56 L175.487 1067.2 Z\" fill=\"#000000\" fill-rule=\"nonzero\" fill-opacity=\"1\" /><path clip-path=\"url(#clip000)\" d=\"M144.329 759.127 L162.686 759.127 L162.686 763.062 L148.612 763.062 L148.612 771.534 Q149.63 771.187 150.649 771.025 Q151.667 770.84 152.686 770.84 Q158.473 770.84 161.852 774.011 Q165.232 777.182 165.232 782.599 Q165.232 788.178 161.76 791.279 Q158.288 794.358 151.968 794.358 Q149.792 794.358 147.524 793.988 Q145.279 793.617 142.871 792.877 L142.871 788.178 Q144.954 789.312 147.177 789.867 Q149.399 790.423 151.876 790.423 Q155.88 790.423 158.218 788.316 Q160.556 786.21 160.556 782.599 Q160.556 778.988 158.218 776.881 Q155.88 774.775 151.876 774.775 Q150.001 774.775 148.126 775.191 Q146.274 775.608 144.329 776.488 L144.329 759.127 Z\" fill=\"#000000\" fill-rule=\"nonzero\" fill-opacity=\"1\" /><path clip-path=\"url(#clip000)\" d=\"M184.445 762.205 Q180.834 762.205 179.005 765.77 Q177.2 769.312 177.2 776.441 Q177.2 783.548 179.005 787.113 Q180.834 790.654 184.445 790.654 Q188.079 790.654 189.885 787.113 Q191.713 783.548 191.713 776.441 Q191.713 769.312 189.885 765.77 Q188.079 762.205 184.445 762.205 M184.445 758.502 Q190.255 758.502 193.311 763.108 Q196.389 767.692 196.389 776.441 Q196.389 785.168 193.311 789.775 Q190.255 794.358 184.445 794.358 Q178.635 794.358 175.556 789.775 Q172.501 785.168 172.501 776.441 Q172.501 767.692 175.556 763.108 Q178.635 758.502 184.445 758.502 Z\" fill=\"#000000\" fill-rule=\"nonzero\" fill-opacity=\"1\" /><path clip-path=\"url(#clip000)\" d=\"M144.098 451.052 L166.32 451.052 L166.32 453.042 L153.774 485.612 L148.89 485.612 L160.695 454.987 L144.098 454.987 L144.098 451.052 Z\" fill=\"#000000\" fill-rule=\"nonzero\" fill-opacity=\"1\" /><path clip-path=\"url(#clip000)\" d=\"M175.487 451.052 L193.843 451.052 L193.843 454.987 L179.769 454.987 L179.769 463.459 Q180.788 463.112 181.806 462.95 Q182.825 462.764 183.843 462.764 Q189.63 462.764 193.01 465.936 Q196.389 469.107 196.389 474.524 Q196.389 480.102 192.917 483.204 Q189.445 486.283 183.126 486.283 Q180.95 486.283 178.681 485.912 Q176.436 485.542 174.028 484.801 L174.028 480.102 Q176.112 481.237 178.334 481.792 Q180.556 482.348 183.033 482.348 Q187.038 482.348 189.375 480.241 Q191.713 478.135 191.713 474.524 Q191.713 470.913 189.375 468.806 Q187.038 466.7 183.033 466.7 Q181.158 466.7 179.283 467.116 Q177.431 467.533 175.487 468.413 L175.487 451.052 Z\" fill=\"#000000\" fill-rule=\"nonzero\" fill-opacity=\"1\" /><path clip-path=\"url(#clip000)\" d=\"M114.931 173.601 L122.57 173.601 L122.57 147.236 L114.26 148.902 L114.26 144.643 L122.524 142.976 L127.2 142.976 L127.2 173.601 L134.839 173.601 L134.839 177.536 L114.931 177.536 L114.931 173.601 Z\" fill=\"#000000\" fill-rule=\"nonzero\" fill-opacity=\"1\" /><path clip-path=\"url(#clip000)\" d=\"M154.283 146.055 Q150.672 146.055 148.843 149.62 Q147.038 153.161 147.038 160.291 Q147.038 167.397 148.843 170.962 Q150.672 174.504 154.283 174.504 Q157.917 174.504 159.723 170.962 Q161.552 167.397 161.552 160.291 Q161.552 153.161 159.723 149.62 Q157.917 146.055 154.283 146.055 M154.283 142.351 Q160.093 142.351 163.149 146.958 Q166.227 151.541 166.227 160.291 Q166.227 169.018 163.149 173.624 Q160.093 178.208 154.283 178.208 Q148.473 178.208 145.394 173.624 Q142.339 169.018 142.339 160.291 Q142.339 151.541 145.394 146.958 Q148.473 142.351 154.283 142.351 Z\" fill=\"#000000\" fill-rule=\"nonzero\" fill-opacity=\"1\" /><path clip-path=\"url(#clip000)\" d=\"M184.445 146.055 Q180.834 146.055 179.005 149.62 Q177.2 153.161 177.2 160.291 Q177.2 167.397 179.005 170.962 Q180.834 174.504 184.445 174.504 Q188.079 174.504 189.885 170.962 Q191.713 167.397 191.713 160.291 Q191.713 153.161 189.885 149.62 Q188.079 146.055 184.445 146.055 M184.445 142.351 Q190.255 142.351 193.311 146.958 Q196.389 151.541 196.389 160.291 Q196.389 169.018 193.311 173.624 Q190.255 178.208 184.445 178.208 Q178.635 178.208 175.556 173.624 Q172.501 169.018 172.501 160.291 Q172.501 151.541 175.556 146.958 Q178.635 142.351 184.445 142.351 Z\" fill=\"#000000\" fill-rule=\"nonzero\" fill-opacity=\"1\" /><path clip-path=\"url(#clip000)\" d=\"M22.1553 795.046 Q22.7672 795.046 23.2825 795.174 L34.7478 796.978 Q35.6174 797.075 35.9394 797.268 Q36.2615 797.429 36.2615 797.944 Q36.2615 798.749 35.4241 798.749 Q34.941 798.749 34.1681 798.556 Q30.5288 798.009 28.8863 798.009 Q27.7913 798.009 26.9862 798.234 Q26.1488 798.427 25.5691 798.749 Q24.9894 799.039 24.6029 799.715 Q24.2165 800.392 23.991 801.036 Q23.7656 801.68 23.669 802.839 Q23.5402 803.999 23.5079 804.997 Q23.4757 805.996 23.4757 807.638 Q23.4757 811.213 23.6046 811.793 Q23.7656 812.405 24.2487 812.727 Q24.6996 813.016 26.0522 813.339 L61.06 822.099 L62.4448 822.356 Q63.2178 822.356 63.4754 821.873 Q63.7331 821.39 63.8941 819.909 Q64.0551 817.783 64.0551 815.69 Q64.0551 815.625 64.0551 815.496 Q64.0551 814.788 64.0873 814.498 Q64.0873 814.208 64.1517 813.918 Q64.2162 813.628 64.3772 813.564 Q64.506 813.467 64.7637 813.467 Q65.3756 813.467 65.6976 813.725 Q65.9875 813.983 66.0519 814.24 Q66.0841 814.466 66.0841 814.917 Q66.0841 815.818 66.0197 817.751 Q65.9553 819.683 65.9553 820.649 L65.8909 826.124 L65.9553 831.728 Q65.9553 832.598 66.0197 834.433 Q66.0841 836.269 66.0841 837.139 Q66.0841 838.266 65.2789 838.266 Q64.3772 838.266 64.2162 837.847 Q64.0551 837.396 64.0551 835.496 Q64.0551 832.823 63.9263 831.374 Q63.7975 829.925 63.3466 829.152 Q62.8957 828.346 62.4448 828.121 Q61.9617 827.896 60.8667 827.638 L25.6657 818.781 Q24.8928 818.524 24.2809 818.524 Q23.9588 818.524 23.83 818.62 Q23.7012 818.685 23.6046 819.103 Q23.4757 819.522 23.4757 820.392 L23.4757 822.968 Q23.4757 825.609 23.6046 827.251 Q23.7012 828.862 24.1843 830.408 Q24.6674 831.921 25.3437 832.823 Q26.02 833.693 27.4049 834.659 Q28.7897 835.625 30.4644 836.334 Q32.1391 837.01 34.8766 837.976 Q35.7784 838.298 36.036 838.491 Q36.2615 838.652 36.2615 839.103 Q36.2615 839.425 36.0682 839.683 Q35.8428 839.908 35.5529 839.908 Q34.4901 839.586 34.3613 839.522 L22.735 835.561 Q21.801 835.239 21.64 834.949 Q21.4468 834.627 21.4468 833.435 L21.4468 796.849 Q21.4468 796.269 21.4468 796.076 Q21.4468 795.883 21.5112 795.561 Q21.5756 795.239 21.7366 795.142 Q21.8977 795.046 22.1553 795.046 Z\" fill=\"#000000\" fill-rule=\"nonzero\" fill-opacity=\"1\" /><path clip-path=\"url(#clip000)\" d=\"M49.5947 788.03 Q38.4515 788.03 29.466 783.875 Q25.6979 782.104 22.5418 779.624 Q19.3856 777.144 18.0007 775.502 Q16.6159 773.859 16.6159 773.408 Q16.6159 772.764 17.26 772.732 Q17.5821 772.732 18.3872 773.602 Q29.2084 784.229 49.5947 784.197 Q70.0454 784.197 80.4479 773.859 Q81.5751 772.732 81.9294 772.732 Q82.5735 772.732 82.5735 773.408 Q82.5735 773.859 81.2531 775.437 Q79.9326 777.015 76.9053 779.463 Q73.8779 781.911 70.1742 783.682 Q61.1888 788.03 49.5947 788.03 Z\" fill=\"#000000\" fill-rule=\"nonzero\" fill-opacity=\"1\" /><path clip-path=\"url(#clip000)\" d=\"M37.5819 738.444 Q37.8073 738.444 38.7735 738.991 Q39.7075 739.506 42.0585 741.407 Q44.4096 743.307 47.147 746.141 Q48.2098 747.204 49.6913 748.814 Q51.1728 750.424 52.139 751.519 L53.1051 752.614 Q56.6478 756.801 60.6091 760.472 Q60.5125 760.215 60.4803 759.764 Q60.4159 759.313 60.4159 758.991 L60.4159 758.669 Q60.4159 756.994 61.5431 754.064 Q62.3804 751.487 62.3804 750.167 Q62.3804 748.878 61.9295 747.461 Q61.4787 746.044 60.1582 744.498 Q58.8378 742.952 56.841 742.244 Q56.519 742.115 56.4223 742.051 Q56.2935 741.986 56.1647 741.793 Q56.0037 741.6 56.0037 741.342 Q56.0037 740.988 56.1969 740.763 Q56.3901 740.537 56.6478 740.537 Q57.2275 740.537 58.3869 740.988 Q59.5463 741.407 60.9956 742.341 Q62.4448 743.242 63.7653 744.434 Q65.0535 745.593 65.9553 747.332 Q66.8248 749.072 66.8248 750.907 Q66.8248 752.228 66.1807 753.194 Q65.5688 754.16 64.3772 755.126 Q62.8635 756.447 62.3804 757.155 Q61.8651 757.864 61.8651 758.959 Q61.8651 761.89 65.9553 764.563 Q66.535 764.852 66.6638 765.046 Q66.8248 765.207 66.8248 765.593 Q66.7926 766.398 66.1485 766.398 Q65.8909 766.398 64.7637 765.69 Q63.6042 764.949 61.5753 763.307 Q59.5463 761.632 57.5173 759.603 L51.9779 753.677 Q46.4385 747.107 43.3146 744.498 Q43.3146 745.593 43.2823 746.076 Q43.2501 746.527 43.0569 747.429 Q42.8315 748.331 42.3484 749.587 Q41.35 752.518 41.35 753.741 Q41.35 754.064 41.3822 754.418 Q41.4144 754.772 41.5754 755.577 Q41.7365 756.35 42.0585 756.994 Q42.3484 757.638 42.9925 758.315 Q43.6044 758.991 44.4418 759.345 Q44.6994 759.442 44.8282 759.506 Q44.957 759.571 45.0859 759.764 Q45.1825 759.925 45.1825 760.183 Q45.1825 760.569 44.957 760.795 Q44.7316 760.988 44.4418 760.988 Q43.8621 760.988 42.6704 760.408 Q41.4788 759.828 40.1906 758.862 Q38.8701 757.896 37.904 756.318 Q36.9378 754.74 36.9378 753.001 Q36.9378 751.97 37.3887 751.101 Q37.8396 750.199 38.3226 749.748 Q38.7735 749.265 39.7719 748.46 Q40.5448 747.783 40.8669 747.461 Q41.189 747.139 41.5432 746.495 Q41.8653 745.819 41.8653 745.078 Q41.8653 743.854 40.9313 742.727 Q39.9651 741.6 37.6463 740.151 Q36.9378 739.764 36.9378 739.152 Q36.9378 738.444 37.5819 738.444 Z\" fill=\"#000000\" fill-rule=\"nonzero\" fill-opacity=\"1\" /><path clip-path=\"url(#clip000)\" d=\"M81.9294 732.071 Q81.6073 732.071 80.8022 731.234 Q69.981 720.606 49.5947 720.606 Q29.144 720.606 18.8059 730.815 Q17.6143 732.071 17.26 732.071 Q16.6159 732.071 16.6159 731.427 Q16.6159 730.976 17.9363 729.398 Q19.2568 727.788 22.2841 725.372 Q25.3115 722.925 29.0151 721.121 Q38.0006 716.773 49.5947 716.773 Q60.7379 716.773 69.7234 720.928 Q73.4914 722.699 76.6476 725.179 Q79.8038 727.659 81.1886 729.301 Q82.5735 730.944 82.5735 731.427 Q82.5735 732.071 81.9294 732.071 Z\" fill=\"#000000\" fill-rule=\"nonzero\" fill-opacity=\"1\" /><path clip-path=\"url(#clip000)\" d=\"M843.591 12.096 L894.754 12.096 L894.754 18.9825 L873.284 18.9825 L873.284 72.576 L865.06 72.576 L865.06 18.9825 L843.591 18.9825 L843.591 12.096 Z\" fill=\"#000000\" fill-rule=\"nonzero\" fill-opacity=\"1\" /><path clip-path=\"url(#clip000)\" d=\"M927.039 48.0275 L927.039 51.6733 L892.769 51.6733 Q893.255 59.3701 897.387 63.421 Q901.559 67.4314 908.972 67.4314 Q913.266 67.4314 917.277 66.3781 Q921.328 65.3249 925.297 63.2184 L925.297 70.267 Q921.287 71.9684 917.074 72.8596 Q912.861 73.7508 908.527 73.7508 Q897.67 73.7508 891.31 67.4314 Q884.991 61.1119 884.991 50.3365 Q884.991 39.1965 890.986 32.6746 Q897.022 26.1121 907.23 26.1121 Q916.385 26.1121 921.692 32.0264 Q927.039 37.9003 927.039 48.0275 M919.586 45.84 Q919.505 39.7232 916.142 36.0774 Q912.821 32.4315 907.311 32.4315 Q901.073 32.4315 897.306 35.9558 Q893.579 39.4801 893.012 45.8805 L919.586 45.84 Z\" fill=\"#000000\" fill-rule=\"nonzero\" fill-opacity=\"1\" /><path clip-path=\"url(#clip000)\" d=\"M974.597 35.9153 Q977.392 30.8922 981.281 28.5022 Q985.17 26.1121 990.436 26.1121 Q997.525 26.1121 1001.37 31.0947 Q1005.22 36.0368 1005.22 45.1919 L1005.22 72.576 L997.728 72.576 L997.728 45.4349 Q997.728 38.913 995.419 35.7533 Q993.11 32.5936 988.37 32.5936 Q982.577 32.5936 979.215 36.4419 Q975.853 40.2903 975.853 46.9338 L975.853 72.576 L968.359 72.576 L968.359 45.4349 Q968.359 38.8725 966.049 35.7533 Q963.74 32.5936 958.92 32.5936 Q953.208 32.5936 949.846 36.4824 Q946.484 40.3308 946.484 46.9338 L946.484 72.576 L938.989 72.576 L938.989 27.2059 L946.484 27.2059 L946.484 34.2544 Q949.036 30.082 952.6 28.0971 Q956.165 26.1121 961.067 26.1121 Q966.009 26.1121 969.452 28.6237 Q972.936 31.1352 974.597 35.9153 Z\" fill=\"#000000\" fill-rule=\"nonzero\" fill-opacity=\"1\" /><path clip-path=\"url(#clip000)\" d=\"M1027.3 65.7705 L1027.3 89.8329 L1019.8 89.8329 L1019.8 27.2059 L1027.3 27.2059 L1027.3 34.0924 Q1029.65 30.0415 1033.21 28.0971 Q1036.82 26.1121 1041.8 26.1121 Q1050.07 26.1121 1055.21 32.6746 Q1060.4 39.2371 1060.4 49.9314 Q1060.4 60.6258 1055.21 67.1883 Q1050.07 73.7508 1041.8 73.7508 Q1036.82 73.7508 1033.21 71.8063 Q1029.65 69.8214 1027.3 65.7705 M1052.66 49.9314 Q1052.66 41.7081 1049.26 37.0496 Q1045.89 32.3505 1039.98 32.3505 Q1034.06 32.3505 1030.66 37.0496 Q1027.3 41.7081 1027.3 49.9314 Q1027.3 58.1548 1030.66 62.8538 Q1034.06 67.5124 1039.98 67.5124 Q1045.89 67.5124 1049.26 62.8538 Q1052.66 58.1548 1052.66 49.9314 Z\" fill=\"#000000\" fill-rule=\"nonzero\" fill-opacity=\"1\" /><path clip-path=\"url(#clip000)\" d=\"M1111.56 48.0275 L1111.56 51.6733 L1077.29 51.6733 Q1077.77 59.3701 1081.91 63.421 Q1086.08 67.4314 1093.49 67.4314 Q1097.78 67.4314 1101.8 66.3781 Q1105.85 65.3249 1109.82 63.2184 L1109.82 70.267 Q1105.81 71.9684 1101.59 72.8596 Q1097.38 73.7508 1093.05 73.7508 Q1082.19 73.7508 1075.83 67.4314 Q1069.51 61.1119 1069.51 50.3365 Q1069.51 39.1965 1075.5 32.6746 Q1081.54 26.1121 1091.75 26.1121 Q1100.9 26.1121 1106.21 32.0264 Q1111.56 37.9003 1111.56 48.0275 M1104.1 45.84 Q1104.02 39.7232 1100.66 36.0774 Q1097.34 32.4315 1091.83 32.4315 Q1085.59 32.4315 1081.82 35.9558 Q1078.1 39.4801 1077.53 45.8805 L1104.1 45.84 Z\" fill=\"#000000\" fill-rule=\"nonzero\" fill-opacity=\"1\" /><path clip-path=\"url(#clip000)\" d=\"M1150.08 34.1734 Q1148.83 33.4443 1147.33 33.1202 Q1145.87 32.7556 1144.09 32.7556 Q1137.77 32.7556 1134.36 36.8875 Q1131 40.9789 1131 48.6757 L1131 72.576 L1123.51 72.576 L1123.51 27.2059 L1131 27.2059 L1131 34.2544 Q1133.35 30.1225 1137.12 28.1376 Q1140.89 26.1121 1146.27 26.1121 Q1147.04 26.1121 1147.98 26.2337 Q1148.91 26.3147 1150.04 26.5172 L1150.08 34.1734 Z\" fill=\"#000000\" fill-rule=\"nonzero\" fill-opacity=\"1\" /><path clip-path=\"url(#clip000)\" d=\"M1178.52 49.7694 Q1169.49 49.7694 1166 51.8354 Q1162.52 53.9013 1162.52 58.8839 Q1162.52 62.8538 1165.11 65.2034 Q1167.74 67.5124 1172.24 67.5124 Q1178.44 67.5124 1182.17 63.1374 Q1185.93 58.7219 1185.93 51.4303 L1185.93 49.7694 L1178.52 49.7694 M1193.39 46.6907 L1193.39 72.576 L1185.93 72.576 L1185.93 65.6895 Q1183.38 69.8214 1179.57 71.8063 Q1175.76 73.7508 1170.26 73.7508 Q1163.29 73.7508 1159.16 69.8619 Q1155.06 65.9325 1155.06 59.3701 Q1155.06 51.7138 1160.17 47.825 Q1165.31 43.9361 1175.48 43.9361 L1185.93 43.9361 L1185.93 43.2069 Q1185.93 38.0623 1182.53 35.2672 Q1179.17 32.4315 1173.05 32.4315 Q1169.16 32.4315 1165.48 33.3632 Q1161.79 34.295 1158.39 36.1584 L1158.39 29.2718 Q1162.48 27.692 1166.33 26.9223 Q1170.17 26.1121 1173.82 26.1121 Q1183.66 26.1121 1188.53 31.2163 Q1193.39 36.3204 1193.39 46.6907 Z\" fill=\"#000000\" fill-rule=\"nonzero\" fill-opacity=\"1\" /><path clip-path=\"url(#clip000)\" d=\"M1216.11 14.324 L1216.11 27.2059 L1231.46 27.2059 L1231.46 32.9987 L1216.11 32.9987 L1216.11 57.6282 Q1216.11 63.1779 1217.61 64.7578 Q1219.15 66.3376 1223.81 66.3376 L1231.46 66.3376 L1231.46 72.576 L1223.81 72.576 Q1215.18 72.576 1211.9 69.3758 Q1208.62 66.1351 1208.62 57.6282 L1208.62 32.9987 L1203.15 32.9987 L1203.15 27.2059 L1208.62 27.2059 L1208.62 14.324 L1216.11 14.324 Z\" fill=\"#000000\" fill-rule=\"nonzero\" fill-opacity=\"1\" /><path clip-path=\"url(#clip000)\" d=\"M1240.5 54.671 L1240.5 27.2059 L1247.95 27.2059 L1247.95 54.3874 Q1247.95 60.8284 1250.46 64.0691 Q1252.98 67.2693 1258 67.2693 Q1264.03 67.2693 1267.52 63.421 Q1271.04 59.5726 1271.04 52.9291 L1271.04 27.2059 L1278.5 27.2059 L1278.5 72.576 L1271.04 72.576 L1271.04 65.6084 Q1268.33 69.7404 1264.72 71.7658 Q1261.16 73.7508 1256.42 73.7508 Q1248.6 73.7508 1244.55 68.8897 Q1240.5 64.0286 1240.5 54.671 M1259.25 26.1121 L1259.25 26.1121 Z\" fill=\"#000000\" fill-rule=\"nonzero\" fill-opacity=\"1\" /><path clip-path=\"url(#clip000)\" d=\"M1320.14 34.1734 Q1318.88 33.4443 1317.38 33.1202 Q1315.93 32.7556 1314.14 32.7556 Q1307.82 32.7556 1304.42 36.8875 Q1301.06 40.9789 1301.06 48.6757 L1301.06 72.576 L1293.57 72.576 L1293.57 27.2059 L1301.06 27.2059 L1301.06 34.2544 Q1303.41 30.1225 1307.18 28.1376 Q1310.94 26.1121 1316.33 26.1121 Q1317.1 26.1121 1318.03 26.2337 Q1318.96 26.3147 1320.1 26.5172 L1320.14 34.1734 Z\" fill=\"#000000\" fill-rule=\"nonzero\" fill-opacity=\"1\" /><path clip-path=\"url(#clip000)\" d=\"M1364.94 48.0275 L1364.94 51.6733 L1330.67 51.6733 Q1331.16 59.3701 1335.29 63.421 Q1339.46 67.4314 1346.87 67.4314 Q1351.17 67.4314 1355.18 66.3781 Q1359.23 65.3249 1363.2 63.2184 L1363.2 70.267 Q1359.19 71.9684 1354.98 72.8596 Q1350.76 73.7508 1346.43 73.7508 Q1335.57 73.7508 1329.21 67.4314 Q1322.89 61.1119 1322.89 50.3365 Q1322.89 39.1965 1328.89 32.6746 Q1334.92 26.1121 1345.13 26.1121 Q1354.29 26.1121 1359.59 32.0264 Q1364.94 37.9003 1364.94 48.0275 M1357.49 45.84 Q1357.41 39.7232 1354.05 36.0774 Q1350.72 32.4315 1345.21 32.4315 Q1338.98 32.4315 1335.21 35.9558 Q1331.48 39.4801 1330.91 45.8805 L1357.49 45.84 Z\" fill=\"#000000\" fill-rule=\"nonzero\" fill-opacity=\"1\" /><path clip-path=\"url(#clip000)\" d=\"M1403.87 12.096 L1438.63 12.096 L1438.63 18.9825 L1412.05 18.9825 L1412.05 36.8065 L1436.04 36.8065 L1436.04 43.6931 L1412.05 43.6931 L1412.05 72.576 L1403.87 72.576 L1403.87 12.096 Z\" fill=\"#000000\" fill-rule=\"nonzero\" fill-opacity=\"1\" /><path clip-path=\"url(#clip000)\" d=\"M1445.96 54.671 L1445.96 27.2059 L1453.41 27.2059 L1453.41 54.3874 Q1453.41 60.8284 1455.93 64.0691 Q1458.44 67.2693 1463.46 67.2693 Q1469.5 67.2693 1472.98 63.421 Q1476.5 59.5726 1476.5 52.9291 L1476.5 27.2059 L1483.96 27.2059 L1483.96 72.576 L1476.5 72.576 L1476.5 65.6084 Q1473.79 69.7404 1470.18 71.7658 Q1466.62 73.7508 1461.88 73.7508 Q1454.06 73.7508 1450.01 68.8897 Q1445.96 64.0286 1445.96 54.671 M1464.72 26.1121 L1464.72 26.1121 Z\" fill=\"#000000\" fill-rule=\"nonzero\" fill-opacity=\"1\" /><path clip-path=\"url(#clip000)\" d=\"M1537.02 45.1919 L1537.02 72.576 L1529.57 72.576 L1529.57 45.4349 Q1529.57 38.994 1527.06 35.7938 Q1524.55 32.5936 1519.52 32.5936 Q1513.49 32.5936 1510 36.4419 Q1506.52 40.2903 1506.52 46.9338 L1506.52 72.576 L1499.03 72.576 L1499.03 27.2059 L1506.52 27.2059 L1506.52 34.2544 Q1509.19 30.163 1512.8 28.1376 Q1516.45 26.1121 1521.19 26.1121 Q1529 26.1121 1533.01 30.9732 Q1537.02 35.7938 1537.02 45.1919 Z\" fill=\"#000000\" fill-rule=\"nonzero\" fill-opacity=\"1\" /><path clip-path=\"url(#clip000)\" d=\"M1584.54 28.9478 L1584.54 35.9153 Q1581.38 34.1734 1578.18 33.3227 Q1575.02 32.4315 1571.78 32.4315 Q1564.53 32.4315 1560.52 37.0496 Q1556.51 41.6271 1556.51 49.9314 Q1556.51 58.2358 1560.52 62.8538 Q1564.53 67.4314 1571.78 67.4314 Q1575.02 67.4314 1578.18 66.5807 Q1581.38 65.6895 1584.54 63.9476 L1584.54 70.8341 Q1581.42 72.2924 1578.06 73.0216 Q1574.74 73.7508 1570.97 73.7508 Q1560.72 73.7508 1554.69 67.3098 Q1548.65 60.8689 1548.65 49.9314 Q1548.65 38.832 1554.73 32.472 Q1560.84 26.1121 1571.46 26.1121 Q1574.9 26.1121 1578.18 26.8413 Q1581.46 27.5299 1584.54 28.9478 Z\" fill=\"#000000\" fill-rule=\"nonzero\" fill-opacity=\"1\" /><path clip-path=\"url(#clip000)\" d=\"M1604.88 14.324 L1604.88 27.2059 L1620.23 27.2059 L1620.23 32.9987 L1604.88 32.9987 L1604.88 57.6282 Q1604.88 63.1779 1606.38 64.7578 Q1607.92 66.3376 1612.57 66.3376 L1620.23 66.3376 L1620.23 72.576 L1612.57 72.576 Q1603.95 72.576 1600.66 69.3758 Q1597.38 66.1351 1597.38 57.6282 L1597.38 32.9987 L1591.91 32.9987 L1591.91 27.2059 L1597.38 27.2059 L1597.38 14.324 L1604.88 14.324 Z\" fill=\"#000000\" fill-rule=\"nonzero\" fill-opacity=\"1\" /><path clip-path=\"url(#clip000)\" d=\"M1630.03 27.2059 L1637.49 27.2059 L1637.49 72.576 L1630.03 72.576 L1630.03 27.2059 M1630.03 9.54393 L1637.49 9.54393 L1637.49 18.9825 L1630.03 18.9825 L1630.03 9.54393 Z\" fill=\"#000000\" fill-rule=\"nonzero\" fill-opacity=\"1\" /><path clip-path=\"url(#clip000)\" d=\"M1670.66 32.4315 Q1664.67 32.4315 1661.18 37.1306 Q1657.7 41.7891 1657.7 49.9314 Q1657.7 58.0738 1661.14 62.7728 Q1664.63 67.4314 1670.66 67.4314 Q1676.62 67.4314 1680.1 62.7323 Q1683.59 58.0333 1683.59 49.9314 Q1683.59 41.8701 1680.1 37.1711 Q1676.62 32.4315 1670.66 32.4315 M1670.66 26.1121 Q1680.39 26.1121 1685.94 32.4315 Q1691.49 38.7509 1691.49 49.9314 Q1691.49 61.0714 1685.94 67.4314 Q1680.39 73.7508 1670.66 73.7508 Q1660.9 73.7508 1655.35 67.4314 Q1649.84 61.0714 1649.84 49.9314 Q1649.84 38.7509 1655.35 32.4315 Q1660.9 26.1121 1670.66 26.1121 Z\" fill=\"#000000\" fill-rule=\"nonzero\" fill-opacity=\"1\" /><path clip-path=\"url(#clip000)\" d=\"M1741.55 45.1919 L1741.55 72.576 L1734.1 72.576 L1734.1 45.4349 Q1734.1 38.994 1731.59 35.7938 Q1729.08 32.5936 1724.05 32.5936 Q1718.02 32.5936 1714.54 36.4419 Q1711.05 40.2903 1711.05 46.9338 L1711.05 72.576 L1703.56 72.576 L1703.56 27.2059 L1711.05 27.2059 L1711.05 34.2544 Q1713.72 30.163 1717.33 28.1376 Q1720.98 26.1121 1725.72 26.1121 Q1733.53 26.1121 1737.54 30.9732 Q1741.55 35.7938 1741.55 45.1919 Z\" fill=\"#000000\" fill-rule=\"nonzero\" fill-opacity=\"1\" /><polyline clip-path=\"url(#clip002)\" style=\"stroke:#009af9; stroke-linecap:round; stroke-linejoin:round; stroke-width:4; stroke-opacity:1; fill:none\" points=\"292.4,160.256 297.413,161.03 302.427,163.345 307.44,167.184 312.453,172.518 317.467,179.308 322.48,187.506 327.494,197.052 332.507,207.881 337.52,219.919 342.534,233.087 347.547,247.301 352.56,262.474 357.574,278.517 362.587,295.34 367.601,312.852 372.614,330.964 377.627,349.588 382.641,368.64 387.654,388.038 392.668,407.705 397.681,427.567 402.694,447.554 407.708,467.604 412.721,487.656 417.735,507.656 422.748,527.554 427.761,547.306 432.775,566.872 437.788,586.216 442.802,605.307 447.815,624.117 452.828,642.623 457.842,660.805 462.855,678.646 467.869,696.132 472.882,713.254 477.895,730.001 482.909,746.368 487.922,762.352 492.936,777.949 497.949,793.159 502.962,807.983 507.976,822.424 512.989,836.483 518.003,850.166 523.016,863.477 528.029,876.422 533.043,889.007 538.056,901.24 543.07,913.126 548.083,924.675 553.096,935.893 558.11,946.788 563.123,957.368 568.137,967.642 573.15,977.618 578.163,987.304 583.177,996.707 588.19,1005.84 593.204,1014.7 598.217,1023.31 603.23,1031.66 608.244,1039.77 613.257,1047.65 618.271,1055.3 623.284,1062.73 628.297,1069.94 633.311,1076.95 638.324,1083.75 643.338,1090.36 648.351,1096.79 653.364,1103.03 658.378,1109.1 663.391,1114.99 668.405,1120.72 673.418,1126.29 678.431,1131.71 683.445,1136.98 688.458,1142.1 693.472,1147.08 698.485,1151.93 703.498,1156.65 708.512,1161.24 713.525,1165.7 718.539,1170.05 723.552,1174.28 728.565,1178.41 733.579,1182.42 738.592,1186.33 743.606,1190.14 748.619,1193.85 753.632,1197.47 758.646,1200.99 763.659,1204.43 768.673,1207.77 773.686,1211.04 778.699,1214.22 783.713,1217.33 788.726,1220.36 793.74,1223.32 798.753,1226.2 803.766,1229.02 808.78,1231.76 813.793,1234.45 818.807,1237.07 823.82,1239.62 828.833,1242.12 833.847,1244.56 838.86,1246.94 843.874,1249.27 848.887,1251.55 853.9,1253.77 858.914,1255.95 863.927,1258.07 868.94,1260.15 873.954,1262.19 878.967,1264.17 883.981,1266.12 888.994,1268.02 894.007,1269.88 899.021,1271.7 904.034,1273.48 909.048,1275.23 914.061,1276.94 919.074,1278.61 924.088,1280.25 929.101,1281.85 934.115,1283.42 939.128,1284.96 944.141,1286.47 949.155,1287.94 954.168,1289.39 959.182,1290.81 964.195,1292.2 969.208,1293.56 974.222,1294.9 979.235,1296.2 984.249,1297.49 989.262,1298.75 994.275,1299.98 999.289,1301.19 1004.3,1302.38 1009.32,1303.55 1014.33,1304.69 1019.34,1305.82 1024.36,1306.92 1029.37,1308 1034.38,1309.06 1039.4,1310.1 1044.41,1311.13 1049.42,1312.13 1054.44,1313.12 1059.45,1314.09 1064.46,1315.04 1069.48,1315.97 1074.49,1316.89 1079.5,1317.79 1084.52,1318.68 1089.53,1319.55 1094.54,1320.41 1099.56,1321.25 1104.57,1322.08 1109.58,1322.89 1114.6,1323.69 1119.61,1324.48 1124.62,1325.25 1129.64,1326.01 1134.65,1326.76 1139.66,1327.49 1144.68,1328.22 1149.69,1328.93 1154.7,1329.63 1159.72,1330.32 1164.73,1331 1169.74,1331.66 1174.76,1332.32 1179.77,1332.96 1184.78,1333.6 1189.8,1334.23 1194.81,1334.84 1199.82,1335.45 1204.84,1336.05 1209.85,1336.63 1214.86,1337.21 1219.88,1337.78 1224.89,1338.34 1229.91,1338.9 1234.92,1339.44 1239.93,1339.98 1244.95,1340.51 1249.96,1341.03 1254.97,1341.54 1259.99,1342.05 1265,1342.55 1270.01,1343.04 1275.03,1343.52 1280.04,1344 1285.05,1344.47 1290.07,1344.93 1295.08,1345.39 1300.09,1345.84 1305.11,1346.28 1310.12,1346.72 1315.13,1347.15 1320.15,1347.58 1325.16,1348 1330.17,1348.41 1335.19,1348.82 1340.2,1349.22 1345.21,1349.62 1350.23,1350.01 1355.24,1350.4 1360.25,1350.78 1365.27,1351.16 1370.28,1351.53 1375.29,1351.9 1380.31,1352.26 1385.32,1352.61 1390.33,1352.97 1395.35,1353.31 1400.36,1353.66 1405.37,1354 1410.39,1354.33 1415.4,1354.66 1420.41,1354.99 1425.43,1355.31 1430.44,1355.63 1435.45,1355.94 1440.47,1356.25 1445.48,1356.55 1450.49,1356.86 1455.51,1357.16 1460.52,1357.45 1465.53,1357.74 1470.55,1358.03 1475.56,1358.31 1480.58,1358.59 1485.59,1358.87 1490.6,1359.14 1495.62,1359.41 1500.63,1359.68 1505.64,1359.94 1510.66,1360.21 1515.67,1360.46 1520.68,1360.72 1525.7,1360.97 1530.71,1361.22 1535.72,1361.46 1540.74,1361.71 1545.75,1361.95 1550.76,1362.18 1555.78,1362.42 1560.79,1362.65 1565.8,1362.88 1570.82,1363.11 1575.83,1363.33 1580.84,1363.55 1585.86,1363.77 1590.87,1363.99 1595.88,1364.2 1600.9,1364.42 1605.91,1364.63 1610.92,1364.83 1615.94,1365.04 1620.95,1365.24 1625.96,1365.44 1630.98,1365.64 1635.99,1365.83 1641,1366.03 1646.02,1366.22 1651.03,1366.41 1656.04,1366.6 1661.06,1366.78 1666.07,1366.97 1671.08,1367.15 1676.1,1367.33 1681.11,1367.51 1686.12,1367.68 1691.14,1367.86 1696.15,1368.03 1701.16,1368.2 1706.18,1368.37 1711.19,1368.54 1716.2,1368.7 1721.22,1368.87 1726.23,1369.03 1731.24,1369.19 1736.26,1369.35 1741.27,1369.51 1746.29,1369.66 1751.3,1369.82 1756.31,1369.97 1761.33,1370.12 1766.34,1370.27 1771.35,1370.42 1776.37,1370.57 1781.38,1370.71 1786.39,1370.85 1791.41,1371 1796.42,1371.14 1801.43,1371.28 1806.45,1371.42 1811.46,1371.55 1816.47,1371.69 1821.49,1371.82 1826.5,1371.96 1831.51,1372.09 1836.53,1372.22 1841.54,1372.35 1846.55,1372.48 1851.57,1372.6 1856.58,1372.73 1861.59,1372.85 1866.61,1372.98 1871.62,1373.1 1876.63,1373.22 1881.65,1373.34 1886.66,1373.46 1891.67,1373.58 1896.69,1373.69 1901.7,1373.81 1906.71,1373.92 1911.73,1374.04 1916.74,1374.15 1921.75,1374.26 1926.77,1374.37 1931.78,1374.48 1936.79,1374.59 1941.81,1374.7 1946.82,1374.8 1951.83,1374.91 1956.85,1375.01 1961.86,1375.12 1966.87,1375.22 1971.89,1375.32 1976.9,1375.42 1981.91,1375.52 1986.93,1375.62 1991.94,1375.72 1996.96,1375.82 2001.97,1375.91 2006.98,1376.01 2012,1376.1 2017.01,1376.2 2022.02,1376.29 2027.04,1376.38 2032.05,1376.48 2037.06,1376.57 2042.08,1376.66 2047.09,1376.75 2052.1,1376.84 2057.12,1376.92 2062.13,1377.01 2067.14,1377.1 2072.16,1377.18 2077.17,1377.27 2082.18,1377.35 2087.2,1377.44 2092.21,1377.52 2097.22,1377.6 2102.24,1377.68 2107.25,1377.77 2112.26,1377.85 2117.28,1377.93 2122.29,1378.01 2127.3,1378.08 2132.32,1378.16 2137.33,1378.24 2142.34,1378.32 2147.36,1378.39 2152.37,1378.47 2157.38,1378.54 2162.4,1378.62 2167.41,1378.69 2172.42,1378.76 2177.44,1378.83 2182.45,1378.91 2187.46,1378.98 2192.48,1379.05 2197.49,1379.12 2202.5,1379.19 2207.52,1379.26 2212.53,1379.33 2217.54,1379.39 2222.56,1379.46 2227.57,1379.53 2232.58,1379.6 2237.6,1379.66 2242.61,1379.73 2247.62,1379.79 2252.64,1379.86 2257.65,1379.92 2262.67,1379.98 2267.68,1380.05 2272.69,1380.11 2277.71,1380.17 2282.72,1380.23 2287.73,1380.3 2292.75,1380.36 \"/>\n",
       "<circle clip-path=\"url(#clip002)\" cx=\"1272.37\" cy=\"1343.27\" r=\"14.4\" fill=\"#008000\" fill-rule=\"evenodd\" fill-opacity=\"1\" stroke=\"#000000\" stroke-opacity=\"1\" stroke-width=\"3.2\"/>\n",
       "<path clip-path=\"url(#clip002)\" d=\"M692.469 1370.4 L676.469 1386.4 L692.469 1402.4 L708.469 1386.4 L692.469 1370.4 Z\" fill=\"#ff0000\" fill-rule=\"evenodd\" fill-opacity=\"1\" stroke=\"#000000\" stroke-opacity=\"1\" stroke-width=\"3.2\"/>\n",
       "<path clip-path=\"url(#clip000)\" d=\"M1766.31 551.034 L2282.08 551.034 L2282.08 166.796 L1766.31 166.796  Z\" fill=\"#ffffff\" fill-rule=\"evenodd\" fill-opacity=\"1\"/>\n",
       "<polyline clip-path=\"url(#clip000)\" style=\"stroke:#000000; stroke-linecap:round; stroke-linejoin:round; stroke-width:4; stroke-opacity:1; fill:none\" points=\"1766.31,551.034 2282.08,551.034 2282.08,166.796 1766.31,166.796 1766.31,551.034 \"/>\n",
       "<polyline clip-path=\"url(#clip000)\" style=\"stroke:#009af9; stroke-linecap:round; stroke-linejoin:round; stroke-width:4; stroke-opacity:1; fill:none\" points=\"1789.87,262.855 1931.22,262.855 \"/>\n",
       "<path clip-path=\"url(#clip000)\" d=\"M1987.41 238.968 Q1987.41 239.413 1987.32 239.787 L1986.01 248.126 Q1985.94 248.758 1985.79 248.992 Q1985.68 249.227 1985.3 249.227 Q1984.72 249.227 1984.72 248.618 Q1984.72 248.266 1984.86 247.704 Q1985.26 245.057 1985.26 243.863 Q1985.26 243.067 1985.09 242.481 Q1984.95 241.872 1984.72 241.45 Q1984.51 241.029 1984.01 240.748 Q1983.52 240.467 1983.05 240.303 Q1982.59 240.139 1981.74 240.068 Q1980.9 239.975 1980.17 239.951 Q1979.45 239.928 1978.25 239.928 Q1975.65 239.928 1975.23 240.022 Q1974.79 240.139 1974.55 240.49 Q1974.34 240.818 1974.11 241.802 L1967.74 267.262 L1967.55 268.269 Q1967.55 268.831 1967.9 269.019 Q1968.25 269.206 1969.33 269.323 Q1970.87 269.44 1972.4 269.44 Q1972.44 269.44 1972.54 269.44 Q1973.05 269.44 1973.26 269.464 Q1973.47 269.464 1973.69 269.51 Q1973.9 269.557 1973.94 269.674 Q1974.01 269.768 1974.01 269.955 Q1974.01 270.401 1973.83 270.635 Q1973.64 270.846 1973.45 270.892 Q1973.29 270.916 1972.96 270.916 Q1972.3 270.916 1970.9 270.869 Q1969.49 270.822 1968.79 270.822 L1964.81 270.775 L1960.73 270.822 Q1960.1 270.822 1958.76 270.869 Q1957.43 270.916 1956.8 270.916 Q1955.98 270.916 1955.98 270.33 Q1955.98 269.674 1956.28 269.557 Q1956.61 269.44 1957.99 269.44 Q1959.94 269.44 1960.99 269.346 Q1962.04 269.253 1962.61 268.925 Q1963.19 268.597 1963.36 268.269 Q1963.52 267.918 1963.71 267.121 L1970.15 241.521 Q1970.34 240.958 1970.34 240.513 Q1970.34 240.279 1970.27 240.186 Q1970.22 240.092 1969.91 240.022 Q1969.61 239.928 1968.98 239.928 L1967.1 239.928 Q1965.18 239.928 1963.99 240.022 Q1962.82 240.092 1961.69 240.443 Q1960.59 240.795 1959.94 241.286 Q1959.3 241.778 1958.6 242.785 Q1957.9 243.793 1957.38 245.011 Q1956.89 246.229 1956.19 248.219 Q1955.95 248.875 1955.81 249.063 Q1955.7 249.227 1955.37 249.227 Q1955.13 249.227 1954.95 249.086 Q1954.78 248.922 1954.78 248.711 Q1955.02 247.938 1955.06 247.845 L1957.95 239.389 Q1958.18 238.71 1958.39 238.593 Q1958.62 238.452 1959.49 238.452 L1986.1 238.452 Q1986.52 238.452 1986.66 238.452 Q1986.8 238.452 1987.04 238.499 Q1987.27 238.546 1987.34 238.663 Q1987.41 238.78 1987.41 238.968 Z\" fill=\"#000000\" fill-rule=\"nonzero\" fill-opacity=\"1\" /><path clip-path=\"url(#clip000)\" d=\"M1992.51 258.924 Q1992.51 250.819 1995.53 244.284 Q1996.82 241.544 1998.62 239.249 Q2000.42 236.953 2001.62 235.946 Q2002.81 234.939 2003.14 234.939 Q2003.61 234.939 2003.63 235.407 Q2003.63 235.642 2003 236.227 Q1995.27 244.097 1995.29 258.924 Q1995.29 273.797 2002.81 281.362 Q2003.63 282.182 2003.63 282.44 Q2003.63 282.908 2003.14 282.908 Q2002.81 282.908 2001.66 281.948 Q2000.52 280.987 1998.74 278.786 Q1996.96 276.584 1995.67 273.89 Q1992.51 267.356 1992.51 258.924 Z\" fill=\"#000000\" fill-rule=\"nonzero\" fill-opacity=\"1\" /><path clip-path=\"url(#clip000)\" d=\"M2028.56 250.187 Q2028.56 250.351 2028.17 251.054 Q2027.79 251.733 2026.41 253.443 Q2025.03 255.152 2022.97 257.143 Q2022.19 257.916 2021.02 258.994 Q2019.85 260.071 2019.06 260.774 L2018.26 261.477 Q2015.21 264.053 2012.54 266.934 Q2012.73 266.864 2013.06 266.84 Q2013.39 266.793 2013.62 266.793 L2013.86 266.793 Q2015.07 266.793 2017.2 267.613 Q2019.08 268.222 2020.04 268.222 Q2020.98 268.222 2022.01 267.894 Q2023.04 267.566 2024.16 266.606 Q2025.29 265.646 2025.8 264.194 Q2025.89 263.959 2025.94 263.889 Q2025.99 263.795 2026.13 263.702 Q2026.27 263.585 2026.46 263.585 Q2026.71 263.585 2026.88 263.725 Q2027.04 263.866 2027.04 264.053 Q2027.04 264.475 2026.71 265.318 Q2026.41 266.161 2025.73 267.215 Q2025.07 268.269 2024.21 269.229 Q2023.36 270.166 2022.1 270.822 Q2020.84 271.455 2019.5 271.455 Q2018.54 271.455 2017.84 270.986 Q2017.13 270.541 2016.43 269.674 Q2015.47 268.574 2014.96 268.222 Q2014.44 267.847 2013.64 267.847 Q2011.51 267.847 2009.57 270.822 Q2009.36 271.244 2009.22 271.337 Q2009.1 271.455 2008.82 271.455 Q2008.23 271.431 2008.23 270.963 Q2008.23 270.775 2008.75 269.955 Q2009.29 269.112 2010.48 267.637 Q2011.7 266.161 2013.18 264.685 L2017.49 260.657 Q2022.26 256.628 2024.16 254.356 Q2023.36 254.356 2023.01 254.333 Q2022.69 254.309 2022.03 254.169 Q2021.37 254.005 2020.46 253.653 Q2018.33 252.927 2017.44 252.927 Q2017.2 252.927 2016.95 252.951 Q2016.69 252.974 2016.1 253.091 Q2015.54 253.208 2015.07 253.443 Q2014.6 253.653 2014.11 254.122 Q2013.62 254.567 2013.36 255.176 Q2013.29 255.363 2013.25 255.457 Q2013.2 255.551 2013.06 255.644 Q2012.94 255.715 2012.75 255.715 Q2012.47 255.715 2012.31 255.551 Q2012.17 255.387 2012.17 255.176 Q2012.17 254.754 2012.59 253.888 Q2013.01 253.021 2013.71 252.084 Q2014.42 251.124 2015.57 250.421 Q2016.71 249.718 2017.98 249.718 Q2018.73 249.718 2019.36 250.046 Q2020.02 250.374 2020.34 250.726 Q2020.69 251.054 2021.28 251.78 Q2021.77 252.342 2022.01 252.576 Q2022.24 252.81 2022.71 253.068 Q2023.2 253.302 2023.74 253.302 Q2024.63 253.302 2025.45 252.623 Q2026.27 251.92 2027.32 250.234 Q2027.6 249.718 2028.05 249.718 Q2028.56 249.718 2028.56 250.187 Z\" fill=\"#000000\" fill-rule=\"nonzero\" fill-opacity=\"1\" /><path clip-path=\"url(#clip000)\" d=\"M2033.19 282.44 Q2033.19 282.205 2033.8 281.62 Q2041.53 273.75 2041.53 258.924 Q2041.53 244.05 2034.11 236.532 Q2033.19 235.665 2033.19 235.407 Q2033.19 234.939 2033.66 234.939 Q2033.99 234.939 2035.14 235.899 Q2036.31 236.86 2038.07 239.061 Q2039.85 241.263 2041.16 243.957 Q2044.32 250.491 2044.32 258.924 Q2044.32 267.028 2041.3 273.563 Q2040.01 276.303 2038.21 278.598 Q2036.4 280.894 2035.21 281.901 Q2034.01 282.908 2033.66 282.908 Q2033.19 282.908 2033.19 282.44 Z\" fill=\"#000000\" fill-rule=\"nonzero\" fill-opacity=\"1\" /><path clip-path=\"url(#clip000)\" d=\"M2064.91 263.631 Q2064.96 263.046 2065.87 263.046 L2095.27 263.046 Q2096.65 263.046 2096.68 263.585 Q2096.68 264.17 2095.36 264.147 L2066.2 264.147 Q2064.91 264.17 2064.91 263.631 M2064.91 254.262 Q2064.91 253.677 2065.92 253.7 L2095.22 253.7 Q2096.65 253.7 2096.68 254.262 Q2096.68 254.801 2095.46 254.801 L2065.87 254.801 Q2064.91 254.801 2064.91 254.262 Z\" fill=\"#000000\" fill-rule=\"nonzero\" fill-opacity=\"1\" /><path clip-path=\"url(#clip000)\" d=\"M2155.41 219.085 L2155.41 217.586 Q2161.17 217.586 2164.14 214.518 Q2164.96 214.518 2165.1 214.705 Q2165.24 214.893 2165.24 215.759 L2165.24 242.672 Q2165.24 244.1 2165.95 244.545 Q2166.65 244.99 2169.72 244.99 L2171.24 244.99 L2171.24 246.466 Q2169.55 246.326 2163.46 246.326 Q2157.37 246.326 2155.71 246.466 L2155.71 244.99 L2157.23 244.99 Q2160.25 244.99 2160.98 244.569 Q2161.71 244.124 2161.71 242.672 L2161.71 217.82 Q2159.2 219.085 2155.41 219.085 Z\" fill=\"#000000\" fill-rule=\"nonzero\" fill-opacity=\"1\" /><path clip-path=\"url(#clip000)\" d=\"M2173.55 231.124 Q2173.55 224.074 2175.33 220.233 Q2177.82 214.518 2183.67 214.518 Q2184.91 214.518 2186.2 214.869 Q2187.51 215.197 2189.15 216.485 Q2190.82 217.774 2191.82 219.882 Q2193.74 223.957 2193.74 231.124 Q2193.74 238.128 2191.96 241.946 Q2189.36 247.52 2183.62 247.52 Q2181.47 247.52 2179.27 246.419 Q2177.09 245.318 2175.71 242.672 Q2173.55 238.713 2173.55 231.124 M2177.53 230.539 Q2177.53 237.776 2178.05 240.657 Q2178.64 243.773 2180.23 245.131 Q2181.84 246.466 2183.62 246.466 Q2185.55 246.466 2187.14 245.037 Q2188.75 243.585 2189.25 240.47 Q2189.78 237.402 2189.76 230.539 Q2189.76 223.863 2189.29 221.193 Q2188.66 218.078 2186.97 216.837 Q2185.31 215.572 2183.62 215.572 Q2182.99 215.572 2182.31 215.759 Q2181.66 215.947 2180.7 216.485 Q2179.74 217.024 2178.99 218.359 Q2178.26 219.694 2177.91 221.709 Q2177.53 224.308 2177.53 230.539 Z\" fill=\"#000000\" fill-rule=\"nonzero\" fill-opacity=\"1\" /><path clip-path=\"url(#clip000)\" d=\"M2197.49 231.124 Q2197.49 224.074 2199.28 220.233 Q2201.76 214.518 2207.61 214.518 Q2208.85 214.518 2210.14 214.869 Q2211.45 215.197 2213.09 216.485 Q2214.76 217.774 2215.76 219.882 Q2217.69 223.957 2217.69 231.124 Q2217.69 238.128 2215.91 241.946 Q2213.31 247.52 2207.57 247.52 Q2205.41 247.52 2203.21 246.419 Q2201.03 245.318 2199.65 242.672 Q2197.49 238.713 2197.49 231.124 M2201.48 230.539 Q2201.48 237.776 2201.99 240.657 Q2202.58 243.773 2204.17 245.131 Q2205.79 246.466 2207.57 246.466 Q2209.49 246.466 2211.08 245.037 Q2212.7 243.585 2213.19 240.47 Q2213.73 237.402 2213.7 230.539 Q2213.7 223.863 2213.23 221.193 Q2212.6 218.078 2210.92 216.837 Q2209.25 215.572 2207.57 215.572 Q2206.93 215.572 2206.25 215.759 Q2205.6 215.947 2204.64 216.485 Q2203.68 217.024 2202.93 218.359 Q2202.2 219.694 2201.85 221.709 Q2201.48 224.308 2201.48 230.539 Z\" fill=\"#000000\" fill-rule=\"nonzero\" fill-opacity=\"1\" /><path clip-path=\"url(#clip000)\" d=\"M2125.41 260.313 L2253.4 260.313 L2253.4 257.753 L2125.41 257.753  Z\" fill=\"#000000\" fill-rule=\"evenodd\" fill-opacity=\"1\"/>\n",
       "<path clip-path=\"url(#clip000)\" d=\"M2145.74 286.312 Q2145.74 286.476 2145.34 287.179 Q2144.96 287.858 2143.58 289.568 Q2142.2 291.278 2140.14 293.269 Q2139.37 294.042 2138.19 295.119 Q2137.02 296.197 2136.23 296.899 L2135.43 297.602 Q2132.39 300.178 2129.72 303.059 Q2129.9 302.989 2130.23 302.966 Q2130.56 302.919 2130.79 302.919 L2131.03 302.919 Q2132.25 302.919 2134.38 303.739 Q2136.25 304.348 2137.21 304.348 Q2138.15 304.348 2139.18 304.02 Q2140.21 303.692 2141.33 302.732 Q2142.46 301.771 2142.97 300.319 Q2143.07 300.085 2143.11 300.015 Q2143.16 299.921 2143.3 299.827 Q2143.44 299.71 2143.63 299.71 Q2143.89 299.71 2144.05 299.851 Q2144.21 299.991 2144.21 300.178 Q2144.21 300.6 2143.89 301.443 Q2143.58 302.287 2142.9 303.341 Q2142.25 304.395 2141.38 305.355 Q2140.54 306.292 2139.27 306.948 Q2138.01 307.58 2136.67 307.58 Q2135.71 307.58 2135.01 307.112 Q2134.31 306.667 2133.6 305.8 Q2132.64 304.699 2132.13 304.348 Q2131.61 303.973 2130.82 303.973 Q2128.69 303.973 2126.74 306.948 Q2126.53 307.369 2126.39 307.463 Q2126.27 307.58 2125.99 307.58 Q2125.41 307.557 2125.41 307.088 Q2125.41 306.901 2125.92 306.081 Q2126.46 305.238 2127.65 303.762 Q2128.87 302.287 2130.35 300.811 L2134.66 296.782 Q2139.44 292.754 2141.33 290.482 Q2140.54 290.482 2140.19 290.458 Q2139.86 290.435 2139.2 290.294 Q2138.55 290.13 2137.63 289.779 Q2135.5 289.053 2134.61 289.053 Q2134.38 289.053 2134.12 289.076 Q2133.86 289.1 2133.28 289.217 Q2132.71 289.334 2132.25 289.568 Q2131.78 289.779 2131.29 290.247 Q2130.79 290.692 2130.54 291.301 Q2130.47 291.489 2130.42 291.582 Q2130.37 291.676 2130.23 291.77 Q2130.11 291.84 2129.93 291.84 Q2129.65 291.84 2129.48 291.676 Q2129.34 291.512 2129.34 291.301 Q2129.34 290.88 2129.76 290.013 Q2130.18 289.147 2130.89 288.21 Q2131.59 287.249 2132.74 286.547 Q2133.88 285.844 2135.15 285.844 Q2135.9 285.844 2136.53 286.172 Q2137.19 286.5 2137.52 286.851 Q2137.87 287.179 2138.45 287.905 Q2138.94 288.467 2139.18 288.701 Q2139.41 288.936 2139.88 289.193 Q2140.37 289.428 2140.91 289.428 Q2141.8 289.428 2142.62 288.748 Q2143.44 288.046 2144.5 286.359 Q2144.78 285.844 2145.22 285.844 Q2145.74 285.844 2145.74 286.312 Z\" fill=\"#000000\" fill-rule=\"nonzero\" fill-opacity=\"1\" /><path clip-path=\"url(#clip000)\" d=\"M2150.65 292.701 Q2150.65 292.095 2150.7 291.914 Q2150.77 291.734 2151.03 291.455 L2157.47 284.274 Q2161 280.306 2161 276.847 Q2161 274.601 2159.82 272.994 Q2158.65 271.387 2156.5 271.387 Q2155.03 271.387 2153.78 272.289 Q2152.54 273.191 2151.96 274.797 Q2152.06 274.765 2152.41 274.765 Q2153.24 274.765 2153.7 275.289 Q2154.18 275.814 2154.18 276.519 Q2154.18 277.421 2153.59 277.863 Q2153.01 278.29 2152.44 278.29 Q2152.21 278.29 2151.9 278.24 Q2151.6 278.191 2151.13 277.732 Q2150.65 277.257 2150.65 276.42 Q2150.65 274.076 2152.42 272.207 Q2154.21 270.338 2156.93 270.338 Q2160.01 270.338 2162.03 272.174 Q2164.06 273.994 2164.06 276.847 Q2164.06 277.847 2163.75 278.765 Q2163.46 279.667 2163.05 280.372 Q2162.65 281.077 2161.57 282.208 Q2160.49 283.339 2159.62 284.143 Q2158.75 284.946 2156.8 286.651 L2153.24 290.111 L2159.29 290.111 Q2162.24 290.111 2162.47 289.849 Q2162.8 289.373 2163.21 286.865 L2164.06 286.865 L2163.11 292.701 L2150.65 292.701 Z\" fill=\"#000000\" fill-rule=\"nonzero\" fill-opacity=\"1\" /><path clip-path=\"url(#clip000)\" d=\"M2183.45 295.635 Q2182.35 295.635 2182.35 295.049 Q2182.35 294.463 2183.5 294.463 Q2183.64 294.463 2183.88 294.487 Q2184.13 294.51 2184.18 294.51 L2197.7 294.51 L2197.7 280.949 Q2197.7 280.902 2197.67 280.691 Q2197.65 280.457 2197.65 280.316 Q2197.65 279.169 2198.21 279.169 Q2198.8 279.169 2198.8 280.316 L2198.8 294.51 L2212.33 294.51 Q2212.38 294.51 2212.62 294.487 Q2212.85 294.463 2212.99 294.463 Q2214.09 294.463 2214.09 295.049 Q2214.11 295.635 2212.94 295.635 Q2212.8 295.635 2212.59 295.611 Q2212.38 295.588 2212.33 295.588 L2198.8 295.588 L2198.8 309.829 Q2198.8 310.929 2198.21 310.929 Q2197.65 310.929 2197.65 309.782 Q2197.65 309.641 2197.67 309.407 Q2197.7 309.196 2197.7 309.149 L2197.7 295.588 L2184.18 295.588 Q2184.13 295.588 2183.85 295.611 Q2183.6 295.635 2183.45 295.635 Z\" fill=\"#000000\" fill-rule=\"nonzero\" fill-opacity=\"1\" /><path clip-path=\"url(#clip000)\" d=\"M2232.61 279.66 L2232.61 278.161 Q2238.37 278.161 2241.34 275.093 Q2242.16 275.093 2242.3 275.28 Q2242.44 275.468 2242.44 276.334 L2242.44 303.247 Q2242.44 304.676 2243.15 305.121 Q2243.85 305.566 2246.92 305.566 L2248.44 305.566 L2248.44 307.041 Q2246.75 306.901 2240.66 306.901 Q2234.57 306.901 2232.91 307.041 L2232.91 305.566 L2234.43 305.566 Q2237.45 305.566 2238.18 305.144 Q2238.91 304.699 2238.91 303.247 L2238.91 278.396 Q2236.4 279.66 2232.61 279.66 Z\" fill=\"#000000\" fill-rule=\"nonzero\" fill-opacity=\"1\" /><circle clip-path=\"url(#clip000)\" cx=\"1860.54\" cy=\"358.915\" r=\"20.48\" fill=\"#008000\" fill-rule=\"evenodd\" fill-opacity=\"1\" stroke=\"#000000\" stroke-opacity=\"1\" stroke-width=\"4.55111\"/>\n",
       "<path clip-path=\"url(#clip000)\" d=\"M1987.41 338.842 Q1987.41 339.287 1987.32 339.661 L1986.01 348 Q1985.94 348.632 1985.79 348.866 Q1985.68 349.101 1985.3 349.101 Q1984.72 349.101 1984.72 348.492 Q1984.72 348.14 1984.86 347.578 Q1985.26 344.931 1985.26 343.737 Q1985.26 342.94 1985.09 342.355 Q1984.95 341.746 1984.72 341.324 Q1984.51 340.903 1984.01 340.622 Q1983.52 340.341 1983.05 340.177 Q1982.59 340.013 1981.74 339.942 Q1980.9 339.849 1980.17 339.825 Q1979.45 339.802 1978.25 339.802 Q1975.65 339.802 1975.23 339.896 Q1974.79 340.013 1974.55 340.364 Q1974.34 340.692 1974.11 341.676 L1967.74 367.136 L1967.55 368.143 Q1967.55 368.705 1967.9 368.893 Q1968.25 369.08 1969.33 369.197 Q1970.87 369.314 1972.4 369.314 Q1972.44 369.314 1972.54 369.314 Q1973.05 369.314 1973.26 369.338 Q1973.47 369.338 1973.69 369.384 Q1973.9 369.431 1973.94 369.548 Q1974.01 369.642 1974.01 369.829 Q1974.01 370.274 1973.83 370.509 Q1973.64 370.72 1973.45 370.766 Q1973.29 370.79 1972.96 370.79 Q1972.3 370.79 1970.9 370.743 Q1969.49 370.696 1968.79 370.696 L1964.81 370.649 L1960.73 370.696 Q1960.1 370.696 1958.76 370.743 Q1957.43 370.79 1956.8 370.79 Q1955.98 370.79 1955.98 370.204 Q1955.98 369.548 1956.28 369.431 Q1956.61 369.314 1957.99 369.314 Q1959.94 369.314 1960.99 369.22 Q1962.04 369.127 1962.61 368.799 Q1963.19 368.471 1963.36 368.143 Q1963.52 367.792 1963.71 366.995 L1970.15 341.395 Q1970.34 340.832 1970.34 340.387 Q1970.34 340.153 1970.27 340.06 Q1970.22 339.966 1969.91 339.896 Q1969.61 339.802 1968.98 339.802 L1967.1 339.802 Q1965.18 339.802 1963.99 339.896 Q1962.82 339.966 1961.69 340.317 Q1960.59 340.669 1959.94 341.16 Q1959.3 341.652 1958.6 342.659 Q1957.9 343.667 1957.38 344.885 Q1956.89 346.103 1956.19 348.093 Q1955.95 348.749 1955.81 348.937 Q1955.7 349.101 1955.37 349.101 Q1955.13 349.101 1954.95 348.96 Q1954.78 348.796 1954.78 348.585 Q1955.02 347.812 1955.06 347.719 L1957.95 339.263 Q1958.18 338.584 1958.39 338.467 Q1958.62 338.326 1959.49 338.326 L1986.1 338.326 Q1986.52 338.326 1986.66 338.326 Q1986.8 338.326 1987.04 338.373 Q1987.27 338.42 1987.34 338.537 Q1987.41 338.654 1987.41 338.842 Z\" fill=\"#000000\" fill-rule=\"nonzero\" fill-opacity=\"1\" /><path clip-path=\"url(#clip000)\" d=\"M1992.51 358.797 Q1992.51 350.693 1995.53 344.158 Q1996.82 341.418 1998.62 339.123 Q2000.42 336.827 2001.62 335.82 Q2002.81 334.813 2003.14 334.813 Q2003.61 334.813 2003.63 335.281 Q2003.63 335.516 2003 336.101 Q1995.27 343.971 1995.29 358.797 Q1995.29 373.671 2002.81 381.236 Q2003.63 382.056 2003.63 382.314 Q2003.63 382.782 2003.14 382.782 Q2002.81 382.782 2001.66 381.822 Q2000.52 380.861 1998.74 378.66 Q1996.96 376.458 1995.67 373.764 Q1992.51 367.23 1992.51 358.797 Z\" fill=\"#000000\" fill-rule=\"nonzero\" fill-opacity=\"1\" /><path clip-path=\"url(#clip000)\" d=\"M2028.56 350.061 Q2028.56 350.225 2028.17 350.928 Q2027.79 351.607 2026.41 353.317 Q2025.03 355.026 2022.97 357.017 Q2022.19 357.79 2021.02 358.868 Q2019.85 359.945 2019.06 360.648 L2018.26 361.351 Q2015.21 363.927 2012.54 366.808 Q2012.73 366.738 2013.06 366.714 Q2013.39 366.667 2013.62 366.667 L2013.86 366.667 Q2015.07 366.667 2017.2 367.487 Q2019.08 368.096 2020.04 368.096 Q2020.98 368.096 2022.01 367.768 Q2023.04 367.44 2024.16 366.48 Q2025.29 365.52 2025.8 364.068 Q2025.89 363.833 2025.94 363.763 Q2025.99 363.669 2026.13 363.576 Q2026.27 363.459 2026.46 363.459 Q2026.71 363.459 2026.88 363.599 Q2027.04 363.74 2027.04 363.927 Q2027.04 364.349 2026.71 365.192 Q2026.41 366.035 2025.73 367.089 Q2025.07 368.143 2024.21 369.103 Q2023.36 370.04 2022.1 370.696 Q2020.84 371.328 2019.5 371.328 Q2018.54 371.328 2017.84 370.86 Q2017.13 370.415 2016.43 369.548 Q2015.47 368.448 2014.96 368.096 Q2014.44 367.721 2013.64 367.721 Q2011.51 367.721 2009.57 370.696 Q2009.36 371.118 2009.22 371.211 Q2009.1 371.328 2008.82 371.328 Q2008.23 371.305 2008.23 370.837 Q2008.23 370.649 2008.75 369.829 Q2009.29 368.986 2010.48 367.511 Q2011.7 366.035 2013.18 364.559 L2017.49 360.531 Q2022.26 356.502 2024.16 354.23 Q2023.36 354.23 2023.01 354.207 Q2022.69 354.183 2022.03 354.043 Q2021.37 353.879 2020.46 353.527 Q2018.33 352.801 2017.44 352.801 Q2017.2 352.801 2016.95 352.825 Q2016.69 352.848 2016.1 352.965 Q2015.54 353.082 2015.07 353.317 Q2014.6 353.527 2014.11 353.996 Q2013.62 354.441 2013.36 355.05 Q2013.29 355.237 2013.25 355.331 Q2013.2 355.425 2013.06 355.518 Q2012.94 355.589 2012.75 355.589 Q2012.47 355.589 2012.31 355.425 Q2012.17 355.261 2012.17 355.05 Q2012.17 354.628 2012.59 353.762 Q2013.01 352.895 2013.71 351.958 Q2014.42 350.998 2015.57 350.295 Q2016.71 349.592 2017.98 349.592 Q2018.73 349.592 2019.36 349.92 Q2020.02 350.248 2020.34 350.6 Q2020.69 350.928 2021.28 351.654 Q2021.77 352.216 2022.01 352.45 Q2022.24 352.684 2022.71 352.942 Q2023.2 353.176 2023.74 353.176 Q2024.63 353.176 2025.45 352.497 Q2026.27 351.794 2027.32 350.108 Q2027.6 349.592 2028.05 349.592 Q2028.56 349.592 2028.56 350.061 Z\" fill=\"#000000\" fill-rule=\"nonzero\" fill-opacity=\"1\" /><path clip-path=\"url(#clip000)\" d=\"M2033.19 382.314 Q2033.19 382.079 2033.8 381.494 Q2041.53 373.624 2041.53 358.797 Q2041.53 343.924 2034.11 336.406 Q2033.19 335.539 2033.19 335.281 Q2033.19 334.813 2033.66 334.813 Q2033.99 334.813 2035.14 335.773 Q2036.31 336.734 2038.07 338.935 Q2039.85 341.137 2041.16 343.831 Q2044.32 350.365 2044.32 358.797 Q2044.32 366.902 2041.3 373.437 Q2040.01 376.177 2038.21 378.472 Q2036.4 380.768 2035.21 381.775 Q2034.01 382.782 2033.66 382.782 Q2033.19 382.782 2033.19 382.314 Z\" fill=\"#000000\" fill-rule=\"nonzero\" fill-opacity=\"1\" /><path clip-path=\"url(#clip000)\" d=\"M2064.91 363.505 Q2064.96 362.92 2065.87 362.92 L2095.27 362.92 Q2096.65 362.92 2096.68 363.459 Q2096.68 364.044 2095.36 364.021 L2066.2 364.021 Q2064.91 364.044 2064.91 363.505 M2064.91 354.136 Q2064.91 353.551 2065.92 353.574 L2095.22 353.574 Q2096.65 353.574 2096.68 354.136 Q2096.68 354.675 2095.46 354.675 L2065.87 354.675 Q2064.91 354.675 2064.91 354.136 Z\" fill=\"#000000\" fill-rule=\"nonzero\" fill-opacity=\"1\" /><path clip-path=\"url(#clip000)\" d=\"M2115.17 362.873 L2115.17 361.397 L2129.9 338.888 Q2130.27 338.303 2130.86 338.326 Q2131.4 338.326 2131.51 338.537 Q2131.63 338.748 2131.63 339.568 L2131.63 361.397 L2136.43 361.397 L2136.43 362.873 L2131.63 362.873 L2131.63 367.042 Q2131.63 368.424 2132.19 368.869 Q2132.78 369.314 2135.26 369.314 L2136.27 369.314 L2136.27 370.79 Q2134.3 370.649 2129.76 370.649 Q2125.24 370.649 2123.27 370.79 L2123.27 369.314 L2124.28 369.314 Q2126.76 369.314 2127.35 368.893 Q2127.93 368.448 2127.93 367.042 L2127.93 362.873 L2115.17 362.873 M2116.52 361.397 L2128.21 361.397 L2128.21 343.503 L2116.52 361.397 Z\" fill=\"#000000\" fill-rule=\"nonzero\" fill-opacity=\"1\" /><path clip-path=\"url(#clip000)\" d=\"M1860.54 432.219 L1837.79 454.974 L1860.54 477.73 L1883.3 454.974 L1860.54 432.219 Z\" fill=\"#ff0000\" fill-rule=\"evenodd\" fill-opacity=\"1\" stroke=\"#000000\" stroke-opacity=\"1\" stroke-width=\"4.55111\"/>\n",
       "<path clip-path=\"url(#clip000)\" d=\"M1975.11 449.8 Q1975.11 449.964 1974.72 450.667 Q1974.34 451.346 1972.96 453.056 Q1971.58 454.766 1969.52 456.757 Q1968.74 457.53 1967.57 458.607 Q1966.4 459.684 1965.6 460.387 L1964.81 461.09 Q1961.76 463.666 1959.09 466.547 Q1959.28 466.477 1959.61 466.453 Q1959.94 466.407 1960.17 466.407 L1960.4 466.407 Q1961.62 466.407 1963.75 467.226 Q1965.63 467.835 1966.59 467.835 Q1967.52 467.835 1968.56 467.508 Q1969.59 467.18 1970.71 466.219 Q1971.83 465.259 1972.35 463.807 Q1972.44 463.573 1972.49 463.502 Q1972.54 463.409 1972.68 463.315 Q1972.82 463.198 1973.01 463.198 Q1973.26 463.198 1973.43 463.338 Q1973.59 463.479 1973.59 463.666 Q1973.59 464.088 1973.26 464.931 Q1972.96 465.774 1972.28 466.828 Q1971.62 467.882 1970.76 468.843 Q1969.91 469.779 1968.65 470.435 Q1967.38 471.068 1966.05 471.068 Q1965.09 471.068 1964.39 470.599 Q1963.68 470.154 1962.98 469.288 Q1962.02 468.187 1961.51 467.835 Q1960.99 467.461 1960.19 467.461 Q1958.06 467.461 1956.12 470.435 Q1955.91 470.857 1955.77 470.951 Q1955.65 471.068 1955.37 471.068 Q1954.78 471.044 1954.78 470.576 Q1954.78 470.388 1955.3 469.569 Q1955.84 468.725 1957.03 467.25 Q1958.25 465.774 1959.73 464.299 L1964.04 460.27 Q1968.81 456.241 1970.71 453.969 Q1969.91 453.969 1969.56 453.946 Q1969.23 453.922 1968.58 453.782 Q1967.92 453.618 1967.01 453.267 Q1964.88 452.541 1963.99 452.541 Q1963.75 452.541 1963.5 452.564 Q1963.24 452.587 1962.65 452.705 Q1962.09 452.822 1961.62 453.056 Q1961.15 453.267 1960.66 453.735 Q1960.17 454.18 1959.91 454.789 Q1959.84 454.976 1959.8 455.07 Q1959.75 455.164 1959.61 455.258 Q1959.49 455.328 1959.3 455.328 Q1959.02 455.328 1958.86 455.164 Q1958.72 455 1958.72 454.789 Q1958.72 454.368 1959.14 453.501 Q1959.56 452.634 1960.26 451.697 Q1960.97 450.737 1962.11 450.034 Q1963.26 449.332 1964.53 449.332 Q1965.28 449.332 1965.91 449.66 Q1966.56 449.988 1966.89 450.339 Q1967.24 450.667 1967.83 451.393 Q1968.32 451.955 1968.56 452.189 Q1968.79 452.423 1969.26 452.681 Q1969.75 452.915 1970.29 452.915 Q1971.18 452.915 1972 452.236 Q1972.82 451.533 1973.87 449.847 Q1974.15 449.332 1974.6 449.332 Q1975.11 449.332 1975.11 449.8 Z\" fill=\"#000000\" fill-rule=\"nonzero\" fill-opacity=\"1\" /><path clip-path=\"url(#clip000)\" d=\"M1990.17 463.245 Q1990.21 462.659 1991.13 462.659 L2020.52 462.659 Q2021.91 462.659 2021.93 463.198 Q2021.93 463.783 2020.62 463.76 L1991.46 463.76 Q1990.17 463.783 1990.17 463.245 M1990.17 453.876 Q1990.17 453.29 1991.18 453.314 L2020.48 453.314 Q2021.91 453.314 2021.93 453.876 Q2021.93 454.414 2020.71 454.414 L1991.13 454.414 Q1990.17 454.414 1990.17 453.876 Z\" fill=\"#000000\" fill-rule=\"nonzero\" fill-opacity=\"1\" /><path clip-path=\"url(#clip000)\" d=\"M2040.42 470.529 Q2040.42 469.662 2040.49 469.405 Q2040.58 469.147 2040.96 468.749 L2050.16 458.49 Q2055.2 452.822 2055.2 447.879 Q2055.2 444.671 2053.51 442.375 Q2051.85 440.08 2048.78 440.08 Q2046.67 440.08 2044.89 441.368 Q2043.11 442.656 2042.29 444.952 Q2042.43 444.905 2042.93 444.905 Q2044.12 444.905 2044.78 445.654 Q2045.46 446.404 2045.46 447.411 Q2045.46 448.699 2044.61 449.332 Q2043.79 449.941 2042.97 449.941 Q2042.64 449.941 2042.2 449.87 Q2041.78 449.8 2041.1 449.144 Q2040.42 448.465 2040.42 447.271 Q2040.42 443.921 2042.95 441.251 Q2045.5 438.581 2049.39 438.581 Q2053.79 438.581 2056.67 441.204 Q2059.58 443.804 2059.58 447.879 Q2059.58 449.308 2059.13 450.62 Q2058.71 451.908 2058.13 452.915 Q2057.56 453.922 2056.02 455.539 Q2054.47 457.155 2053.23 458.302 Q2051.99 459.45 2049.2 461.886 L2044.12 466.828 L2052.76 466.828 Q2056.98 466.828 2057.31 466.453 Q2057.78 465.774 2058.36 462.191 L2059.58 462.191 L2058.22 470.529 L2040.42 470.529 Z\" fill=\"#000000\" fill-rule=\"nonzero\" fill-opacity=\"1\" /></svg>\n"
      ]
     },
     "execution_count": 4,
     "metadata": {},
     "output_type": "execute_result"
    }
   ],
   "source": [
    "# Parameters\n",
    "init_temp = 100.0 # temperature at origin. \n",
    "z_values = range(0, 10, length=400) # position values\n",
    "T_values = [ temp(z, init_temp) for z in z_values ] # temps for all positions\n",
    "\n",
    "# Find position where T(z) = 4\n",
    "target_temp = 4\n",
    "z_target = sqrt(init_temp / target_temp - 1)\n",
    "T_target = temp(z_target, init_temp)\n",
    "\n",
    "# Visualize the function\n",
    "plot(\n",
    "    z_values, T_values, label = L\"T(z) = \\frac{100}{z^2 + 1}\",\n",
    "    xlabel = L\"z\", ylabel = L\"T(z)\",\n",
    "    title = \"Temperature Function\",\n",
    "    legend = :topright,\n",
    "    grid = true\n",
    ")\n",
    "\n",
    "scatter!([z_target], [T_target], color = :green, label = L\"T(z) = 4\")\n",
    "\n",
    "# Add a small red triangle just above z = 2\n",
    "z_triangle = 2.0\n",
    "scatter!([z_triangle], [0.5], color = :red, markershape = :diamond, label = L\"z = 2\")"
   ]
  },
  {
   "cell_type": "code",
   "execution_count": 5,
   "id": "a1f5dd7f",
   "metadata": {},
   "outputs": [
    {
     "data": {
      "text/plain": [
       "create_world (generic function with 1 method)"
      ]
     },
     "execution_count": 5,
     "metadata": {},
     "output_type": "execute_result"
    }
   ],
   "source": [
    "function create_world(;initial_position = 2.0, initial_velocity = 0.0)\n",
    "\n",
    "    z_t_min = initial_position\n",
    "    z_dot_t_min = initial_velocity\n",
    "    \n",
    "    z_t = z_t_min\n",
    "    z_dot_t = z_dot_t_min\n",
    "    \n",
    "    execute = (a_t::Float64) -> begin\n",
    "        # Compute next state\n",
    "        z_t = z_t_min + a_t # directly add current state to action for next state\n",
    "    \n",
    "        # Reset state for next step\n",
    "        z_t_min = z_t\n",
    "        z_dot_t_min = z_dot_t\n",
    "    end\n",
    "    \n",
    "    observe = () -> begin \n",
    "        return [z_t, temp(z_t, 100.0) + rand(Normal(0.0, 0.1))]\n",
    "    end\n",
    "        \n",
    "    return (execute, observe)\n",
    "end"
   ]
  },
  {
   "cell_type": "markdown",
   "id": "cc33075f",
   "metadata": {},
   "source": [
    "We visualise the setup with the code below."
   ]
  },
  {
   "cell_type": "markdown",
   "id": "64c06a77",
   "metadata": {},
   "source": [
    "## Naive Approach"
   ]
  },
  {
   "cell_type": "markdown",
   "id": "30d6cbd1",
   "metadata": {},
   "source": [
    "Well, let's see how our friends were struggling with the low-battery car when they tried to get it to the camping site before we come to help. They basically used the brute-force method, i.e. just pushing the gas pedal for full power."
   ]
  },
  {
   "cell_type": "code",
   "execution_count": 6,
   "id": "cdcd90d3",
   "metadata": {},
   "outputs": [
    {
     "data": {
      "text/html": [
       "<img src=\"data:image/gif;base64,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\" />"
      ],
      "text/plain": [
       "Plots.AnimatedGif(\"/home/fraserp/Desktop/Active_Inference_Institute/RxInfer_Group/RxEnvironments/Mcar_API_Version/thermostat-naive.gif\")"
      ]
     },
     "execution_count": 6,
     "metadata": {},
     "output_type": "execute_result"
    }
   ],
   "source": [
    "N_naive  = 100 # Total simulation time\n",
    "pi_naive = 0.05 * ones(N_naive) # Naive policy for right full-power only\n",
    "\n",
    "# Let there be a world\n",
    "(execute_naive, observe_naive) = create_world();\n",
    "\n",
    "y_naive = Vector{Vector{Float64}}(undef, N_naive)\n",
    "for t = 1:N_naive\n",
    "    execute_naive(pi_naive[t]) # Execute environmental process\n",
    "    y_naive[t] = observe_naive() # Observe external states\n",
    "end\n",
    "\n",
    "animation_naive = @animate for i in 1:N_naive\n",
    "    plot(z_values, T_values, title = \"Naive policy\", label = \"Temp Distribution\", size = (800, 400))\n",
    "    scatter!([y_naive[i][1]], [0.5], color = :red, markershape = :diamond, label = \"thermostat\")\n",
    "#     scatter!([x_target[1]], [temp(x_target[1])], label = \"goal\")   \n",
    "    scatter!([z_target], [T_target], color = :green, label = \"goal\")\n",
    "end\n",
    "\n",
    "# The animation is saved and displayed as markdown picture for the automatic HTML generation\n",
    "gif(animation_naive, \"thermostat-naive.gif\", fps = 24, show_msg = false)"
   ]
  },
  {
   "cell_type": "markdown",
   "id": "f0f284c8",
   "metadata": {},
   "source": [
    "They failed as expected since the car doesn't have enough power. This helps to understand that the brute-force approach is not the most efficient one in this case and hopefully a bit of swinging is necessary to achieve the goal."
   ]
  },
  {
   "cell_type": "markdown",
   "id": "a71b762d",
   "metadata": {},
   "source": [
    "## Active Inference Approach"
   ]
  },
  {
   "cell_type": "markdown",
   "id": "bc9d41ce",
   "metadata": {},
   "source": [
    "Here we create an agent that predicts the temperature observations, as well as the best possible actions in a probabilistic manner.\n",
    "\n",
    "$x$, $s$ and $u$ stand for sequences of temperature observations, states (positions) and controls (respectively). \n",
    "\n",
    "We start by specifying a probabilistic model for the agent that describes the agent's internal beliefs over the external \"dynamics\" of the environment. The generative model is defined as follows.\n",
    "\n",
    "\\begin{equation}\n",
    "    p_t(x, s, u) \\propto p(s_{t-1})\\prod_{k=t}^{t+T}p(x_k | s_k)p(s_k | s_{k-1}, u_k)p(u_k)p'(x_k)\n",
    "\\end{equation}\n",
    "\n",
    "Where the factors are defined via:\n",
    "\n",
    "\\begin{align}\n",
    "    p(x_k | s_k) &= \\mathcal{N}(x_k | - s_k, 10^{-2}), \\text{ (non-veridical observation) }\\\\\n",
    "    p(s_k | s_{k-1}, u_k) &= \\mathcal{N}(s_k | s_{k-1} + u_k, 10^{-2}), \\text{ (state transition) }\\\\\n",
    "    p(u_k) &= \\mathcal{N}(u_k | 0, 10^{-2}), \\text{ (Control) }\\\\\n",
    "    p(s_{t-1}) &= \\mathcal{N}(s_{t-1} | m_{t-1}, V_{t-1}), \\text{ (previous state) }\\\\\n",
    "    p'(x_k) &= \\mathcal{N}(x_k | 4.0, 10^{-2})\n",
    "\\end{align}\n",
    "\n",
    "Here we simply specify that the observed temperature decreases with position (see the observation model). This is true of course, as can be seen in the plot of the temperature distribution above. Nevertheless, this observation model is a radical \"coarse-graining\" of the actual temperature distribution.  "
   ]
  },
  {
   "cell_type": "code",
   "execution_count": 23,
   "id": "f402ce29",
   "metadata": {},
   "outputs": [
    {
     "data": {
      "text/plain": [
       "state_trans (generic function with 1 method)"
      ]
     },
     "execution_count": 23,
     "metadata": {},
     "output_type": "execute_result"
    }
   ],
   "source": [
    "# # Transition function modeling transition due to gravity and friction\n",
    "# function state_trans(s_t_min::AbstractVector)\n",
    "#     s_t = similar(s_t_min) # Next state\n",
    "#     s_t[2] = s_t_min[2] + Fg(s_t_min[1]) + Ff(s_t_min[2]) # Update velocity\n",
    "#     s_t[1] = s_t_min[1] + s_t[2] # Update position\n",
    "    \n",
    "#     return s_t\n",
    "# end"
   ]
  },
  {
   "cell_type": "code",
   "execution_count": 24,
   "id": "05fa64b1",
   "metadata": {},
   "outputs": [
    {
     "data": {
      "text/plain": [
       "control (generic function with 1 method)"
      ]
     },
     "execution_count": 24,
     "metadata": {},
     "output_type": "execute_result"
    }
   ],
   "source": [
    "# # # Function for modeling engine control\n",
    "# # function control(u::AbstractVector)\n",
    "# #     return [0.0, Fa(u[1])] \n",
    "# # end\n",
    "\n",
    "# # Function for modeling engine control\n",
    "# function control(u::AbstractVector)\n",
    "#     return 0.04*tanh(u)\n",
    "# end"
   ]
  },
  {
   "cell_type": "code",
   "execution_count": 25,
   "id": "430f5146",
   "metadata": {},
   "outputs": [
    {
     "data": {
      "text/plain": [
       "inv_control (generic function with 1 method)"
      ]
     },
     "execution_count": 25,
     "metadata": {},
     "output_type": "execute_result"
    }
   ],
   "source": [
    "# # Inverse engine force, from change in state to corresponding engine force\n",
    "# function inv_control(delta_s_dot::AbstractVector)\n",
    "    \n",
    "#     engine_force_limit   = 0.04\n",
    "    \n",
    "#     return [\n",
    "#         atanh(\n",
    "#             clamp(\n",
    "#                 delta_s_dot[2], -engine_force_limit+1e-3, engine_force_limit-1e-3\n",
    "#             ) / engine_force_limit\n",
    "#         )\n",
    "#     ] \n",
    "# end"
   ]
  },
  {
   "cell_type": "code",
   "execution_count": 7,
   "id": "984c44dd",
   "metadata": {},
   "outputs": [],
   "source": [
    "# Intended to implement that found here:\n",
    "# https://www.frontiersin.org/journals/robotics-and-ai/articles/10.3389/frobt.2019.00020/full\n",
    "# should this take controls?\n",
    "@model function thermostat_agent_model(\n",
    "        m_u, V_u, # Control Distribution, supply these or not? \n",
    "        m_x, V_x, # Observation Distribution, unecessary?\n",
    "        m_s_t_min, V_s_t_min, # Hidden state Distribution\n",
    "        T # Future time horizon\n",
    "    )\n",
    "    \n",
    "#     # Internal model perameters\n",
    "#     Gamma = 1e4*diageye(2) # Transition precision\n",
    "#     Theta = 1e-4*diageye(2) # Observation variance\n",
    "    \n",
    "    # initial control, position and observation:\n",
    "    u[1] ~ Normal(mean = m_u[1], variance = V_u[1]) # p(u_0)\n",
    "    \n",
    "#     s[1] ~ Normal(mean = 0.0, variance = 1e12) # s_0\n",
    "    s_t_min ~ Normal(mean = m_s_t_min, variance = V_s_t_min)\n",
    "    s_k_min = s_t_min\n",
    "    \n",
    "    x[1] ~ Normal(mean = -s_t_min, variance = 1e-2) # x_0\n",
    "\n",
    "    local s\n",
    "    \n",
    "    for k in 2:T\n",
    "        u[k] ~ Normal(mean = m_u[k], variance = V_u[k]) # p(u_k)\n",
    "        \n",
    "#         u_h_k[k] ~ h(u[k]) where { meta = DeltaMeta(method = Linearization(), inverse = h_inv) } # h(u_k)\n",
    "#         s_g_k[k] ~ state_trans(s_k_min) where { meta = DeltaMeta(method = Linearization()) } # state-transition\n",
    "#         u_s_sum[k] ~ s_g_k[k] + u_h_k[k] # transition dynamics\n",
    "        \n",
    "        u_s_sum[k] := s_k_min[k - 1] + u[k] # transition dynamics\n",
    "        s[k] ~ Normal(mean = u_s_sum[k], variance = 1e-2) # p(s_k | s_{k-1}, u_k)\n",
    "        x[k] ~ Normal(mean = s[k], variance = 1e-2) # observation model\n",
    "        x[k] ~ Normal(mean = m_x[k], variance = V_x[k]) # goal observation: p'(x_k) may be unecessary \n",
    "#         x[k] ~ Normal(mean = 4.0, variance = 1e-2) # may just need this\n",
    "        s_k_min = s[k] # previous state update\n",
    "    end\n",
    "    \n",
    "    return (s, )\n",
    "end"
   ]
  },
  {
   "cell_type": "markdown",
   "id": "41ae7e9c",
   "metadata": {},
   "source": [
    "After specifying the generative model, let's create an Active Inference agent for the car. Technically, the agent goes through three phases: Act-Execute-Observe, Infer and Slide.\n",
    "\n",
    "1. ```Act-Execute-Observe```: In this phase, the agent performs an action onto the environment at time $t$ and gets $T$ observations in exchange. These observations are are basically the agent's on how the environment will evolve over the next $T$ time steps. This is where the ```Act(), Execute()``` and ```Observe()``` functions are called.\n",
    "2. ```Infer```: After receiving observations, the agent starts updating its internal probabilistic model by doing inference. Particularly, it finds the posterior distributions over the state $s_t$ and control $u_t$. That is, $p(s_t | x_t)$ and $p(u_t | x_t)$. This is where the ```Compute()``` function will be called, since it contains ```infer()```.\n",
    "3. ```Slide```: After updating its internal belief, the agent moves to the next time step and uses the inferred action $u_t$ from the previous time step to interact wit the environment. This is obviously where the ```Slide()``` function is called.\n",
    "\n",
    "In the cell below, we create the agent through the ```create_agent()``` function, which includes ```Compute(), Act(), Slide()``` and ```Future()``` functions:\n",
    "\n",
    "1. The ```Act()``` function selects the next action based on the inferred policy. The ```Future()``` function predicts the next $T$ states based upon the current action. These two functions jointly implement the ```Act-Execute-Observe``` phase of the sensor-motor loop. \n",
    "2. The ```Compute()``` function infers the policy (which is a set of actions for the next $T$ time steps) and the agent's state using the agent internal model. this function implements the ```Infer``` phase. We call this function ```Compute()``` to distinguish it from the reserved ```infer()``` function in ```RxInfer.jl```.\n",
    "3. The ```Slide()``` function implements the ```Slide``` phase, which moves the agent's generative model to the next time step. "
   ]
  },
  {
   "cell_type": "code",
   "execution_count": 39,
   "id": "a501eac0",
   "metadata": {},
   "outputs": [
    {
     "data": {
      "text/plain": [
       "create_agent (generic function with 1 method)"
      ]
     },
     "execution_count": 39,
     "metadata": {},
     "output_type": "execute_result"
    }
   ],
   "source": [
    "# We are going to use some private functionality from ReactiveMP, \n",
    "# in the future we should expose a proper API for this\n",
    "import RxInfer.ReactiveMP: getrecent, messageout\n",
    "\n",
    "function create_agent(;T = 2, initial_position)\n",
    "    \n",
    "    # Set the control priors\n",
    "    m_u = [ 0.0 for k=1:T ]  # Control prior means\n",
    "    V_u = [ 1e-2 for k=1:T ] # Control prior variances\n",
    "    \n",
    "    # Set the goal priors\n",
    "    m_x      = [4.0 for k=1:T]\n",
    "    V_x      = [1e-2 for k=1:T]\n",
    "\n",
    "    # Set initial brain state prior\n",
    "    m_s_t_min = initial_position\n",
    "    V_s_t_min = 1e12\n",
    "    \n",
    "    # Set current inference results\n",
    "    result = nothing\n",
    "\n",
    "    # The `infer` function is the heart of the agent\n",
    "    # It calls the `RxInfer.inference` function to perform Bayesian inference by message passing\n",
    "\n",
    "    compute = (upsilon_t::Float64, x_hat_t::Float64) -> begin # THIS SIGNARURE IS NAWT GOOD !!!!!!!!\n",
    "\n",
    "        m_u[1] = upsilon_t # Register action with the generative model\n",
    "        V_u[1] = 1e-2 # Clamp control prior to performed action\n",
    "\n",
    "        m_x[1] = x_hat_t # Register observation with the generative model\n",
    "        V_x[1] = 1e-2 # Clamp goal prior to observation\n",
    "\n",
    "        data = Dict(\n",
    "            :m_u       => m_u, \n",
    "            :V_u       => V_u, \n",
    "            :m_x       => m_x, \n",
    "            :V_x       => V_x,\n",
    "            :m_s_t_min => m_s_t_min,\n",
    "            :V_s_t_min => V_s_t_min,\n",
    "        )\n",
    "        \n",
    "        model  = mcar_model(\n",
    "            T = T\n",
    "        )\n",
    "        \n",
    "        result = infer(\n",
    "            model = model, \n",
    "            data = data\n",
    "        )\n",
    "    end\n",
    "    \n",
    "    # The `act` function returns the inferred best possible action\n",
    "    act = () -> begin\n",
    "        if result !== nothing\n",
    "            return mode(result.posteriors[:u][2])[1] # THESE INDEXES MIGHT BE A PROBLEM!!!!!!!!!!!!\n",
    "        else\n",
    "            return 0.0 # Without inference result we return some 'random' action\n",
    "        end\n",
    "    end\n",
    "    \n",
    "    # The `future` function returns the inferred future states\n",
    "    future = () -> begin \n",
    "        if result !== nothing \n",
    "            println(\"HERE WE GO:\")\n",
    "            println(getindex.(mode.(result.posteriors[:s]), 1))\n",
    "            return getindex.(mode.(result.posteriors[:s]), 1) # THESE INDEXES MIGHT BE A PROBLEM!!!!!!!!!!!!\n",
    "        else\n",
    "            return zeros(T)\n",
    "        end\n",
    "    end\n",
    "\n",
    "    # The `slide` function modifies the `(m_s_t_min, V_s_t_min)` for the next step\n",
    "    # and shifts (or slides) the array of future goals `(m_x, V_x)` and inferred actions `(m_u, V_u)`\n",
    "    slide = () -> begin\n",
    "\n",
    "        model  = RxInfer.getmodel(result.model)\n",
    "        (s, )  = RxInfer.getreturnval(model)\n",
    "        varref = RxInfer.getvarref(model, s) \n",
    "        var    = RxInfer.getvariable(varref)\n",
    "        \n",
    "        slide_msg_idx = 3 # This index is model dependend\n",
    "        (m_s_t_min, V_s_t_min) = mean_cov(getrecent(messageout(var[2], slide_msg_idx)))\n",
    "\n",
    "        m_u = circshift(m_u, -1)\n",
    "        m_u[end] = 0.0\n",
    "        V_u = circshift(V_u, -1)\n",
    "        V_u[end] = 1e-2\n",
    "\n",
    "        m_x = circshift(m_x, -1)\n",
    "        m_x[end] = 4.0\n",
    "        V_x = circshift(V_x, -1)\n",
    "        V_x[end] = 1e-2\n",
    "    end\n",
    "\n",
    "    return (compute, act, slide, future)    \n",
    "end"
   ]
  },
  {
   "cell_type": "markdown",
   "id": "afc6d374",
   "metadata": {},
   "source": [
    "The following cell executes the above defined Active Inference simulation."
   ]
  },
  {
   "cell_type": "code",
   "execution_count": 29,
   "id": "b17b2185",
   "metadata": {},
   "outputs": [
    {
     "data": {
      "text/plain": [
       "GraphPPL.ModelGenerator{typeof(mcar_model), Base.Pairs{Symbol, Int64, Tuple{Symbol}, @NamedTuple{T::Int64}}, GraphPPL.PluginsCollection{Tuple{}}, RxInfer.ReactiveMPGraphPPLBackend}(mcar_model, Base.Pairs(:T => 50), GraphPPL.PluginsCollection{Tuple{}}(()), RxInfer.ReactiveMPGraphPPLBackend())"
      ]
     },
     "execution_count": 29,
     "metadata": {},
     "output_type": "execute_result"
    }
   ],
   "source": [
    "# T_ai = 50 \n",
    "\n",
    "# # model  = mountain_car(\n",
    "# #     T = T_ai, \n",
    "# #     Fg = Fg, \n",
    "# #     Fa = Fa, \n",
    "# #     Ff = Ff, \n",
    "# #     engine_force_limit = engine_force_limit\n",
    "# # )\n",
    "\n",
    "# # # OG VERSION:\n",
    "# # model  = mountain_car(\n",
    "# #     T = T_ai\n",
    "# # )\n",
    "\n",
    "# # OG VERSION:\n",
    "# model  = mcar_model(\n",
    "#     T = T_ai\n",
    "# )"
   ]
  },
  {
   "cell_type": "code",
   "execution_count": 21,
   "id": "3d8e5f75",
   "metadata": {},
   "outputs": [
    {
     "data": {
      "text/plain": [
       "RxInfer.ReactiveMPGraphPPLBackend()"
      ]
     },
     "execution_count": 21,
     "metadata": {},
     "output_type": "execute_result"
    }
   ],
   "source": [
    "model.backend"
   ]
  },
  {
   "cell_type": "code",
   "execution_count": 40,
   "id": "aa741bfa",
   "metadata": {
    "scrolled": true
   },
   "outputs": [
    {
     "name": "stdout",
     "output_type": "stream",
     "text": [
      "before compute\n"
     ]
    },
    {
     "ename": "LoadError",
     "evalue": "MethodError: no method matching (::var\"#220#228\"{Int64})(::Float64, ::Vector{Float64})\n\n\u001b[0mClosest candidates are:\n\u001b[0m  (::var\"#220#228\")(::Float64, \u001b[91m::Float64\u001b[39m)\n\u001b[0m\u001b[90m   @\u001b[39m \u001b[33mMain\u001b[39m \u001b[90m\u001b[4mIn[39]:25\u001b[24m\u001b[39m\n",
     "output_type": "error",
     "traceback": [
      "MethodError: no method matching (::var\"#220#228\"{Int64})(::Float64, ::Vector{Float64})\n\n\u001b[0mClosest candidates are:\n\u001b[0m  (::var\"#220#228\")(::Float64, \u001b[91m::Float64\u001b[39m)\n\u001b[0m\u001b[90m   @\u001b[39m \u001b[33mMain\u001b[39m \u001b[90m\u001b[4mIn[39]:25\u001b[24m\u001b[39m\n",
      "",
      "Stacktrace:",
      " [1] top-level scope",
      "   @ ./In[40]:33"
     ]
    }
   ],
   "source": [
    "initial_position = 2.0\n",
    "\n",
    "(execute_ai, observe_ai) = create_world(\n",
    "    initial_position = initial_position, \n",
    "    initial_velocity = 0.0\n",
    ") # Let there be a world\n",
    "\n",
    "\n",
    "T_ai = 2\n",
    "\n",
    "(compute_ai, act_ai, slide_ai, future_ai) = create_agent(; # Let there be an agent\n",
    "    T = T_ai, \n",
    "    initial_position = initial_position\n",
    ") \n",
    "\n",
    "N_ai = 100\n",
    "\n",
    "# Step through experimental protocol\n",
    "agent_a = Vector{Float64}(undef, N_ai) # Actions\n",
    "agent_f = Vector{Vector{Float64}}(undef, N_ai) # Predicted future\n",
    "agent_x = Vector{Vector{Float64}}(undef, N_ai) # Observations\n",
    "\n",
    "# agent_a = Vector{Float64}(undef, N_ai) # Actions\n",
    "# agent_f = Vector{Float64}(undef, N_ai) # Predicted future\n",
    "# agent_x = Vector{Float64}(undef, N_ai) # Observations\n",
    "\n",
    "for t=1:N_ai\n",
    "    agent_a[t] = act_ai()               # Invoke an action from the agent\n",
    "    agent_f[t] = future_ai()            # Fetch the predicted future states\n",
    "    execute_ai(agent_a[t])              # The action influences hidden external states\n",
    "    agent_x[t] = observe_ai()           # Observe the current environmental outcome (update p)\n",
    "    \n",
    "    compute_ai(agent_a[t], agent_x[t])  # Infer beliefs from current model state (update q) ISSUE HERE !!!!!\n",
    "    \n",
    "    slide_ai()                          # Prepare for next iteration\n",
    "end\n",
    "\n",
    "println(\"\\nDo you see this line in the output?\\n\")\n",
    "\n",
    "animation_ai = @animate for i in 1:N_ai\n",
    "    # pls - plot landscape\n",
    "    pls = plot(z_values, T_values, title = \"Active inference results\", label = \"Temp Distribution\")\n",
    "    pls = scatter!(pls, [agent_x[i][1]], [0.5], color = :red, markershape = :diamond, label = \"thermostat\")\n",
    "    pls = scatter!(pls, [z_target], [T_target], color = :green, label = \"goal\")\n",
    "       \n",
    "    # omit this for now\n",
    "#     pls = scatter!(pls, agent_f[i], height.(agent_f[i]), label = \"Predicted future\", alpha = map(i -> 0.5 / i, 1:T_ai))\n",
    "    \n",
    "end\n",
    "    \n",
    "# The animation is saved and displayed as markdown picture for the automatic HTML generation\n",
    "gif(animation_ai, \"ai-thermostat-ai.gif\", fps = 24, show_msg = false)"
   ]
  },
  {
   "cell_type": "code",
   "execution_count": null,
   "id": "0682bec4",
   "metadata": {},
   "outputs": [],
   "source": [
    "# (execute_ai, observe_ai) = create_world(\n",
    "#     Fg = Fg, Ff = Ff, Fa = Fa, \n",
    "#     initial_position = initial_position, \n",
    "#     initial_velocity = initial_velocity\n",
    "# ) # Let there be a world\n",
    "\n",
    "# T_ai = 50 \n",
    "\n",
    "# (compute_ai, act_ai, slide_ai, future_ai) = create_agent(; # Let there be an agent\n",
    "#     T  = T_ai, \n",
    "#     Fa = Fa,\n",
    "#     Fg = Fg, \n",
    "#     Ff = Ff, \n",
    "#     engine_force_limit = engine_force_limit,\n",
    "#     x_target = x_target,\n",
    "#     initial_position = initial_position,\n",
    "#     initial_velocity = initial_velocity\n",
    "# ) \n",
    "\n",
    "# N_ai = 100\n",
    "\n",
    "# # Step through experimental protocol\n",
    "# agent_a = Vector{Float64}(undef, N_ai) # Actions\n",
    "# agent_f = Vector{Vector{Float64}}(undef, N_ai) # Predicted future\n",
    "# agent_x = Vector{Vector{Float64}}(undef, N_ai) # Observations\n",
    "\n",
    "# for t=1:N_ai\n",
    "#     agent_a[t] = act_ai()               # Invoke an action from the agent\n",
    "#     agent_f[t] = future_ai()            # Fetch the predicted future states\n",
    "#     execute_ai(agent_a[t])              # The action influences hidden external states\n",
    "#     agent_x[t] = observe_ai()           # Observe the current environmental outcome (update p)\n",
    "#     compute_ai(agent_a[t], agent_x[t])  # Infer beliefs from current model state (update q)\n",
    "#     slide_ai()                          # Prepare for next iteration\n",
    "# end\n",
    "\n",
    "# animation_ai = @animate for i in 1:N_ai\n",
    "#     # pls - plot landscape\n",
    "#     pls = plot(valley_x, valley_y, title = \"Active inference results\", label = \"Landscape\", color = \"black\")\n",
    "#     pls = scatter!(pls, [agent_x[i][1]], [height(agent_x[i][1])], label=\"car\")\n",
    "#     pls = scatter!(pls, [x_target[1]], [height(x_target[1])], label=\"goal\")   \n",
    "#     pls = scatter!(pls, agent_f[i], height.(agent_f[i]), label = \"Predicted future\", alpha = map(i -> 0.5 / i, 1:T_ai))\n",
    "    \n",
    "#     # pef - plot engine force\n",
    "#     pef = plot(Fa.(agent_a[1:i]), title = \"Engine force (agents actions)\", xlim = (0, N_ai), ylim = (-0.05, 0.05))\n",
    "    \n",
    "#     plot(pls, pef, size = (800, 400))\n",
    "# end\n",
    "    \n",
    "# # The animation is saved and displayed as markdown picture for the automatic HTML generation\n",
    "# gif(animation_ai, \"ai-mountain-car-ai.gif\", fps = 24, show_msg = false)"
   ]
  },
  {
   "cell_type": "code",
   "execution_count": 19,
   "id": "32ea59ed",
   "metadata": {},
   "outputs": [
    {
     "data": {
      "text/plain": [
       "infer (generic function with 1 method)"
      ]
     },
     "execution_count": 19,
     "metadata": {},
     "output_type": "execute_result"
    }
   ],
   "source": [
    "RxInfer.infer"
   ]
  },
  {
   "cell_type": "markdown",
   "id": "5c4046ed",
   "metadata": {},
   "source": [
    "## Former Notes"
   ]
  },
  {
   "cell_type": "markdown",
   "id": "861ed8d4",
   "metadata": {},
   "source": [
    "The \"main loop\" of the simulation will make use of the following 6 functions:  ```Act(), Future(), Execute(), Observe(), Compute()``` and ```Slide()```. This is at once, a conceptual modularisation of the simulation's sensor-motor loop, within which we shall actually implement specific Julia/RxInfer functions to fulfill each functionality. \n",
    "\n",
    "```infer()``` is a reserved method. What was formerly ```infer()``` is now ```Compute()```. Prior to version 3.0, this function was called ```inference()```. \n",
    "\n",
    "```Compute()```, as the highest level function, has a reserved function ```infer()``` inside it. \n",
    "\n",
    "The ```Execute()``` and ```Observe()``` functions are implemented on the Environment side of the sensor-motor loop. The reset are implemented on the Agent side of the loop. We shall define these two methods inside a single method: ```CreateWorld()```.\n",
    "\n",
    "\n",
    "```Compute()``` always calls the rxinfer “reserved” ```infer()``` function. Similarly, ```CreateAgent()```, defines/implements ```Act(), Future(), Compute()``` and ```Slide()```. This whole typology is an upper abstraction layer imposed conventionally upon RxInfer. "
   ]
  },
  {
   "cell_type": "code",
   "execution_count": null,
   "id": "1e709e05",
   "metadata": {},
   "outputs": [],
   "source": [
    "# # Intended to implement that found here:\n",
    "# # https://www.frontiersin.org/journals/robotics-and-ai/articles/10.3389/frobt.2019.00020/full\n",
    "# # should this take controls?\n",
    "# @model function thermostat_agent_model(\n",
    "#         m_u, V_u, # Control Distribution, supply these or not? \n",
    "#         m_x, V_x, # Observation Distribution, unecessary?\n",
    "#         m_s_t_min, V_s_t_min, # Hidden state Distribution\n",
    "#         T # Future time horizon\n",
    "#     )\n",
    "    \n",
    "#     # Internal model perameters\n",
    "#     Gamma = 1e4*diageye(2) # Transition precision\n",
    "#     Theta = 1e-4*diageye(2) # Observation variance\n",
    "\n",
    "#     s_t_min ~ Normal(mean = m_s_t_min, variance = V_s_t_min)\n",
    "#     s_k_min = s_t_min\n",
    "\n",
    "#     local s\n",
    "    \n",
    "#     for k in 1:T\n",
    "#         u[k] ~ Normal(mean = m_u[k], variance = V_u[k]) # p(u_k)\n",
    "        \n",
    "# #         u_h_k[k] ~ h(u[k]) where { meta = DeltaMeta(method = Linearization(), inverse = h_inv) } # h(u_k)\n",
    "# #         s_g_k[k] ~ state_trans(s_k_min) where { meta = DeltaMeta(method = Linearization()) } # state-transition\n",
    "# #         u_s_sum[k] ~ s_g_k[k] + u_h_k[k] # transition dynamics\n",
    "        \n",
    "#         u_s_sum[k] := s_g_k[k] + u_h_k[k] # transition dynamics\n",
    "#         s[k] ~ Normal(mean = u_s_sum[k], variance = Gamma) # p(s_k | s_{k-1}, u_k)\n",
    "#         x[k] ~ Normal(mean = s[k], variance = Theta) # observation model\n",
    "#         x[k] ~ Normal(mean = m_x[k], variance = V_x[k]) # goal observation: p'(x_k) may be unecessary \n",
    "# #         x[k] ~ Normal(mean = 4.0, variance = 1e-2) # may just need this\n",
    "#         s_k_min = s[k] # previous state update\n",
    "#     end\n",
    "    \n",
    "#     return (s, )\n",
    "# end\n",
    "\n",
    "\n",
    "# # OG MOUNTAIN CAR\n",
    "# @model function mountain_car(\n",
    "#         m_u, V_u, # Control Distribution\n",
    "#         m_x, V_x, # Observation Distribution\n",
    "#         m_s_t_min, V_s_t_min, # Hidden state Distribution\n",
    "#         T # Future time horizon\n",
    "#     )\n",
    "    \n",
    "#     # Internal model perameters\n",
    "#     Gamma = 1e4*diageye(2) # Transition precision\n",
    "#     Theta = 1e-4*diageye(2) # Observation variance\n",
    "\n",
    "#     s_t_min ~ MvNormal(mean = m_s_t_min, cov = V_s_t_min)\n",
    "#     s_k_min = s_t_min\n",
    "\n",
    "#     local s\n",
    "    \n",
    "#     for k in 1:T\n",
    "#         u[k] ~ MvNormal(mean = m_u[k], cov = V_u[k]) # p(u_k)\n",
    "        \n",
    "#         u_h_k[k] ~ h(u[k]) where { meta = DeltaMeta(method = Linearization(), inverse = h_inv) } # h(u_k)\n",
    "#         s_g_k[k] ~ state_trans(s_k_min) where { meta = DeltaMeta(method = Linearization()) } # state-transition\n",
    "        \n",
    "#         u_s_sum[k] ~ s_g_k[k] + u_h_k[k] # transition dynamics\n",
    "#         s[k] ~ MvNormal(mean = u_s_sum[k], precision = Gamma) # p(s_k | s_{k-1}, u_k)\n",
    "#         x[k] ~ MvNormal(mean = s[k], cov = Theta) # observation model\n",
    "#         x[k] ~ MvNormal(mean = m_x[k], cov = V_x[k]) # goal observation: p'(x_k)\n",
    "#         s_k_min = s[k] # previous state update\n",
    "#     end\n",
    "    \n",
    "#     return (s, )\n",
    "# end"
   ]
  },
  {
   "cell_type": "code",
   "execution_count": null,
   "id": "2540c2f5",
   "metadata": {},
   "outputs": [],
   "source": [
    "# @model function mcar_model(\n",
    "#         m_u, V_u, # Control Distribution\n",
    "#         m_x, V_x, # Observation Distribution\n",
    "#         m_s_t_min, V_s_t_min, # Hidden state Distribution\n",
    "#         x_target,\n",
    "#         T\n",
    "#     )\n",
    "\n",
    "#     # extract car properties - REMOVED\n",
    "    \n",
    "#     # Internal model perameters\n",
    "#     state_trans_prec_Gamma = 1e4*diageye(2) # Transition precision\n",
    "#     obs_var_Theta = 1e-4*diageye(2) # Observation variance\n",
    "\n",
    "#     # initial state prior\n",
    "#     s[1] ~ MvNormal(\n",
    "#         mean = m_s_t_min[1], \n",
    "#         covariance = V_s_t_min[1]\n",
    "#     )\n",
    "    \n",
    "#     # observation model:\n",
    "#     x[1] ~ MvNormal(\n",
    "#         mean = m_x[1],\n",
    "#         covariance = V_x[1]\n",
    "#     )\n",
    "    \n",
    "#     local s\n",
    "\n",
    "#     for i in 1:T\n",
    "\n",
    "#         # prior on throttle (control)\n",
    "#         u[i] ~ MvNormal(\n",
    "#             mean = m_u[i],\n",
    "#             cov = V_u[i]\n",
    "#         )\n",
    "        \n",
    "#         # control-model\n",
    "#         u_control[i] ~ control(u[i]) where {\n",
    "#             meta = DeltaMeta(\n",
    "#                 method = Linearization(), \n",
    "#                 inverse = inv_control\n",
    "#             )\n",
    "#         } # same meta as in the existing example\n",
    "            \n",
    "#         # state transition function:\n",
    "#         state_trans[i] := state_trans(\n",
    "#             s[i]\n",
    "#         ) where {\n",
    "#             meta = DeltaMeta(\n",
    "#                 method = Linearization()\n",
    "#             )\n",
    "#         }\n",
    "        \n",
    "#         # additive control effect on states:\n",
    "#         u_s_sum[i] ~ state_trans[i] + u_control[i]\n",
    "\n",
    "#         # state model update - with additive controls:\n",
    "#         s[i + 1] ~ MvNormal(\n",
    "#             mean = u_s_sum[i],\n",
    "#             precision = state_trans_prec_Gamma\n",
    "#         )\n",
    "        \n",
    "#         # observation model:\n",
    "#         x[i + 1] ~ MvNormal(\n",
    "#             mean = s[i + 1],\n",
    "#             covariance = obs_var_Theta\n",
    "#         )\n",
    "        \n",
    "#     end\n",
    "\n",
    "#     s[end] ~ MvNormal(\n",
    "#         mean = x_target, \n",
    "#         covariance = 1e-5 * [1.0 0.0; 0.0 1.0]\n",
    "#     )\n",
    "    \n",
    "#     x[end] ~ MvNormal(\n",
    "#         mean = s[end],\n",
    "#         covariance = 1e-10 * [1.0 0.0; 0.0 1.0]\n",
    "#     )\n",
    "    \n",
    "#     return (s, )\n",
    "\n",
    "# end"
   ]
  },
  {
   "cell_type": "code",
   "execution_count": null,
   "id": "0012e992",
   "metadata": {},
   "outputs": [],
   "source": [
    "# # We are going to use some private functionality from ReactiveMP, \n",
    "# # in the future we should expose a proper API for this\n",
    "# import RxInfer.ReactiveMP: getrecent, messageout\n",
    "\n",
    "# function create_agent(;T = 20, Fg, Fa, Ff, engine_force_limit, x_target, initial_position, initial_velocity)\n",
    "    \n",
    "#     # Set the control priors\n",
    "#     Epsilon = fill(huge, 1, 1)                 # Control prior variance value\n",
    "#     m_u = Vector{Float64}[ [ 0.0] for k=1:T ]  # Control prior means\n",
    "#     V_u = Matrix{Float64}[ Epsilon for k=1:T ] # Control prior variances\n",
    "    \n",
    "#     # Set the goal priors\n",
    "#     Sigma    = 1e-4*diageye(2) # Goal prior variance\n",
    "#     m_x      = [zeros(2) for k=1:T]\n",
    "#     V_x      = [huge*diageye(2) for k=1:T]\n",
    "#     V_x[end] = Sigma # Set prior to reach goal at t=T\n",
    "\n",
    "#     # Set initial brain state prior\n",
    "#     m_s_t_min = [initial_position, initial_velocity] \n",
    "#     V_s_t_min = tiny * diageye(2)\n",
    "    \n",
    "# #     # goal state - position, velocity:\n",
    "# #     goal_state = [0.5, 0.0]\n",
    "    \n",
    "#     # Set current inference results\n",
    "#     result = nothing\n",
    "\n",
    "#     # The `infer` function is the heart of the agent\n",
    "#     # It calls the `RxInfer.inference` function to perform Bayesian inference by message passing\n",
    "#     compute = (upsilon_t::Float64, y_hat_t::Vector{Float64}) -> begin\n",
    "#         m_u[1] = [ upsilon_t ] # Register action with the generative model\n",
    "#         V_u[1] = fill(tiny, 1, 1) # Clamp control prior to performed action\n",
    "\n",
    "#         m_x[1] = y_hat_t # Register observation with the generative model\n",
    "#         V_x[1] = tiny*diageye(2) # Clamp goal prior to observation\n",
    "\n",
    "#         data = Dict(\n",
    "#             :m_u       => m_u, \n",
    "#             :V_u       => V_u, \n",
    "#             :m_x       => m_x, \n",
    "#             :V_x       => V_x,\n",
    "#             :m_s_t_min => m_s_t_min,\n",
    "#             :V_s_t_min => V_s_t_min,\n",
    "#             :x_target => x_target # added\n",
    "#         )\n",
    "        \n",
    "# #         model  = mountain_car(\n",
    "# #             T = T\n",
    "# #         )\n",
    "        \n",
    "#         model  = mcar_model(\n",
    "#             T = T\n",
    "#         )\n",
    "        \n",
    "#         result = infer(\n",
    "#             model = model, \n",
    "#             data = data\n",
    "#         )\n",
    "#     end\n",
    "    \n",
    "#     # The `act` function returns the inferred best possible action\n",
    "#     act = () -> begin\n",
    "#         if result !== nothing\n",
    "#             return mode(result.posteriors[:u][2])[1]\n",
    "#         else\n",
    "#             return 0.0 # Without inference result we return some 'random' action\n",
    "#         end\n",
    "#     end\n",
    "    \n",
    "#     # The `future` function returns the inferred future states\n",
    "#     future = () -> begin \n",
    "#         if result !== nothing \n",
    "#             return getindex.(mode.(result.posteriors[:s]), 1)\n",
    "#         else\n",
    "#             return zeros(T)\n",
    "#         end\n",
    "#     end\n",
    "\n",
    "#     # The `slide` function modifies the `(m_s_t_min, V_s_t_min)` for the next step\n",
    "#     # and shifts (or slides) the array of future goals `(m_x, V_x)` and inferred actions `(m_u, V_u)`\n",
    "#     slide = () -> begin\n",
    "\n",
    "#         model  = RxInfer.getmodel(result.model)\n",
    "#         (s, )  = RxInfer.getreturnval(model)\n",
    "#         varref = RxInfer.getvarref(model, s) \n",
    "#         var    = RxInfer.getvariable(varref)\n",
    "        \n",
    "#         slide_msg_idx = 3 # This index is model dependend\n",
    "#         (m_s_t_min, V_s_t_min) = mean_cov(getrecent(messageout(var[2], slide_msg_idx)))\n",
    "\n",
    "#         m_u = circshift(m_u, -1)\n",
    "#         m_u[end] = [0.0]\n",
    "#         V_u = circshift(V_u, -1)\n",
    "#         V_u[end] = Epsilon\n",
    "\n",
    "#         m_x = circshift(m_x, -1)\n",
    "#         m_x[end] = x_target\n",
    "#         V_x = circshift(V_x, -1)\n",
    "#         V_x[end] = Sigma\n",
    "#     end\n",
    "\n",
    "#     return (compute, act, slide, future)    \n",
    "# end"
   ]
  }
 ],
 "metadata": {
  "kernelspec": {
   "display_name": "Julia 1.10.4",
   "language": "julia",
   "name": "julia-1.10"
  },
  "language_info": {
   "file_extension": ".jl",
   "mimetype": "application/julia",
   "name": "julia",
   "version": "1.10.4"
  }
 },
 "nbformat": 4,
 "nbformat_minor": 5
}
