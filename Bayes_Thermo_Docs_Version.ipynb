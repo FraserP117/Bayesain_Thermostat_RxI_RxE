{
 "cells": [
  {
   "cell_type": "code",
   "execution_count": 1,
   "id": "65f8e30a",
   "metadata": {},
   "outputs": [
    {
     "data": {
      "text/plain": [
       "add_temperature! (generic function with 1 method)"
      ]
     },
     "execution_count": 1,
     "metadata": {},
     "output_type": "execute_result"
    }
   ],
   "source": [
    "using RxEnvironments\n",
    "using Distributions\n",
    "\n",
    "# Empty agent, could contain states as well\n",
    "struct ThermostatAgent end\n",
    "\n",
    "mutable struct BayesianThermostat{T}\n",
    "    temperature::T\n",
    "    min_temp::T\n",
    "    max_temp::T\n",
    "end\n",
    "\n",
    "# Helper functions\n",
    "temperature(env::BayesianThermostat) = env.temperature\n",
    "min_temp(env::BayesianThermostat) = env.min_temp\n",
    "max_temp(env::BayesianThermostat) = env.max_temp\n",
    "noise(env::BayesianThermostat) = Normal(0.0, 0.1)\n",
    "set_temperature!(env::BayesianThermostat, temp::Real) = env.temperature = temp\n",
    "function add_temperature!(env::BayesianThermostat, diff::Real)\n",
    "    env.temperature += diff\n",
    "    if temperature(env) < min_temp(env)\n",
    "        set_temperature!(env, min_temp(env))\n",
    "    elseif temperature(env) > max_temp(env)\n",
    "        set_temperature!(env, max_temp(env))\n",
    "    end\n",
    "end"
   ]
  },
  {
   "cell_type": "code",
   "execution_count": 2,
   "id": "f0fbd141",
   "metadata": {},
   "outputs": [],
   "source": [
    "# When the environment receives an action from the agent, we add the value of the action to the environment temperature.\n",
    "RxEnvironments.receive!(\n",
    "    recipient::BayesianThermostat, \n",
    "    emitter::ThermostatAgent, \n",
    "    action::Real\n",
    ") = add_temperature!(recipient, action)\n",
    "\n",
    "# The environment sends a noisy observation of the temperature to the agent.\n",
    "RxEnvironments.what_to_send(\n",
    "    recipient::ThermostatAgent, \n",
    "    emitter::BayesianThermostat\n",
    ") = temperature(emitter) + rand(noise(emitter))\n",
    "\n",
    "# The environment cools down over time.\n",
    "RxEnvironments.update!(\n",
    "    env::BayesianThermostat, \n",
    "    elapsed_time\n",
    ")= add_temperature!(env, -0.1 * elapsed_time)"
   ]
  },
  {
   "cell_type": "code",
   "execution_count": 3,
   "id": "88c2a5de",
   "metadata": {},
   "outputs": [
    {
     "data": {
      "text/plain": [
       "Continuous RxEntity{BayesianThermostat{Float64}}"
      ]
     },
     "execution_count": 3,
     "metadata": {},
     "output_type": "execute_result"
    }
   ],
   "source": [
    "# environment = RxEnvironment(\n",
    "#     BayesianThermostat(0.0, -10.0, 10.0);\n",
    "#     emit_every_ms = 900\n",
    "# )\n",
    "\n",
    "environment = create_entity(BayesianThermostat(0.0, -10.0, 10.0); is_discrete=false, is_active=true)"
   ]
  },
  {
   "cell_type": "code",
   "execution_count": 4,
   "id": "9d1b5285",
   "metadata": {},
   "outputs": [
    {
     "data": {
      "text/plain": [
       "Continuous RxEntity{ThermostatAgent}"
      ]
     },
     "execution_count": 4,
     "metadata": {},
     "output_type": "execute_result"
    }
   ],
   "source": [
    "agent = add!(environment, ThermostatAgent())"
   ]
  },
  {
   "cell_type": "code",
   "execution_count": 5,
   "id": "f10ab8f7",
   "metadata": {},
   "outputs": [
    {
     "data": {
      "text/plain": [
       "RxEnvironments.RxEntity{ThermostatAgent, RxEnvironments.ContinuousEntity, RxEnvironments.PassiveEntity, Any}"
      ]
     },
     "execution_count": 5,
     "metadata": {},
     "output_type": "execute_result"
    }
   ],
   "source": [
    "typeof(agent)"
   ]
  },
  {
   "cell_type": "code",
   "execution_count": 6,
   "id": "3c3880d6",
   "metadata": {},
   "outputs": [
    {
     "data": {
      "text/plain": [
       "RxEnvironments.RxEntity{BayesianThermostat{Float64}, RxEnvironments.ContinuousEntity, RxEnvironments.ActiveEntity, Any}"
      ]
     },
     "execution_count": 6,
     "metadata": {},
     "output_type": "execute_result"
    }
   ],
   "source": [
    "typeof(environment)"
   ]
  },
  {
   "cell_type": "code",
   "execution_count": 7,
   "id": "25cd123e",
   "metadata": {},
   "outputs": [
    {
     "name": "stdout",
     "output_type": "stream",
     "text": [
      "[LogActor] Data: -1.0528827140390709\n",
      "[LogActor] Data: 0.04970466045173649\n",
      "[LogActor] Data: 0.315747687471174\n",
      "[LogActor] Data: 1.1156524094142382\n",
      "[LogActor] Data: 1.442781287385217\n",
      "[LogActor] Data: 1.342729673009397\n",
      "[LogActor] Data: 1.2490263921010962\n",
      "[LogActor] Data: 1.7959385166664825\n",
      "[LogActor] Data: 2.0349544318425377\n",
      "[LogActor] Data: 2.247610860675016\n"
     ]
    }
   ],
   "source": [
    "# Subscribe a logger actor to the observations of the agent\n",
    "RxEnvironments.subscribe_to_observations!(agent, RxEnvironments.logger())\n",
    "\n",
    "# Conduct 10 actions:\n",
    "for i in 1:10\n",
    "    action = rand()\n",
    "    RxEnvironments.send!(environment, agent, action)\n",
    "    sleep(1)\n",
    "end"
   ]
  },
  {
   "cell_type": "code",
   "execution_count": null,
   "id": "179f8a61",
   "metadata": {},
   "outputs": [],
   "source": []
  }
 ],
 "metadata": {
  "kernelspec": {
   "display_name": "Julia 1.10.5",
   "language": "julia",
   "name": "julia-1.10"
  },
  "language_info": {
   "file_extension": ".jl",
   "mimetype": "application/julia",
   "name": "julia",
   "version": "1.10.5"
  }
 },
 "nbformat": 4,
 "nbformat_minor": 5
}
